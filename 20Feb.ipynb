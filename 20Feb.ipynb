{
 "cells": [
  {
   "cell_type": "code",
   "execution_count": null,
   "id": "90d1b1cc-9c0a-4d64-951a-c0912f273219",
   "metadata": {},
   "outputs": [],
   "source": [
    "Q1. Explain GET and POST methods.\n",
    "GET Method:\n",
    "\n",
    "Purpose: Used to request data from a specified resource.\n",
    "Characteristics:\n",
    "The data is sent in the URL.\n",
    "Parameters are visible to everyone (in URL).\n",
    "Can be cached.\n",
    "Remains in browser history.\n",
    "Can be bookmarked.\n",
    "Should be used only to retrieve data.\n",
    "\n",
    "POST Method:\n",
    "\n",
    "Purpose: Used to send data to a server to create/update a resource.\n",
    "Characteristics:\n",
    "Data is sent in the body of the request.\n",
    "Parameters are not visible in the URL.\n",
    "Cannot be cached.\n",
    "Does not remain in browser history.\n",
    "Cannot be bookmarked.\n",
    "Should be used to handle sensitive data and operations that modify data.\n",
    "\n",
    "Q2. Why is request used in Flask?\n",
    "The request object in Flask is used to access incoming request data.\n",
    "It provides methods and properties to access data sent by the client, such as form data, query parameters, headers, cookies, and more.\n",
    "\n",
    "Q3. Why is redirect() used in Flask?\n",
    "The redirect() function in Flask is used to redirect the client to a different URL.\n",
    "It is useful when you want to guide users to another route after completing an action, such as form submission.\n",
    "\n",
    "Q4. What are templates in Flask? Why is the render_template() function used?\n",
    "Templates in Flask:\n",
    "Templates are used to create dynamic HTML content in Flask. Flask uses the Jinja2 templating engine to render templates. Templates allow you to use placeholders \n",
    "for dynamic content and control structures like loops and conditionals.\n",
    "\n",
    "Q5. Create a simple API. Use Postman to test it. Attach the screenshot of the output in the Jupyter Notebook.\n",
    "from flask import Flask, jsonify, request\n",
    "\n",
    "app = Flask(__name__)\n",
    "\n",
    "@app.route('/api/data', methods=['GET', 'POST'])\n",
    "def api_data():\n",
    "    if request.method == 'POST':\n",
    "        data = request.get_json()\n",
    "        return jsonify({\"message\": \"Data received\", \"data\": data})\n",
    "    else:\n",
    "        return jsonify({\"message\": \"Send a POST request with JSON data\"})\n",
    "\n",
    "if __name__ == '__main__':\n",
    "    app.run(debug=True)"
   ]
  }
 ],
 "metadata": {
  "kernelspec": {
   "display_name": "Python 3 (ipykernel)",
   "language": "python",
   "name": "python3"
  },
  "language_info": {
   "codemirror_mode": {
    "name": "ipython",
    "version": 3
   },
   "file_extension": ".py",
   "mimetype": "text/x-python",
   "name": "python",
   "nbconvert_exporter": "python",
   "pygments_lexer": "ipython3",
   "version": "3.10.8"
  }
 },
 "nbformat": 4,
 "nbformat_minor": 5
}
