{
 "cells": [
  {
   "cell_type": "code",
   "execution_count": null,
   "id": "10213865-2c63-49ff-9015-3fef802c6280",
   "metadata": {},
   "outputs": [],
   "source": [
    "Q1. Create a function which will take a list as an argument and return the product of all the numbers\n",
    "after creating a flat list.\n",
    "Use the below-given list as an argument for your function.\n",
    "list1 = [1,2,3,4, [44,55,66, True], False, (34,56,78,89,34), {1,2,3,3,2,1}, {1:34, \"key2\": [55, 67, 78, 89], 4: (45,\n",
    "22, 61, 34)}, [56, 'data science'], 'Machine Learning']\n",
    "Note: you must extract numeric keys and values of the dictionary also.\n"
   ]
  },
  {
   "cell_type": "code",
   "execution_count": 2,
   "id": "f2ba24e5-828d-47f2-a853-e831e7eb8808",
   "metadata": {},
   "outputs": [
    {
     "name": "stdout",
     "output_type": "stream",
     "text": [
      "0\n"
     ]
    }
   ],
   "source": [
    "def flatten_and_product(nested_list):\n",
    "    def flatten(lst):\n",
    "        for item in lst:\n",
    "            if isinstance(item, (list, tuple, set)):\n",
    "                yield from flatten(item)\n",
    "            elif isinstance(item, dict):\n",
    "                for key, value in item.items():\n",
    "                    if isinstance(key, (int, float)):\n",
    "                        yield key\n",
    "                    if isinstance(value, (int, float)):\n",
    "                        yield value\n",
    "                    elif isinstance(value, (list, tuple, set)):\n",
    "                        yield from flatten(value)\n",
    "            elif isinstance(item, (int, float)):\n",
    "                yield item\n",
    "\n",
    "    flat_list = list(flatten(nested_list))\n",
    "    product = 1\n",
    "    for num in flat_list:\n",
    "        product *= num\n",
    "    return product\n",
    "\n",
    "# Example usage\n",
    "list1 = [\n",
    "    1, 2, 3, 4, \n",
    "    [44, 55, 66, True], \n",
    "    False, \n",
    "    (34, 56, 78, 89, 34), \n",
    "    {1, 2, 3, 3, 2, 1}, \n",
    "    {1: 34, \"key2\": [55, 67, 78, 89], 4: (45, 22, 61, 34)}, \n",
    "    [56, 'data science'], \n",
    "    'Machine Learning'\n",
    "]\n",
    "\n",
    "result = flatten_and_product(list1)\n",
    "print(result)\n"
   ]
  },
  {
   "cell_type": "code",
   "execution_count": null,
   "id": "478016ac-fcd6-4d9d-9364-aa493266163f",
   "metadata": {},
   "outputs": [],
   "source": [
    "Q2. Write a python program for encrypting a message sent to you by your friend. The logic of encryption\n",
    "should be such that, for a the output should be z. For b, the output should be y. For c, the output should\n",
    "be x respectively. Also, the whitespace should be replaced with a dollar sign. Keep the punctuation\n",
    "marks unchanged.\n",
    "Input Sentence: I want to become a Data Scientist.\n",
    "Encrypt the above input sentence using the program you just created.\n",
    "Note: Convert the given input sentence into lowercase before encrypting. The final output should be\n",
    "lowercase."
   ]
  },
  {
   "cell_type": "code",
   "execution_count": null,
   "id": "9c0e3a74-59fb-40ba-b3ec-3746e1e77c16",
   "metadata": {},
   "outputs": [],
   "source": []
  },
  {
   "cell_type": "code",
   "execution_count": null,
   "id": "ce0f62dc-b112-4b5e-928d-cdfeb1b02a5d",
   "metadata": {},
   "outputs": [],
   "source": []
  },
  {
   "cell_type": "code",
   "execution_count": null,
   "id": "e3ec8cfd-9957-4f52-a767-b374675dab45",
   "metadata": {},
   "outputs": [],
   "source": []
  },
  {
   "cell_type": "code",
   "execution_count": null,
   "id": "02bb65a8-a7c5-40e4-8915-6085b91a75ef",
   "metadata": {},
   "outputs": [],
   "source": []
  }
 ],
 "metadata": {
  "kernelspec": {
   "display_name": "Python 3 (ipykernel)",
   "language": "python",
   "name": "python3"
  },
  "language_info": {
   "codemirror_mode": {
    "name": "ipython",
    "version": 3
   },
   "file_extension": ".py",
   "mimetype": "text/x-python",
   "name": "python",
   "nbconvert_exporter": "python",
   "pygments_lexer": "ipython3",
   "version": "3.10.8"
  }
 },
 "nbformat": 4,
 "nbformat_minor": 5
}
