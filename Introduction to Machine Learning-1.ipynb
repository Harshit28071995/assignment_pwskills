{
 "cells": [
  {
   "cell_type": "markdown",
   "id": "a5e87880-d8a1-4ab7-9f7a-c920e4c60f7f",
   "metadata": {},
   "source": [
    "Q1: Explain the following with examples:\n",
    "\n",
    "a) Artificial Intelligence (AI)\n",
    "\n",
    "Artificial Intelligence (AI) refers to the field of computer science focused on creating systems capable of performing tasks that typically require human intelligence. This includes problem-solving, learning, reasoning, and understanding natural language.\n",
    "Example: AI systems like Google's search algorithm, which uses complex models to provide relevant search results based on user queries.\n",
    "\n",
    "b) Machine Learning (ML)\n",
    "\n",
    "Machine Learning (ML) is a subset of AI where algorithms are designed to learn from and make predictions or decisions based on data. ML models improve their performance over time as they are exposed to more data.\n",
    "Example: Recommendation systems on e-commerce websites that suggest products based on a user’s browsing history.\n",
    "\n",
    "c) Deep Learning (DL)\n",
    "\n",
    "Deep Learning (DL) is a subset of ML that uses artificial neural networks with many layers (hence \"deep\") to analyze and interpret complex data patterns. It is especially useful for tasks involving large datasets and high-dimensional data.\n",
    "Example: Image recognition systems that can classify and detect objects within images, like those used in facial recognition technology."
   ]
  },
  {
   "cell_type": "markdown",
   "id": "79121fe2-5f7e-4ebc-ba95-6a0f71033705",
   "metadata": {},
   "source": [
    "Q2: What is supervised learning? List some examples of supervised learning.\n",
    "\n",
    "Supervised Learning is a type of machine learning where the model is trained on labeled data, meaning each training example is paired with an output label. The goal is to learn a mapping from inputs to outputs.\n",
    "\n",
    "Examples of Supervised Learning:\n",
    "\n",
    "Classification: Identifying whether an email is spam or not spam.\n",
    "Regression: Predicting house prices based on features such as size, location, and number of bedrooms."
   ]
  },
  {
   "cell_type": "markdown",
   "id": "71aebd8b-75e0-4164-b6e8-7e625e0e21ed",
   "metadata": {},
   "source": [
    "Q3: What is unsupervised learning? List some examples of unsupervised learning.\n",
    "\n",
    "Unsupervised Learning involves training a model on unlabeled data to uncover hidden patterns or intrinsic structures within the data. The model identifies patterns without predefined labels.\n",
    "\n",
    "Examples of Unsupervised Learning:\n",
    "\n",
    "Clustering: Grouping customers into segments based on purchasing behavior.\n",
    "Dimensionality Reduction: Reducing the number of features in a dataset while preserving important information, such as using PCA for visualizing high-dimensional data."
   ]
  },
  {
   "cell_type": "markdown",
   "id": "acbffd5e-d379-45a0-8799-07c0ec9b1020",
   "metadata": {},
   "source": [
    "Q4: What is the difference between AI, ML, DL, and DS?\n",
    "\n",
    "Artificial Intelligence (AI): A broad field encompassing any technique that enables machines to simulate human intelligence. It includes various approaches, including machine learning.\n",
    "\n",
    "Machine Learning (ML): A subset of AI focusing on algorithms that learn from and make predictions or decisions based on data.\n",
    "\n",
    "Deep Learning (DL): A subset of ML that involves neural networks with many layers, suitable for handling complex data such as images and text.\n",
    "\n",
    "Data Science (DS): An interdisciplinary field that combines scientific methods, algorithms, and systems to extract insights and knowledge from data. It includes elements of statistics, machine learning, and data analysis."
   ]
  },
  {
   "cell_type": "markdown",
   "id": "2c8e258a-f7d5-4426-9821-df328e9563c8",
   "metadata": {},
   "source": [
    "Q5: What are the main differences between supervised, unsupervised, and semi-supervised learning?\n",
    "\n",
    "Supervised Learning: Uses labeled data to train models that learn to map inputs to known outputs.\n",
    "Unsupervised Learning: Uses unlabeled data to find hidden patterns or structures without predefined labels.\n",
    "Semi-Supervised Learning: Combines a small amount of labeled data with a large amount of unlabeled data to improve learning accuracy compared to using only labeled data."
   ]
  },
  {
   "cell_type": "markdown",
   "id": "db467247-9aca-4b76-8eeb-6c936e34a84b",
   "metadata": {},
   "source": [
    "Q6: What are train, test, and validation splits? Explain the importance of each term.\n",
    "\n",
    "Train Split: The portion of data used to train the model, allowing it to learn patterns and relationships. It typically constitutes the majority of the dataset.\n",
    "Validation Split: The portion of data used to fine-tune hyperparameters and select the best model during training. It helps in evaluating the model’s performance on unseen data and preventing overfitting.\n",
    "Test Split: The portion of data used to assess the final model’s performance. It provides an unbiased evaluation of how the model performs on new, unseen data."
   ]
  },
  {
   "cell_type": "markdown",
   "id": "ed749da7-15f4-4d99-a947-f0af14246d6d",
   "metadata": {},
   "source": [
    "Q7: How can unsupervised learning be used in anomaly detection?\n",
    "\n",
    "Unsupervised Learning can be applied to anomaly detection by identifying data points that deviate significantly from established patterns or clusters in the data. Techniques include:\n",
    "\n",
    "Clustering: Detecting outliers that do not fit well into any cluster.\n",
    "Dimensionality Reduction: Identifying anomalies based on their distance from the reduced-dimensional space."
   ]
  },
  {
   "cell_type": "markdown",
   "id": "a0422072-9de5-468b-860c-ec1ef829f59a",
   "metadata": {},
   "source": [
    "Q8: List some commonly used supervised learning algorithms and unsupervised learning algorithms.\n",
    "\n",
    "Supervised Learning Algorithms:\n",
    "Linear Regression\n",
    "Logistic Regression\n",
    "Decision Trees\n",
    "Random Forests\n",
    "Support Vector Machines (SVM)\n",
    "K-Nearest Neighbors (KNN)\n",
    "Neural Networks\n",
    "\n",
    "\n",
    "Unsupervised Learning Algorithms:\n",
    "K-Means Clustering\n",
    "Hierarchical Clustering\n",
    "Principal Component Analysis (PCA)\n",
    "Independent Component Analysis (ICA)\n",
    "t-Distributed Stochastic Neighbor Embedding (t-SNE)\n",
    "Autoencoders"
   ]
  }
 ],
 "metadata": {
  "kernelspec": {
   "display_name": "Python 3 (ipykernel)",
   "language": "python",
   "name": "python3"
  },
  "language_info": {
   "codemirror_mode": {
    "name": "ipython",
    "version": 3
   },
   "file_extension": ".py",
   "mimetype": "text/x-python",
   "name": "python",
   "nbconvert_exporter": "python",
   "pygments_lexer": "ipython3",
   "version": "3.10.8"
  }
 },
 "nbformat": 4,
 "nbformat_minor": 5
}
