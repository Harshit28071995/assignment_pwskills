{
 "cells": [
  {
   "cell_type": "code",
   "execution_count": null,
   "id": "39b6ffec-c7de-4e4d-8d7b-bfc75be6b589",
   "metadata": {},
   "outputs": [],
   "source": [
    "Q1. Explain the difference between simple linear regression and multiple linear regression. Provide an\n",
    "example of each.\n",
    "Simple Linear Regression:\n",
    "\n",
    "Definition: Models the relationship between two variables by fitting a linear equation to observed data. It involves one independent variable (predictor) and one dependent variable (response).\n",
    "Multiple Linear Regression:\n",
    "\n",
    "Definition: Models the relationship between one dependent variable and two or more independent variables. It extends simple linear regression by considering multiple predictors.\n",
    "\n",
    "Q2. Discuss the assumptions of linear regression. How can you check whether these assumptions hold in\n",
    "a given dataset?\n",
    "Linearity: The relationship between the independent and dependent variables is linear.\n",
    "Check: Scatter plots and residual plots.\n",
    "Independence: Observations are independent of each other.\n",
    "Check: Durbin-Watson test for autocorrelation.\n",
    "Homoscedasticity: Constant variance of errors.\n",
    "Check: Residuals vs. fitted values plot.\n",
    "Normality of Errors: Errors should be normally distributed.\n",
    "Check: Q-Q plot or histogram of residuals.\n",
    "No Multicollinearity: Independent variables are not highly correlated.\n",
    "Check: Variance Inflation Factor (VIF) or correlation matrix.\n",
    "\n",
    "Q3. How do you interpret the slope and intercept in a linear regression model? Provide an example using\n",
    "a real-world scenario.\n",
    "Intercept : The value of the dependent variable when all independent variables are zero. It represents the starting point of the line.\n",
    "Slope: The change in the dependent variable for a one-unit change in the independent variable. It represents the rate of change.\n",
    "\n",
    "Q4. Explain the concept of gradient descent. How is it used in machine learning?\n",
    "Concept:\n",
    "\n",
    "Gradient Descent: An optimization algorithm used to minimize the cost function in machine learning models. It iteratively adjusts the model parameters to find the minimum of the loss function.\n",
    "Q5. Describe the multiple linear regression model. How does it differ from simple linear regression?\n",
    "Description:\n",
    "\n",
    "Multiple Linear Regression models the relationship between a dependent variable and multiple independent variables. It extends simple linear regression by accounting for more predictors.\n",
    "Q6. Explain the concept of multicollinearity in multiple linear regression. How can you detect and\n",
    "address this issue?\n",
    "Concept:\n",
    "\n",
    "Multicollinearity: Occurs when independent variables in a regression model are highly correlated, leading to unreliable estimates of regression coefficients.\n",
    "Q7. Describe the polynomial regression model. How is it different from linear regression?\n",
    "Concept:\n",
    "\n",
    "Polynomial Regression: A type of regression where the relationship between the independent and dependent variables is modeled as an nth-degree polynomial.\n",
    "Q8. What are the advantages and disadvantages of polynomial regression compared to linear\n",
    "regression? In what situations would you prefer to use polynomial regression?\n",
    "Advantages:\n",
    "\n",
    "Captures Non-Linear Relationships: Can model complex relationships that linear regression cannot.\n",
    "Flexibility: Allows for fitting curves to data.\n",
    "Disadvantages:\n",
    "\n",
    "Overfitting: Higher-degree polynomials can fit noise in the data, leading to overfitting.\n",
    "Complexity: Polynomial models can become complex and harder to interpret."
   ]
  }
 ],
 "metadata": {
  "kernelspec": {
   "display_name": "Python 3 (ipykernel)",
   "language": "python",
   "name": "python3"
  },
  "language_info": {
   "codemirror_mode": {
    "name": "ipython",
    "version": 3
   },
   "file_extension": ".py",
   "mimetype": "text/x-python",
   "name": "python",
   "nbconvert_exporter": "python",
   "pygments_lexer": "ipython3",
   "version": "3.10.8"
  }
 },
 "nbformat": 4,
 "nbformat_minor": 5
}
