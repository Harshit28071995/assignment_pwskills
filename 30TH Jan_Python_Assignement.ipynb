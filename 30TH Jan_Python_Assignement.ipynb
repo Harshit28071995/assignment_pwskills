{
 "cells": [
  {
   "cell_type": "code",
   "execution_count": null,
   "id": "436bcc72-9340-4cbf-878b-4318bdd08fef",
   "metadata": {},
   "outputs": [],
   "source": [
    "1.Write a program to accept percentage from the user and display tho grade according to the following criteria:\n",
    "\n",
    "Marks\t      Grade\n",
    ">90          \tA\n",
    ":>80and <=90\tB\n",
    ">=60 and <=80\tC\n",
    "below60\t        D\n",
    "\n"
   ]
  },
  {
   "cell_type": "code",
   "execution_count": 1,
   "id": "dc117954-4395-434f-a798-55a04e191bc8",
   "metadata": {},
   "outputs": [
    {
     "name": "stdin",
     "output_type": "stream",
     "text": [
      "Enter your percentage:  98\n"
     ]
    },
    {
     "name": "stdout",
     "output_type": "stream",
     "text": [
      "Your grade is: A\n"
     ]
    }
   ],
   "source": [
    "# Accept percentage from the user\n",
    "percentage = float(input(\"Enter your percentage: \"))\n",
    "\n",
    "# Determine the grade based on the percentage\n",
    "if percentage > 90:\n",
    "    grade = 'A'\n",
    "elif percentage > 80:\n",
    "    grade = 'B'\n",
    "elif percentage >= 60:\n",
    "    grade = 'C'\n",
    "else:\n",
    "    grade = 'D'\n",
    "\n",
    "# Display the grade\n",
    "print(f\"Your grade is: {grade}\")\n"
   ]
  },
  {
   "cell_type": "code",
   "execution_count": null,
   "id": "bedfc695-2797-45d9-954f-c6bc3858818b",
   "metadata": {},
   "outputs": [],
   "source": [
    "2.\tWrlte a program to accept tho cost price of a bike and display the road tax to be paid according to the\n",
    "following criteria:\n",
    "\n",
    "Tax\t   Cost Price(in Rs)\n",
    "15%\t   >100000\n",
    "10%\t   >50000 and <= 100000\n",
    "5%\t    < = 50000\n",
    "\n"
   ]
  },
  {
   "cell_type": "code",
   "execution_count": 4,
   "id": "abc7e0e6-7d4e-41ab-a1cc-212cbb259129",
   "metadata": {},
   "outputs": [
    {
     "name": "stdin",
     "output_type": "stream",
     "text": [
      "Enter the cost price of the bike (in Rs):  50000\n"
     ]
    },
    {
     "name": "stdout",
     "output_type": "stream",
     "text": [
      "The road tax to be paid is: Rs 2500.00\n"
     ]
    }
   ],
   "source": [
    "# Accept the cost price of the bike from the user\n",
    "cost_price = float(input(\"Enter the cost price of the bike (in Rs): \"))\n",
    "\n",
    "# Determine the road tax percentage based on the cost price\n",
    "if cost_price > 100000:\n",
    "    tax_rate = 0.15  # 15%\n",
    "elif cost_price > 50000:\n",
    "    tax_rate = 0.10  # 10%\n",
    "else:\n",
    "    tax_rate = 0.05  # 5%\n",
    "\n",
    "# Calculate the road tax to be paid\n",
    "road_tax = cost_price * tax_rate\n",
    "\n",
    "# Display the road tax amount\n",
    "print(f\"The road tax to be paid is: Rs {road_tax:.2f}\")\n"
   ]
  },
  {
   "cell_type": "code",
   "execution_count": null,
   "id": "8ff13159-6af0-4b0e-9ceb-678a4b7450fe",
   "metadata": {},
   "outputs": [],
   "source": [
    "3.\tAcceptany city from the user and display monuments of that city.\n",
    "\n",
    "City\tMonument\n",
    "Delhi\tRed Fort\n",
    "Agra\tTaj Mahal\n",
    "Jaipur\tJal Mahal\n",
    "\n"
   ]
  },
  {
   "cell_type": "code",
   "execution_count": 13,
   "id": "55410e89-6b2f-4c86-ada4-a4345e0620b3",
   "metadata": {},
   "outputs": [
    {
     "name": "stdin",
     "output_type": "stream",
     "text": [
      "Enter your city:     Agra\n"
     ]
    },
    {
     "name": "stdout",
     "output_type": "stream",
     "text": [
      "Monument of the city is Taj Mahal\n"
     ]
    }
   ],
   "source": [
    "# Accept city name from the user\n",
    "city = input(\"Enter your city: \")\n",
    "\n",
    "# Determine the monument based on the city\n",
    "if city == 'Delhi':\n",
    "    monument = 'Red Fort'\n",
    "elif city == 'Agra':\n",
    "    monument = 'Taj Mahal'\n",
    "elif city == 'Jaipur':\n",
    "    monument = 'Jal Mahal'\n",
    "else:\n",
    "    monument = 'NOT FOUND'\n",
    "\n",
    "# Display the monument\n",
    "print(\"Monument of the city is\", monument)\n"
   ]
  },
  {
   "cell_type": "code",
   "execution_count": null,
   "id": "009f6e4c-9e62-422b-a846-a7d4cf6bc32d",
   "metadata": {},
   "outputs": [],
   "source": [
    "4.\tCheck how many times a given number can be divided by 3 before it is loss than or equal to 10.\n",
    "\n"
   ]
  },
  {
   "cell_type": "code",
   "execution_count": 14,
   "id": "c9341988-0f4d-4d56-bb62-7605b6e6138e",
   "metadata": {},
   "outputs": [
    {
     "name": "stdin",
     "output_type": "stream",
     "text": [
      "Enter a number:  45\n"
     ]
    },
    {
     "name": "stdout",
     "output_type": "stream",
     "text": [
      "The number can be divided by 3, 2 times before it becomes less than or equal to 10.\n"
     ]
    }
   ],
   "source": [
    "# Accept a number from the user\n",
    "number = float(input(\"Enter a number: \"))\n",
    "\n",
    "# Initialize a counter for the number of divisions\n",
    "count = 0\n",
    "\n",
    "# Divide the number by 3 repeatedly until it is less than or equal to 10\n",
    "while number > 10:\n",
    "    number /= 3\n",
    "    count += 1\n",
    "\n",
    "# Display the number of divisions\n",
    "print(f\"The number can be divided by 3, {count} times before it becomes less than or equal to 10.\")\n"
   ]
  },
  {
   "cell_type": "code",
   "execution_count": null,
   "id": "a3060c3d-b979-449b-9b6c-325ad76e78c4",
   "metadata": {},
   "outputs": [],
   "source": [
    "5.\tWhy and When to Use while Loop In Python give a detail description with an example\n",
    "\n"
   ]
  },
  {
   "cell_type": "markdown",
   "id": "a45f7e9c-bd02-4935-934d-50d7648d5144",
   "metadata": {},
   "source": [
    "The while loop in Python is used when you need to repeat a block of code as long as a specified condition remains true. It is particularly useful in scenarios where the number of iterations is not known in advance and depends on dynamic conditions during execution.\n",
    "\n",
    "Key Points:\n",
    "Indefinite Iteration: while loops are ideal when the loop's termination condition depends on a state that changes within the loop, rather than a fixed number of iterations.\n",
    "Condition-Controlled: The loop continues to execute as long as the condition remains true. Once the condition evaluates to false, the loop stops.\n",
    "Flexibility: You can use break to exit the loop prematurely based on some condition, or continue to skip the current iteration and proceed with the next one."
   ]
  },
  {
   "cell_type": "code",
   "execution_count": null,
   "id": "74170f06-fe47-4631-a1e3-2f988f1c4dbe",
   "metadata": {},
   "outputs": [],
   "source": [
    "8. Use nested while loop to print 3 different pattern.\n"
   ]
  },
  {
   "cell_type": "code",
   "execution_count": 16,
   "id": "2c418db3-188e-4498-97a7-fdd8678e0a8d",
   "metadata": {},
   "outputs": [
    {
     "name": "stdout",
     "output_type": "stream",
     "text": [
      "*\n",
      "**\n",
      "***\n",
      "****\n",
      "*****\n"
     ]
    }
   ],
   "source": [
    "# Right-Angle Triangle Pattern\n",
    "\n",
    "rows = 5\n",
    "i = 1\n",
    "\n",
    "while i <= rows:\n",
    "    j = 1\n",
    "    while j <= i:\n",
    "        print('*', end='')\n",
    "        j += 1\n",
    "    print()  # Move to the next line after printing each row\n",
    "    i += 1\n"
   ]
  },
  {
   "cell_type": "code",
   "execution_count": 17,
   "id": "197d73b0-12c4-4ce1-8caa-98237b9dbe26",
   "metadata": {},
   "outputs": [
    {
     "name": "stdout",
     "output_type": "stream",
     "text": [
      "*****\n",
      "****\n",
      "***\n",
      "**\n",
      "*\n"
     ]
    }
   ],
   "source": [
    "# Inverted Right-Angle Triangle Pattern\n",
    "\n",
    "rows = 5\n",
    "i = rows\n",
    "\n",
    "while i >= 1:\n",
    "    j = 1\n",
    "    while j <= i:\n",
    "        print('*', end='')\n",
    "        j += 1\n",
    "    print()  # Move to the next line after printing each row\n",
    "    i -= 1\n"
   ]
  },
  {
   "cell_type": "code",
   "execution_count": 18,
   "id": "6746b5b9-8c9c-4754-abad-d40b8f5049df",
   "metadata": {},
   "outputs": [
    {
     "name": "stdout",
     "output_type": "stream",
     "text": [
      "    *\n",
      "   ***\n",
      "  *****\n",
      " *******\n",
      "*********\n"
     ]
    }
   ],
   "source": [
    "# Pyramid Pattern\n",
    "\n",
    "rows = 5\n",
    "i = 1\n",
    "\n",
    "while i <= rows:\n",
    "    # Print spaces\n",
    "    spaces = rows - i\n",
    "    j = 1\n",
    "    while j <= spaces:\n",
    "        print(' ', end='')\n",
    "        j += 1\n",
    "    # Print stars\n",
    "    stars = 2 * i - 1\n",
    "    j = 1\n",
    "    while j <= stars:\n",
    "        print('*', end='')\n",
    "        j += 1\n",
    "    print()  # Move to the next line after printing each row\n",
    "    i += 1\n"
   ]
  },
  {
   "cell_type": "code",
   "execution_count": null,
   "id": "7329fe89-9365-42ff-acea-2a29bbcacb8e",
   "metadata": {},
   "outputs": [],
   "source": [
    "7.Reverse a while loop to display numbers from 10 to l.\n",
    "\n"
   ]
  },
  {
   "cell_type": "code",
   "execution_count": 21,
   "id": "db2a98ca-c44a-4d59-8c18-02d8e7fd5313",
   "metadata": {},
   "outputs": [
    {
     "name": "stdout",
     "output_type": "stream",
     "text": [
      "10\n",
      "9\n",
      "8\n",
      "7\n",
      "6\n",
      "5\n",
      "4\n",
      "3\n",
      "2\n",
      "1\n"
     ]
    }
   ],
   "source": [
    "# Initialize the counter variable\n",
    "num = 10\n",
    "\n",
    "# Loop while the counter is greater than or equal to 1\n",
    "while num >= 1:\n",
    "    print(num)\n",
    "    num -= 1  # Decrement the counter by 1 in each iteration\n"
   ]
  },
  {
   "cell_type": "code",
   "execution_count": null,
   "id": "bac238e4-8c2c-4126-a465-a4d9c9d16971",
   "metadata": {},
   "outputs": [],
   "source": [
    "8. Reverse a while loop to display numbers from 10 to 1.\n",
    "\n"
   ]
  },
  {
   "cell_type": "code",
   "execution_count": null,
   "id": "69b69473-a24e-45de-9657-6fe9500d7636",
   "metadata": {},
   "outputs": [],
   "source": [
    "# Initialize the counter variable\n",
    "num = 10\n",
    "\n",
    "# Loop while the counter is greater than or equal to 1\n",
    "while num >= 1:\n",
    "    print(num)\n",
    "    num -= 1  # Decrement the counter by 1 in each iteration\n"
   ]
  }
 ],
 "metadata": {
  "kernelspec": {
   "display_name": "Python 3 (ipykernel)",
   "language": "python",
   "name": "python3"
  },
  "language_info": {
   "codemirror_mode": {
    "name": "ipython",
    "version": 3
   },
   "file_extension": ".py",
   "mimetype": "text/x-python",
   "name": "python",
   "nbconvert_exporter": "python",
   "pygments_lexer": "ipython3",
   "version": "3.10.8"
  }
 },
 "nbformat": 4,
 "nbformat_minor": 5
}
