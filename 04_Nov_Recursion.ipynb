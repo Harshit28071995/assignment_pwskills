{
 "cells": [
  {
   "cell_type": "markdown",
   "id": "f1267ef6-c9b8-4dfc-8464-433aad53c203",
   "metadata": {},
   "source": [
    "## Recursion"
   ]
  },
  {
   "cell_type": "markdown",
   "id": "ff3aacfc-6a05-454e-9340-e49c929fc422",
   "metadata": {},
   "source": [
    "### 1) Can you explain the logic and working of the Tower of Hanoi algorithm by writing a python program? How does the recursion work, and how are the movements of disks between rods accomplished?"
   ]
  },
  {
   "cell_type": "raw",
   "id": "5bbca3c6-989e-45c7-a3a6-73a397ede8f7",
   "metadata": {},
   "source": [
    "Answer \n",
    "The problem consists of three rods and a number of disks of different sizes that can slide onto any rod. The puzzle starts with the disks neatly stacked in ascending order of size on one rod, the smallest at the top, making a conical shape.\n",
    "\n",
    "The objective is to move the entire stack to another rod, obeying the following simple rules:\n",
    "\n",
    "Only one disk can be moved at a time.\n",
    "Each move consists of taking the upper disk from one of the stacks and placing it on top of another stack or on an empty rod.\n",
    "No disk may be placed on top of a smaller disk."
   ]
  },
  {
   "cell_type": "code",
   "execution_count": 1,
   "id": "e2613fd5-8f40-41da-9ce1-17a2ee687bbe",
   "metadata": {},
   "outputs": [
    {
     "name": "stdout",
     "output_type": "stream",
     "text": [
      "Move disk 1 from A to C\n",
      "Move disk 2 from A to B\n",
      "Move disk 1 from C to B\n",
      "Move disk 3 from A to C\n",
      "Move disk 1 from B to A\n",
      "Move disk 2 from B to C\n",
      "Move disk 1 from A to C\n"
     ]
    }
   ],
   "source": [
    "def tower_of_hanoi(n, source, target, auxiliary):\n",
    "    \"\"\"\n",
    "    Solves the Tower of Hanoi problem.\n",
    "\n",
    "    :param n: Number of disks\n",
    "    :param source: The source rod\n",
    "    :param target: The target rod\n",
    "    :param auxiliary: The auxiliary rod\n",
    "    \"\"\"\n",
    "    if n == 1:\n",
    "        print(f\"Move disk 1 from {source} to {target}\")\n",
    "        return\n",
    "    tower_of_hanoi(n-1, source, auxiliary, target)\n",
    "    print(f\"Move disk {n} from {source} to {target}\")\n",
    "    tower_of_hanoi(n-1, auxiliary, target, source)\n",
    "\n",
    "number_of_disks = 3\n",
    "tower_of_hanoi(number_of_disks, 'A', 'C', 'B')\n"
   ]
  },
  {
   "cell_type": "markdown",
   "id": "8f5cbbf9-feee-4d2f-aad5-a88b4ae5e4bf",
   "metadata": {},
   "source": [
    "### 2) Q.2 Given two strings word1 and word2, return the minimum number of operations required to convert word1 to word2.\n"
   ]
  },
  {
   "cell_type": "raw",
   "id": "4ba26c79-2d55-46b1-aaf9-eeaf91d74585",
   "metadata": {},
   "source": [
    "Example 1:\n",
    "Input: word1 = \"horse\", word2 = \"ros\"\n",
    "Output: 3\n",
    "Explanation:\n",
    "horse -> rorse (replace 'h' with 'r')\n",
    "rorse -> rose (remove 'r')\n",
    "rose -> ros (remove 'e')\n",
    "Example 2:\n",
    "Input: word1 = \"intention\", word2 = \"execution\"\n",
    "Output: 5\n",
    "Explanation:\n",
    "intention -> inention (remove 't')\n",
    "inention -> enention (replace 'i' with 'e')\n",
    "enention -> exention (replace 'n' with 'x')\n",
    "exention -> exection (replace 'n' with 'c')\n",
    "exection -> execution (insert 'u')"
   ]
  },
  {
   "cell_type": "code",
   "execution_count": 7,
   "id": "bdd88387-0392-4324-a871-6319b9d5ef80",
   "metadata": {},
   "outputs": [
    {
     "name": "stdout",
     "output_type": "stream",
     "text": [
      "3\n"
     ]
    }
   ],
   "source": [
    "def minDistance(word1, word2):\n",
    "    m, n = len(word1), len(word2)\n",
    "    \n",
    "    # Create a DP table with dimensions (m+1) x (n+1)\n",
    "    dp = [[0] * (n + 1) for _ in range(m + 1)]\n",
    "    \n",
    "    # Initialize the base cases\n",
    "    for i in range(m + 1):\n",
    "        dp[i][0] = i  # Deleting all characters in word1 to match an empty word2\n",
    "    for j in range(n + 1):\n",
    "        dp[0][j] = j  # Inserting all characters in word2 to match an empty word1\n",
    "    \n",
    "    # Fill the DP table\n",
    "    for i in range(1, m + 1):\n",
    "        for j in range(1, n + 1):\n",
    "            if word1[i - 1] == word2[j - 1]:\n",
    "                dp[i][j] = dp[i - 1][j - 1]  # Characters match, no additional operation needed\n",
    "            else:\n",
    "                dp[i][j] = 1 + min(dp[i - 1][j],    # Deletion\n",
    "                                   dp[i][j - 1],    # Insertion\n",
    "                                   dp[i - 1][j - 1])  # Replacement\n",
    "    \n",
    "    return dp[m][n]\n",
    "\n",
    "# input\n",
    "word1 = \"horse\"\n",
    "word2 = \"ros\"\n",
    "print(minDistance(word1, word2))  \n",
    "\n",
    "\n"
   ]
  },
  {
   "cell_type": "markdown",
   "id": "a7dfe148-398d-4a4f-832b-df0535e904ec",
   "metadata": {},
   "source": [
    "### Q. 3 Print the max value of the array [ 13, 1, -3, 22, 5].\n",
    "\n"
   ]
  },
  {
   "cell_type": "code",
   "execution_count": 3,
   "id": "63ebf52c-ed3b-4e92-8f0e-85e02ede39b5",
   "metadata": {},
   "outputs": [
    {
     "name": "stdout",
     "output_type": "stream",
     "text": [
      "The maximum value in the array is: 22\n"
     ]
    }
   ],
   "source": [
    "def find_max_recursive(arr, n):\n",
    "    # Base case: if the array contains only one element\n",
    "    if n == 1:\n",
    "        return arr[0]\n",
    "    else:\n",
    "        # Recursively find the maximum in the remaining array\n",
    "        max_in_rest = find_max_recursive(arr, n - 1)\n",
    "        # Compare the last element with the maximum of the rest\n",
    "        return max(arr[n - 1], max_in_rest)\n",
    "\n",
    "\n",
    "array = [13, 1, -3, 22, 5]\n",
    "max_value = find_max_recursive(array, len(array))\n",
    "print(f\"The maximum value in the array is: {max_value}\")\n"
   ]
  },
  {
   "cell_type": "markdown",
   "id": "0ebaf8e7-5f87-429a-992e-e62378e3ce1b",
   "metadata": {},
   "source": [
    "### Q.4 Find the sum of the values of the array [92, 23, 15, -20, 10]."
   ]
  },
  {
   "cell_type": "code",
   "execution_count": 4,
   "id": "ac6496ae-f3b3-4b7c-98aa-72e870862a9d",
   "metadata": {},
   "outputs": [
    {
     "name": "stdout",
     "output_type": "stream",
     "text": [
      "The sum of the values in the array is: 120\n"
     ]
    }
   ],
   "source": [
    "def find_sum_recursive(arr, n):\n",
    "    # Base case: if the array is empty\n",
    "    if n == 0:\n",
    "        return 0\n",
    "    else:\n",
    "        # Recursively find the sum of the remaining array\n",
    "        return arr[n - 1] + find_sum_recursive(arr, n - 1)\n",
    "\n",
    "# input\n",
    "array = [92, 23, 15, -20, 10]\n",
    "sum_value = find_sum_recursive(array, len(array))\n",
    "print(f\"The sum of the values in the array is: {sum_value}\")\n"
   ]
  },
  {
   "cell_type": "markdown",
   "id": "2590e7f3-a7c7-48d0-b648-7da5473d75dc",
   "metadata": {},
   "source": [
    "### Q.5 Given a number n. Print if it is an armstrong number or not.An armstrong number is a number if the sum of every digit in that number raised to the power of total digits in that number is equal to the number.\n"
   ]
  },
  {
   "cell_type": "raw",
   "id": "c5428edc-9090-47d2-af4b-9873488cad71",
   "metadata": {},
   "source": [
    "Example : 153 = 1^3 + 5^3 + 3^3 = 1 + 125 + 27 = 153 hence 153 is an armstrong number. (Easy)\n",
    "Input1 : 153\n",
    "Output1 : Yes\n",
    "Input 2 : 134\n",
    "Output2 : No"
   ]
  },
  {
   "cell_type": "code",
   "execution_count": 4,
   "id": "9ec407f3-fa42-4484-8a69-0fa422ed021b",
   "metadata": {},
   "outputs": [
    {
     "name": "stdout",
     "output_type": "stream",
     "text": [
      "153 is an Armstrong number.\n"
     ]
    }
   ],
   "source": [
    "def count_digits(n):\n",
    "    # Base case: if the number is 0\n",
    "    if n == 0:\n",
    "        return 0\n",
    "    # Recursive case: count digits by reducing the number\n",
    "    return 1 + count_digits(n // 10)\n",
    "\n",
    "def sum_of_powers(n, num_digits):\n",
    "    # Base case: if the number is 0\n",
    "    if n == 0:\n",
    "        return 0\n",
    "    # Recursive case: sum of the digit raised to the power of num_digits\n",
    "    return (n % 10) ** num_digits + sum_of_powers(n // 10, num_digits)\n",
    "\n",
    "def is_armstrong_number(n):\n",
    "    num_digits = count_digits(n)\n",
    "    sum_power = sum_of_powers(n, num_digits)\n",
    "    return n == sum_power\n",
    "\n",
    "# input\n",
    "number = 153\n",
    "if is_armstrong_number(number):\n",
    "    print(f\"{number} is an Armstrong number.\")\n",
    "else:\n",
    "    print(f\"{number} is not an Armstrong number.\")\n"
   ]
  },
  {
   "cell_type": "code",
   "execution_count": null,
   "id": "8bd79389-340a-486a-99a0-da89b1062978",
   "metadata": {},
   "outputs": [],
   "source": []
  }
 ],
 "metadata": {
  "kernelspec": {
   "display_name": "Python 3 (ipykernel)",
   "language": "python",
   "name": "python3"
  },
  "language_info": {
   "codemirror_mode": {
    "name": "ipython",
    "version": 3
   },
   "file_extension": ".py",
   "mimetype": "text/x-python",
   "name": "python",
   "nbconvert_exporter": "python",
   "pygments_lexer": "ipython3",
   "version": "3.10.8"
  }
 },
 "nbformat": 4,
 "nbformat_minor": 5
}
