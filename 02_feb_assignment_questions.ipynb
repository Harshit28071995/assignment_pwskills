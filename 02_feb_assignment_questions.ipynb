{
 "cells": [
  {
   "cell_type": "markdown",
   "id": "f4398008-946c-4e4e-897f-5f5b6874a175",
   "metadata": {},
   "source": [
    "# Assignment : Tuple, Set & Dict Assignment"
   ]
  },
  {
   "cell_type": "markdown",
   "id": "2216dede-87c3-45fc-8c6b-99945eb597a0",
   "metadata": {},
   "source": [
    "### Q1. What are the characteristics of the tuples? Is tuple immutable?"
   ]
  },
  {
   "cell_type": "raw",
   "id": "a828b517-a945-4231-be80-5a89d8a993ae",
   "metadata": {},
   "source": [
    "Tuples have the following characteristics:\n",
    "\n",
    "Ordered: The elements in a tuple have a specific order.\n",
    "Immutable: Once a tuple is created, its elements cannot be changed, added, or removed.\n",
    "Mixed Types: Tuples can store different types of data, such as integers, strings, and other tuples.\n",
    "Fixed Size: The size of a tuple is determined when it is created and cannot be changed.\n",
    "\n",
    "Yes, tuples are immutable, meaning that their contents cannot be modified after they are created.\n"
   ]
  },
  {
   "cell_type": "markdown",
   "id": "90f3b4ec-efa5-4f49-a294-0318e96bd0ac",
   "metadata": {},
   "source": [
    "### Q2. What are the two tuple methods in python? Give an example of each method. Give a reason why tuples have only two in-built methods as compared to Lists.\n"
   ]
  },
  {
   "cell_type": "raw",
   "id": "a9a5800d-f9f3-4d45-805e-4f2dd383514a",
   "metadata": {},
   "source": [
    "In Python, tuples have two built-in methods: count() and index().\n",
    "\n",
    "1. count()\n",
    "This method returns the number of times a specified value appears in the tuple.\n",
    "\n",
    "my_tuple = (1, 2, 3, 2, 4, 2)\n",
    "count_of_twos = my_tuple.count(2)\n",
    "print(count_of_twos)  # Output: 3\n",
    "\n",
    "2. index()\n",
    "This method returns the index of the first occurrence of a specified value in the tuple. If the value is not found, it raises a ValueError.\n",
    "\n",
    "my_tuple = (1, 2, 3, 4, 5)\n",
    "index_of_three = my_tuple.index(3)\n",
    "print(index_of_three)  # Output: 2\n",
    "\n",
    "Reason for Limited Methods in Tuples\n",
    "Tuples have only two built-in methods (count and index) because they are immutable. "
   ]
  },
  {
   "cell_type": "markdown",
   "id": "64e4c69e-6d9f-40de-b53a-e0c248bb9b15",
   "metadata": {},
   "source": [
    "### Q3. Which collection datatypes in python do not allow duplicate items? Write a code using a set to removeduplicates from the given list. List = [1, 1, 1, 2, 1, 3, 1, 4, 2, 1, 2, 2, 2, 3, 2, 4, 3, 1, 3, 2, 3, 3, 3, 4, 4, 1, 4, 2, 4, 3, 4, 4]\n"
   ]
  },
  {
   "cell_type": "code",
   "execution_count": null,
   "id": "554f4cd8-0c1e-4a1e-a453-bf7e4cfa95f5",
   "metadata": {},
   "outputs": [],
   "source": [
    "In Python, the collection data type that does not allow duplicate items is a set."
   ]
  },
  {
   "cell_type": "raw",
   "id": "f6c031e6-c2c6-437f-99fb-ca228cd29154",
   "metadata": {},
   "source": [
    "# Given list with duplicates\n",
    "my_list = [1, 1, 1, 2, 1, 3, 1, 4, 2, 1, 2, 2, 2, 3, 2, 4, 3, 1, 3, 2, 3, 3, 3, 4, 4, 1, 4, 2, 4, 3, 4, 4]\n",
    "\n",
    "# Convert list to set to remove duplicates\n",
    "my_set = set(my_list)\n",
    "\n",
    "# Convert set back to list if needed\n",
    "unique_list = list(my_set)\n",
    "\n",
    "print(unique_list)  # Output: [1, 2, 3, 4]\n"
   ]
  },
  {
   "cell_type": "code",
   "execution_count": null,
   "id": "e4396e7b-bd4d-4be3-968b-2250ab8ddd8d",
   "metadata": {},
   "outputs": [],
   "source": [
    "Q4. Explain the difference between the union() and update() methods for a set. Give an example of\n",
    "each method.\n"
   ]
  },
  {
   "cell_type": "code",
   "execution_count": null,
   "id": "ee0e5ecc-330b-456d-9059-c51820cbe9b3",
   "metadata": {},
   "outputs": [],
   "source": [
    "The union() and update() methods in Python are used with sets to combine elements from multiple sets. \n",
    "However, they differ in their operation and return value.\n",
    "\n",
    "union()\n",
    "Purpose: Combines elements from two or more sets and returns a new set with all unique elements."
   ]
  },
  {
   "cell_type": "code",
   "execution_count": null,
   "id": "86f01c94-40a2-4f9f-97da-1f6c47c91df2",
   "metadata": {},
   "outputs": [],
   "source": [
    "set1 = {1, 2, 3}\n",
    "set2 = {3, 4, 5}\n",
    "set3 = {5, 6, 7}\n",
    "\n",
    "# Using union() to combine sets\n",
    "union_set = set1.union(set2, set3)\n",
    "\n",
    "print(union_set)  # Output: {1, 2, 3, 4, 5, 6, 7}"
   ]
  },
  {
   "cell_type": "raw",
   "id": "1fc91c5b-5f2c-425e-b8d1-ec2d5b2449b0",
   "metadata": {},
   "source": [
    "update()\n",
    "Purpose: Adds elements from another set or iterable to the original set."
   ]
  },
  {
   "cell_type": "code",
   "execution_count": null,
   "id": "e5d08e68-0f99-418a-90af-65ee419999a7",
   "metadata": {},
   "outputs": [],
   "source": [
    "set1 = {1, 2, 3}\n",
    "set2 = {3, 4, 5}\n",
    "\n",
    "# Using update() to add elements to set1\n",
    "set1.update(set2)\n",
    "\n",
    "print(set1)  # Output: {1, 2, 3, 4, 5} (set1 is modified)\n",
    "print(set2)  # Output: {3, 4, 5} (original set2 remains unchanged)\n"
   ]
  },
  {
   "cell_type": "raw",
   "id": "96857f8b-639c-4e65-b65f-bc50f67ef143",
   "metadata": {},
   "source": [
    "Q5. What is a dictionary? Give an example. Also, state whether a dictionary is ordered or unordered."
   ]
  },
  {
   "cell_type": "raw",
   "id": "32f79a2c-c86c-47de-a81d-2ac63770610a",
   "metadata": {},
   "source": [
    "A dictionary in Python is a collection of key-value pairs. Each key in the dictionary is unique, \n",
    "and it is used to store and access values. Keys are typically strings or numbers, while values \n",
    "can be of any data type, including other dictionaries.\n",
    "\n",
    "Characteristics of a Dictionary:\n",
    "Key-Value Pairs: Each entry in a dictionary consists of a key and a corresponding value.\n",
    "Mutable: Dictionaries can be modified; you can add, remove, or change items.\n",
    "Unique Keys: Each key must be unique within a dictionary. However, values can be duplicated.\n",
    "Dynamic: The size of a dictionary can grow or shrink as needed.\n",
    "Ordered (as of Python 3.7+): The items in a dictionary maintain the order in which they were added. \n",
    "Prior to Python 3.7, dictionaries were unordered, meaning the order of items was not guaranteed."
   ]
  },
  {
   "cell_type": "code",
   "execution_count": 5,
   "id": "c85bfa55-a71a-4f0b-aed1-1f7493fbb506",
   "metadata": {},
   "outputs": [
    {
     "name": "stdout",
     "output_type": "stream",
     "text": [
      "Alice\n",
      "30\n",
      "['reading', 'cycling', 'traveling']\n"
     ]
    }
   ],
   "source": [
    "# Creating a dictionary\n",
    "person = {\n",
    "    \"name\": \"Alice\",\n",
    "    \"age\": 30,\n",
    "    \"city\": \"New York\",\n",
    "    \"hobbies\": [\"reading\", \"cycling\", \"traveling\"]\n",
    "}\n",
    "\n",
    "# Accessing values by keys\n",
    "print(person[\"name\"])  # Output: Alice\n",
    "print(person[\"age\"])   # Output: 30\n",
    "print(person[\"hobbies\"])  # Output: ['reading', 'cycling', 'traveling']\n"
   ]
  },
  {
   "cell_type": "raw",
   "id": "4439a03e-c06c-43f0-8a63-522b72e1f4d7",
   "metadata": {},
   "source": [
    "Q6. Can we create a nested dictionary? If so, please give an example by creating a simple one-level\n",
    "nested dictionary."
   ]
  },
  {
   "cell_type": "code",
   "execution_count": null,
   "id": "d9ca4624-fe86-4cfe-945e-00b2c1e340e8",
   "metadata": {},
   "outputs": [],
   "source": [
    "Yes, you can create a nested dictionary in Python. A nested dictionary is a dictionary that contains other dictionaries as values."
   ]
  },
  {
   "cell_type": "code",
   "execution_count": 6,
   "id": "347ba23c-3a95-4423-a941-a15d690f503d",
   "metadata": {},
   "outputs": [
    {
     "name": "stdout",
     "output_type": "stream",
     "text": [
      "John Doe\n",
      "{'teacher': 'Mr. Smith', 'score': 88}\n",
      "92\n"
     ]
    }
   ],
   "source": [
    "# Creating a nested dictionary\n",
    "student = {\n",
    "    \"name\": \"John Doe\",\n",
    "    \"age\": 20,\n",
    "    \"courses\": {\n",
    "        \"math\": {\n",
    "            \"teacher\": \"Mr. Smith\",\n",
    "            \"score\": 88\n",
    "        },\n",
    "        \"science\": {\n",
    "            \"teacher\": \"Dr. Brown\",\n",
    "            \"score\": 92\n",
    "        }\n",
    "    }\n",
    "}\n",
    "\n",
    "# Accessing elements in the nested dictionary\n",
    "print(student[\"name\"])           \n",
    "print(student[\"courses\"][\"math\"])  \n",
    "print(student[\"courses\"][\"science\"][\"score\"])  \n"
   ]
  },
  {
   "cell_type": "raw",
   "id": "1502b81c-fec3-42c0-98a0-0220114f78aa",
   "metadata": {},
   "source": [
    "Q7. Using setdefault() method, create key named topics in the given dictionary and also add the value of\n",
    "the key as this list ['Python', 'Machine Learning’, 'Deep Learning']\n",
    "dict1 = {'language' : 'Python', 'course': 'Data Science Masters'}"
   ]
  },
  {
   "cell_type": "code",
   "execution_count": 8,
   "id": "a0709b35-538d-4b4c-85ba-f451b3d7a57d",
   "metadata": {},
   "outputs": [
    {
     "name": "stdout",
     "output_type": "stream",
     "text": [
      "{'language': 'Python', 'course': 'Data Science Masters', 'topics': ['Python', 'Machine Learning', 'Deep Learning']}\n"
     ]
    }
   ],
   "source": [
    "# Given dictionary\n",
    "dict1 = {'language': 'Python', 'course': 'Data Science Masters'}\n",
    "\n",
    "# Using setdefault() to add the 'topics' key with a list of values\n",
    "dict1.setdefault('topics', ['Python', 'Machine Learning', 'Deep Learning'])\n",
    "\n",
    "print(dict1)\n"
   ]
  },
  {
   "cell_type": "code",
   "execution_count": null,
   "id": "07914c19-4aef-4668-9396-f02a76d88afd",
   "metadata": {},
   "outputs": [],
   "source": [
    "Q8. What are the three view objects in dictionaries? Use the three in-built methods in python to display\n",
    "these three view objects for the given dictionary.\n",
    "dict1 = {'Sport': 'Cricket' , 'Teams': ['India', 'Australia', 'England', 'South Africa', 'Sri Lanka', 'New Zealand']}"
   ]
  },
  {
   "cell_type": "raw",
   "id": "780b1954-90a5-48a3-a1d2-8431bc602800",
   "metadata": {},
   "source": [
    "In Python, dictionaries provide three view objects that allow you to view the keys, values, \n",
    "and key-value pairs in the dictionary. These view objects are:\n",
    "\n",
    "Keys View (dict.keys()): Provides a view of the dictionary's keys.\n",
    "Values View (dict.values()): Provides a view of the dictionary's values.\n",
    "Items View (dict.items()): Provides a view of the dictionary's key-value pairs as tuples."
   ]
  },
  {
   "cell_type": "code",
   "execution_count": 9,
   "id": "bfd7e821-d435-457d-8c61-cdd86ee9a04f",
   "metadata": {},
   "outputs": [
    {
     "name": "stdout",
     "output_type": "stream",
     "text": [
      "Keys View: dict_keys(['Sport', 'Teams'])\n",
      "Values View: dict_values(['Cricket', ['India', 'Australia', 'England', 'South Africa', 'Sri Lanka', 'New Zealand']])\n",
      "Items View: dict_items([('Sport', 'Cricket'), ('Teams', ['India', 'Australia', 'England', 'South Africa', 'Sri Lanka', 'New Zealand'])])\n"
     ]
    }
   ],
   "source": [
    "# Given dictionary\n",
    "dict1 = {\n",
    "    'Sport': 'Cricket',\n",
    "    'Teams': ['India', 'Australia', 'England', 'South Africa', 'Sri Lanka', 'New Zealand']\n",
    "}\n",
    "\n",
    "# Displaying keys view\n",
    "keys_view = dict1.keys()\n",
    "print(\"Keys View:\", keys_view)  # Output: dict_keys(['Sport', 'Teams'])\n",
    "\n",
    "# Displaying values view\n",
    "values_view = dict1.values()\n",
    "print(\"Values View:\", values_view)  # Output: dict_values(['Cricket', ['India', 'Australia', 'England', 'South Africa', 'Sri Lanka', 'New Zealand']])\n",
    "\n",
    "# Displaying items view\n",
    "items_view = dict1.items()\n",
    "print(\"Items View:\", items_view)  # Output: dict_items([('Sport', 'Cricket'), ('Teams', ['India', 'Australia', 'England', 'South Africa', 'Sri Lanka', 'New Zealand'])])\n"
   ]
  },
  {
   "cell_type": "code",
   "execution_count": null,
   "id": "4f615a3f-cb85-44eb-a13f-2ee6ad1f7c08",
   "metadata": {},
   "outputs": [],
   "source": []
  }
 ],
 "metadata": {
  "kernelspec": {
   "display_name": "Python 3 (ipykernel)",
   "language": "python",
   "name": "python3"
  },
  "language_info": {
   "codemirror_mode": {
    "name": "ipython",
    "version": 3
   },
   "file_extension": ".py",
   "mimetype": "text/x-python",
   "name": "python",
   "nbconvert_exporter": "python",
   "pygments_lexer": "ipython3",
   "version": "3.10.8"
  }
 },
 "nbformat": 4,
 "nbformat_minor": 5
}
