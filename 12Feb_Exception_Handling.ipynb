{
 "cells": [
  {
   "cell_type": "markdown",
   "id": "a5d4b404-aabe-4603-84d5-a9c152ed0efa",
   "metadata": {},
   "source": [
    "## Exception handling-1"
   ]
  },
  {
   "cell_type": "markdown",
   "id": "b8095e49-50a9-4788-802e-a95705ee0ab5",
   "metadata": {},
   "source": [
    "Q1. What is Exception in python? Write the difference between Exceptions and Syntax errors"
   ]
  },
  {
   "cell_type": "markdown",
   "id": "09585f6b-ff34-4b4f-9a6e-f091c03b5c0d",
   "metadata": {},
   "source": [
    "An exception in Python is an event that occurs during the execution of a program and disrupts the normal flow of the program's instructions. When an error occurs within a Python program, it raises an exception, which can then be handled using the try, except, else, and finally blocks to prevent the program from crashing and to handle the error gracefully.\n",
    "\n",
    "Exceptions:\n",
    "\n",
    "Occur during the execution of a program.\n",
    "Represent errors that happen due to incorrect logic or invalid operations (e.g., dividing by zero, accessing a file that does not exist, etc.).\n",
    "Can be caught and handled using try and except blocks.\n",
    "Examples include ZeroDivisionError, FileNotFoundError, ValueError, etc.\n",
    "\n",
    "Syntax Errors:\n",
    "\n",
    "Occur when the parser encounters code that does not conform to the syntax rules of the Python language.\n",
    "Represent errors that occur due to incorrect code structure (e.g., missing colons, unmatched parentheses, incorrect indentation, etc.).\n",
    "Cannot be caught or handled using try and except blocks because they prevent the code from being executed.\n",
    "Examples include SyntaxError, IndentationError, etc."
   ]
  },
  {
   "cell_type": "code",
   "execution_count": 1,
   "id": "e6062c64-8637-4e93-b001-d591eb1c6a28",
   "metadata": {},
   "outputs": [
    {
     "name": "stdout",
     "output_type": "stream",
     "text": [
      "Caught an exception: division by zero\n",
      "Execution complete\n"
     ]
    }
   ],
   "source": [
    "try:\n",
    "    # Code that may raise an exception\n",
    "    result = 10 / 0\n",
    "except ZeroDivisionError as e:\n",
    "    # Handling the exception\n",
    "    print(\"Caught an exception:\", e)\n",
    "else:\n",
    "    # Code to execute if no exception occurs\n",
    "    print(\"No exception occurred, result:\", result)\n",
    "finally:\n",
    "    # Code to execute regardless of whether an exception occurred or not\n",
    "    print(\"Execution complete\")\n"
   ]
  },
  {
   "cell_type": "code",
   "execution_count": 5,
   "id": "23444c57-e2d6-4248-900a-f4a06a517b8b",
   "metadata": {},
   "outputs": [
    {
     "ename": "SyntaxError",
     "evalue": "expected ':' (166706686.py, line 3)",
     "output_type": "error",
     "traceback": [
      "\u001b[0;36m  Cell \u001b[0;32mIn[5], line 3\u001b[0;36m\u001b[0m\n\u001b[0;31m    def example_function()\u001b[0m\n\u001b[0m                          ^\u001b[0m\n\u001b[0;31mSyntaxError\u001b[0m\u001b[0;31m:\u001b[0m expected ':'\n"
     ]
    }
   ],
   "source": [
    "# SyntaxError example\n",
    "# Missing colon after the function definition\n",
    "def example_function()\n",
    "    print(\"This will cause a SyntaxError\")"
   ]
  },
  {
   "cell_type": "markdown",
   "id": "04477495-8a1a-4645-9ff8-62d0d2163ec5",
   "metadata": {},
   "source": [
    "Q2. What happens when an exception is not handled? Explain with an example."
   ]
  },
  {
   "cell_type": "markdown",
   "id": "48cb5d7f-3a2a-4fd0-8cab-ae2730cb0e28",
   "metadata": {},
   "source": [
    "When an exception is not handled in Python, the program terminates immediately and displays a traceback message that describes the type of exception that occurred, the location in the code where the exception was raised, and a summary of the call stack leading to the exception. This is known as an \"unhandled exception.\""
   ]
  },
  {
   "cell_type": "code",
   "execution_count": null,
   "id": "7fd902be-29ef-4fbc-8e3b-706dd37e41d8",
   "metadata": {},
   "outputs": [],
   "source": [
    "Q3. Which Python Statements are Used to Catch and Handle Exceptions?\n"
   ]
  },
  {
   "cell_type": "markdown",
   "id": "b099dfdb-8590-419f-bbee-39c4e5626b28",
   "metadata": {},
   "source": [
    "In Python, the statements used to catch and handle exceptions are try, except, else, and finally.\n",
    "\n",
    "try: This block is used to wrap the code that might raise an exception.\n",
    "except: This block is used to catch and handle the exception.\n",
    "else: This block is executed if no exception occurs in the try block.\n",
    "finally: This block is executed no matter whether an exception occurred or not"
   ]
  },
  {
   "cell_type": "code",
   "execution_count": 6,
   "id": "103daf82-3b41-4c7c-bb45-7949feb5c9ef",
   "metadata": {},
   "outputs": [
    {
     "name": "stdout",
     "output_type": "stream",
     "text": [
      "Caught a division by zero error\n",
      "This block is always executed\n"
     ]
    }
   ],
   "source": [
    "try:\n",
    "    result = 10 / 0\n",
    "except ZeroDivisionError:\n",
    "    print(\"Caught a division by zero error\")\n",
    "else:\n",
    "    print(\"No exception occurred, result is:\", result)\n",
    "finally:\n",
    "    print(\"This block is always executed\")\n"
   ]
  },
  {
   "cell_type": "code",
   "execution_count": null,
   "id": "8b39fd60-c0dc-48ae-86a6-ff39775b3433",
   "metadata": {},
   "outputs": [],
   "source": [
    "Q4. Explain with an Example: try and else, finally, and raise"
   ]
  },
  {
   "cell_type": "code",
   "execution_count": 7,
   "id": "2ee63a7b-0800-490d-9b1c-2eaf168326bc",
   "metadata": {},
   "outputs": [
    {
     "name": "stdout",
     "output_type": "stream",
     "text": [
      "No exception occurred, result is: 5.0\n",
      "This block is always executed\n"
     ]
    }
   ],
   "source": [
    "try:\n",
    "    result = 10 / 2\n",
    "except ZeroDivisionError:\n",
    "    print(\"Caught a division by zero error\")\n",
    "else:\n",
    "    print(\"No exception occurred, result is:\", result)\n",
    "finally:\n",
    "    print(\"This block is always executed\")\n"
   ]
  },
  {
   "cell_type": "code",
   "execution_count": 8,
   "id": "87d52946-e30b-4352-8a1f-b7fe4e1071ab",
   "metadata": {},
   "outputs": [
    {
     "name": "stdout",
     "output_type": "stream",
     "text": [
      "Caught a division by zero error\n",
      "This block is always executed\n"
     ]
    }
   ],
   "source": [
    "try:\n",
    "    result = 10 / 0\n",
    "except ZeroDivisionError:\n",
    "    print(\"Caught a division by zero error\")\n",
    "finally:\n",
    "    print(\"This block is always executed\")\n"
   ]
  },
  {
   "cell_type": "code",
   "execution_count": 9,
   "id": "a3d3c523-e6b0-4d7c-bee8-725b41e9ed4f",
   "metadata": {},
   "outputs": [
    {
     "name": "stdout",
     "output_type": "stream",
     "text": [
      "Caught an exception: This is a custom error message\n",
      "This block is always executed\n"
     ]
    }
   ],
   "source": [
    "try:\n",
    "    raise ValueError(\"This is a custom error message\")\n",
    "except ValueError as e:\n",
    "    print(\"Caught an exception:\", e)\n",
    "finally:\n",
    "    print(\"This block is always executed\")\n"
   ]
  },
  {
   "cell_type": "markdown",
   "id": "91cc85e5-0012-4370-a3a6-f7e9ca15d47c",
   "metadata": {},
   "source": [
    "Q5. What are Custom Exceptions in Python? Why Do We Need Custom Exceptions?"
   ]
  },
  {
   "cell_type": "markdown",
   "id": "5f42cb16-d6b2-4db1-8d5d-f83c1273d940",
   "metadata": {},
   "source": [
    "Custom exceptions allow us to create specific error types that can make our code more readable and meaningful. We need custom exceptions to handle specific error scenarios in a more controlled and descriptive manner."
   ]
  },
  {
   "cell_type": "code",
   "execution_count": 12,
   "id": "aa305ebd-6c23-4d3f-ba0d-7f47530922c9",
   "metadata": {},
   "outputs": [
    {
     "name": "stdout",
     "output_type": "stream",
     "text": [
      "Caught a custom exception: Negative value error\n"
     ]
    }
   ],
   "source": [
    "class CustomError(Exception):\n",
    "    pass\n",
    "\n",
    "def check_value(value):\n",
    "    if value < 0:\n",
    "        raise CustomError(\"Negative value error\")\n",
    "\n",
    "try:\n",
    "    check_value(-1)\n",
    "except CustomError as e:\n",
    "    print(\"Caught a custom exception:\", e)\n"
   ]
  },
  {
   "cell_type": "markdown",
   "id": "95a5281a-37d6-4b34-a7a0-9d65ac374da1",
   "metadata": {},
   "source": [
    "Q6. Create a Custom Exception Class. Use This Class to Handle an Exception."
   ]
  },
  {
   "cell_type": "code",
   "execution_count": 1,
   "id": "fae6d5f6-b9fa-4123-8e58-47deaaed36d3",
   "metadata": {},
   "outputs": [
    {
     "name": "stdout",
     "output_type": "stream",
     "text": [
      "Caught a custom exception: Negative value error: -5 is not allowed.\n",
      "This block is always executed\n"
     ]
    }
   ],
   "source": [
    "class NegativeValueError(Exception):\n",
    "    \"\"\"Exception raised for errors in the input value.\"\"\"\n",
    "    def __init__(self, value):\n",
    "        self.value = value\n",
    "        self.message = f\"Negative value error: {value} is not allowed.\"\n",
    "        super().__init__(self.message)\n",
    "\n",
    "def check_value(value):\n",
    "    if value < 0:\n",
    "        raise NegativeValueError(value)\n",
    "\n",
    "try:\n",
    "    check_value(-5)\n",
    "except NegativeValueError as e:\n",
    "    print(\"Caught a custom exception:\", e)\n",
    "finally:\n",
    "    print(\"This block is always executed\")\n"
   ]
  },
  {
   "cell_type": "code",
   "execution_count": null,
   "id": "b87a251b-a6b7-4bb4-8efb-6fd823301ed2",
   "metadata": {},
   "outputs": [],
   "source": []
  }
 ],
 "metadata": {
  "kernelspec": {
   "display_name": "Python 3 (ipykernel)",
   "language": "python",
   "name": "python3"
  },
  "language_info": {
   "codemirror_mode": {
    "name": "ipython",
    "version": 3
   },
   "file_extension": ".py",
   "mimetype": "text/x-python",
   "name": "python",
   "nbconvert_exporter": "python",
   "pygments_lexer": "ipython3",
   "version": "3.10.8"
  }
 },
 "nbformat": 4,
 "nbformat_minor": 5
}
