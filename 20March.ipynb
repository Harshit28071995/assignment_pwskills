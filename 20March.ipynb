{
 "cells": [
  {
   "cell_type": "code",
   "execution_count": 2,
   "id": "b77a9d5c-a79f-4551-9fda-b1df6a0a78f1",
   "metadata": {},
   "outputs": [
    {
     "ename": "SyntaxError",
     "evalue": "unterminated string literal (detected at line 20) (1333652298.py, line 20)",
     "output_type": "error",
     "traceback": [
      "\u001b[0;36m  Cell \u001b[0;32mIn[2], line 20\u001b[0;36m\u001b[0m\n\u001b[0;31m    company. You have a dataset with 5 features, including the customer's gender, age, contract type,\u001b[0m\n\u001b[0m                                                                       ^\u001b[0m\n\u001b[0;31mSyntaxError\u001b[0m\u001b[0;31m:\u001b[0m unterminated string literal (detected at line 20)\n"
     ]
    }
   ],
   "source": [
    "Q1. What is data encoding? How is it useful in data science?\n",
    "Data Encoding:\n",
    "\n",
    "Definition: Data encoding is the process of converting categorical data into numerical format, making it suitable \n",
    "for machine learning algorithms.\n",
    "Importance: Many machine learning models require numerical input, and encoding helps in transforming\n",
    "non-numeric data into a format that can be processed. It also helps in preserving the information contained in categorical data.\n",
    "Q2. What is nominal encoding? Provide an example of how you would use it in a real-world scenario.\n",
    "\n",
    "Q1. What is data encoding? How is it useful in data science?\n",
    "Data Encoding:\n",
    "\n",
    "Definition: Data encoding is the process of converting categorical data into numerical format, making it suitable for machine learning algorithms.\n",
    "Importance: Many machine learning models require numerical input, and encoding helps in transforming non-numeric data into a format that can be processed. It also helps in preserving the information contained in categorical data.\n",
    "Q2. What is nominal encoding? Provide an example of how you would use it in a real-world scenario.\n",
    "Nominal Encoding:\n",
    "\n",
    "Definition: Nominal encoding, also known as label encoding, assigns a unique integer to each category in a categorical feature.\n",
    "Example: Consider a dataset containing information about fruits. The \"fruit_type\" column can have values like \"apple\", \"banana\", and \"cherry\". Using nominal encoding, these could be encoded as follows:\n",
    "\"apple\" -> 0\n",
    "\"banana\" -> 1\n",
    "\"cherry\" -> 2\n",
    "Q3. In what situations is nominal encoding preferred over one-hot encoding? Provide a practical example.\n",
    "Situations for Nominal Encoding:\n",
    "\n",
    "Low Cardinality: When the categorical feature has a low number of unique categories.\n",
    "Ordinal Relationship: When there's an implicit order among categories.\n",
    "Practical Example:\n",
    "\n",
    "Example: Consider the feature \"education_level\" with values: \"high school\", \n",
    "\"bachelor's\", \"master's\", and \"PhD\". If the model can interpret the order, nominal encoding is preferred:\n",
    "\"high school\" -> 0\n",
    "\"bachelor's\" -> 1\n",
    "\"master's\" -> 2\n",
    "\"PhD\" -> 3\n",
    "Q4. Suppose you have a dataset containing categorical data with 5 unique values. Which encoding\n",
    "technique would you use to transform this data into a format suitable for machine learning algorithms?\n",
    "Explain why you made this choice.\n",
    "\n",
    "Encoding Technique: One-Hot Encoding\n",
    "\n",
    "Reason: One-Hot Encoding is suitable for handling categorical data with a \n",
    "few unique values because it avoids imposing an ordinal relationship where none exists and ensures that the model treats each category independently.\n",
    "Q5. In a machine learning project, you have a dataset with 1000 rows and 5 columns. Two of the columns\n",
    "are categorical, and the remaining three columns are numerical. If you were to use nominal encoding to\n",
    "transform the categorical data, how many new columns would be created? Show your calculations.\n",
    "\n",
    "Assumption: Each categorical column has 'n' unique values.\n",
    "\n",
    "Columns Before Encoding: 5 (3 numerical + 2 categorical)\n",
    "Columns After Nominal Encoding: Each categorical column is replaced with a single column containing integer values.\n",
    "Total Columns After Nominal Encoding: 5 (same as before, since each categorical column is replaced by one column)\n",
    "Q6. You are working with a dataset containing information about different types of animals, including their\n",
    "species, habitat, and diet. Which encoding technique would you use to transform the categorical data into\n",
    "a format suitable for machine learning algorithms? Justify your answer.\n",
    "Encoding Technique: One-Hot Encoding\n",
    "\n",
    "Justification: In this case, the categories (species, habitat, diet) likely do not have a\n",
    "natural ordinal relationship, making one-hot encoding the appropriate choice to ensure that the model does not assume any ordinal relationship between categories.\n",
    "\n",
    "Q7.You are working on a project that involves predicting customer churn for a telecommunications\n",
    "company. You have a dataset with 5 features, including the customer's gender, age, contract type,\n",
    "monthly charges, and tenure. Which encoding technique(s) would you use to transform the categorical\n",
    "data into numerical data? Provide a step-by-step explanation of how you would implement the encoding.\n",
    "Features:\n",
    "\n",
    "Categorical: gender, contract type\n",
    "Numerical: age, monthly charges, tenure\n",
    "Encoding Techniques:\n",
    "\n",
    "Gender: Nominal Encoding (if binary) or One-Hot Encoding (if more than two categories)\n",
    "Contract Type: One-Hot Encoding"
   ]
  },
  {
   "cell_type": "code",
   "execution_count": null,
   "id": "849c92cb-dae6-4660-8081-be8aaa56b90c",
   "metadata": {},
   "outputs": [],
   "source": []
  }
 ],
 "metadata": {
  "kernelspec": {
   "display_name": "Python 3 (ipykernel)",
   "language": "python",
   "name": "python3"
  },
  "language_info": {
   "codemirror_mode": {
    "name": "ipython",
    "version": 3
   },
   "file_extension": ".py",
   "mimetype": "text/x-python",
   "name": "python",
   "nbconvert_exporter": "python",
   "pygments_lexer": "ipython3",
   "version": "3.10.8"
  }
 },
 "nbformat": 4,
 "nbformat_minor": 5
}
