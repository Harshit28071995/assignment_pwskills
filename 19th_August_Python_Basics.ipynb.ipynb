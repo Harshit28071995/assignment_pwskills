{
 "cells": [
  {
   "cell_type": "markdown",
   "id": "61ee0dfd-91e8-4fd0-9a1c-29414e02aa16",
   "metadata": {
    "tags": []
   },
   "source": [
    "# Python Basics Assignment Question"
   ]
  },
  {
   "cell_type": "markdown",
   "id": "6b237802-ae85-4ee3-993a-0b8e0b8e7fa6",
   "metadata": {},
   "source": [
    "## TOPIC: Python Basics Variable "
   ]
  },
  {
   "cell_type": "markdown",
   "id": "7aeb3667-7d9e-4c26-8a19-2d26141a2848",
   "metadata": {},
   "source": [
    "## 1. Declare two variables, x and y, and assign them integer values. Swap the values of these variables without using any temporary variable.\n"
   ]
  },
  {
   "cell_type": "code",
   "execution_count": 7,
   "id": "aa94dcd6-b546-4d38-a87b-4300a34a9e9a",
   "metadata": {},
   "outputs": [
    {
     "name": "stdout",
     "output_type": "stream",
     "text": [
      "before x: 6 and y: 7\n",
      "After x: 7 and y: 6\n"
     ]
    }
   ],
   "source": [
    "# Step 1: Declare and initialize variables\n",
    "x = 6\n",
    "y = 7\n",
    "\n",
    "# Step 2: Creating function to swap the variables\n",
    "def swap_variables(x,y):\n",
    "  print(f\"before x: {x} and y: {y}\")\n",
    "  x,y = y, x\n",
    "  print(f\"After x: {x} and y: {y}\")\n",
    "\n",
    "swap_variables(x,y)"
   ]
  },
  {
   "cell_type": "markdown",
   "id": "5cd0b389-8567-4945-98ae-5ed0a16d8a45",
   "metadata": {},
   "source": [
    "## 2 Create a program that calculates the area of a rectangle. Take the length and width as inputs from the user and store them in variables. Calculate and display the area."
   ]
  },
  {
   "cell_type": "code",
   "execution_count": 8,
   "id": "88961e38-1d84-4f4a-99c6-c73b95c1e6b1",
   "metadata": {},
   "outputs": [
    {
     "name": "stdin",
     "output_type": "stream",
     "text": [
      "length of rectangle 3\n",
      "width of rectangle 2\n"
     ]
    },
    {
     "name": "stdout",
     "output_type": "stream",
     "text": [
      "Area= 6.0\n"
     ]
    }
   ],
   "source": [
    "l=float(input(\"length of rectangle\")) #taking input from user for length\n",
    "w=float(input(\"width of rectangle\"))  #taking input from user for width\n",
    "area=l*w   #calculating area\n",
    "print(\"Area=\",area) #printing area"
   ]
  },
  {
   "cell_type": "markdown",
   "id": "3ffaed6b-7588-4a6a-b899-3be4da8f3d14",
   "metadata": {},
   "source": [
    "## 3 Write a Python program that converts temperatures from Celsius to Fahrenheit. Take the temperature in Celsius as input, store it in a variable, convert it to Fahrenheit, and display the result."
   ]
  },
  {
   "cell_type": "code",
   "execution_count": 10,
   "id": "7f52e2b1-553e-4a8f-af69-b78fb2d107d2",
   "metadata": {},
   "outputs": [
    {
     "name": "stdin",
     "output_type": "stream",
     "text": [
      "temp in celsius 37\n"
     ]
    },
    {
     "name": "stdout",
     "output_type": "stream",
     "text": [
      "temp= 98.60000000000001\n"
     ]
    }
   ],
   "source": [
    "celsius=float(input(\"temp in celsius\")) #taking input in celsius\n",
    "#converting it in fahrenheit\n",
    "farenheit=(9/5)*celsius+32 \n",
    "#printing the result\n",
    "print(\"temp=\",farenheit)\n"
   ]
  },
  {
   "cell_type": "markdown",
   "id": "8fd79667-bc69-4768-96d5-4b04860f0d3a",
   "metadata": {},
   "source": [
    "## TOPIC: String Based Questions"
   ]
  },
  {
   "cell_type": "markdown",
   "id": "cbd64432-7939-4132-a73e-28d34c7849d5",
   "metadata": {},
   "source": [
    "## 1 Write a Python program that takes a string as input and prints the length of the string."
   ]
  },
  {
   "cell_type": "code",
   "execution_count": 12,
   "id": "631c1203-7532-4125-8491-13e4527433f0",
   "metadata": {},
   "outputs": [
    {
     "name": "stdin",
     "output_type": "stream",
     "text": [
      "give me the input vsbsdhfb\n"
     ]
    },
    {
     "name": "stdout",
     "output_type": "stream",
     "text": [
      "length is: 8\n"
     ]
    }
   ],
   "source": [
    "#taking input\n",
    "s=str(input(\"input string value\"))\n",
    "\n",
    "#counting the length\n",
    "l=len(s)\n",
    "\n",
    "#printing the length\n",
    "print(\"length is:\",l)"
   ]
  },
  {
   "cell_type": "markdown",
   "id": "0b590d53-6b40-498f-92f5-8a5e38393ddc",
   "metadata": {},
   "source": [
    "## 2 Create a program that takes a sentence from the user and counts the number of vowels (a, e, i, o, u) in the string."
   ]
  },
  {
   "cell_type": "code",
   "execution_count": 19,
   "id": "66e2f99d-3e07-411a-a496-38c54d1952ca",
   "metadata": {},
   "outputs": [
    {
     "name": "stdin",
     "output_type": "stream",
     "text": [
      "Enter a sentence:  bnmmkmo\n"
     ]
    },
    {
     "name": "stdout",
     "output_type": "stream",
     "text": [
      "Number of vowels in the sentence: 1\n"
     ]
    }
   ],
   "source": [
    "sentence = input(\"Enter a sentence: \")\n",
    "\n",
    "# Initialize a variable to count vowels\n",
    "vowel_count = 0\n",
    "\n",
    "# Iterate through each character in the sentence\n",
    "for char in sentence:\n",
    "    char_lower = char.lower()\n",
    "    # Check if the character is a vowel\n",
    "    if char_lower in 'aeiou':\n",
    "        vowel_count += 1\n",
    "\n",
    "# Print the vowel count\n",
    "print(\"Number of vowels in the sentence:\", vowel_count)"
   ]
  },
  {
   "cell_type": "markdown",
   "id": "932ef4ba-ab75-4125-988e-292bea325486",
   "metadata": {},
   "source": [
    "## 3 Given a string, reverse the order of characters using string slicing and print the reversed string."
   ]
  },
  {
   "cell_type": "code",
   "execution_count": 3,
   "id": "c573bb0c-6db3-4ad3-af8c-b89db22bd76e",
   "metadata": {},
   "outputs": [
    {
     "name": "stdin",
     "output_type": "stream",
     "text": [
      "enter string to be reversed \n"
     ]
    },
    {
     "name": "stdout",
     "output_type": "stream",
     "text": [
      "reversed string is: \n"
     ]
    }
   ],
   "source": [
    "#taking input \n",
    "string=input(\"enter string to be reversed\")\n",
    "\n",
    "#reversing the string\n",
    "reversed_string=string[::-1]\n",
    "\n",
    "#printing the string\n",
    "print(\"reversed string is:\",reversed_string)"
   ]
  },
  {
   "cell_type": "markdown",
   "id": "04dc20e7-762f-463e-9535-f4e38d82bab2",
   "metadata": {},
   "source": [
    "## 4 Write a program that takes a string as input and checks if it is a palindrome (reads the same forwards and backwards)."
   ]
  },
  {
   "cell_type": "code",
   "execution_count": 1,
   "id": "96a6cfd7-4700-463a-88b6-1cba2be9fc78",
   "metadata": {},
   "outputs": [
    {
     "name": "stdin",
     "output_type": "stream",
     "text": [
      "enter string to check it is a palindrome or not hello adgf j\n"
     ]
    },
    {
     "name": "stdout",
     "output_type": "stream",
     "text": [
      "not a palindrome\n"
     ]
    }
   ],
   "source": [
    "#enter the string\n",
    "string=input(\"enter string to check it is a palindrome or not\")\n",
    "\n",
    "#remove spaces and convert into lowercase\n",
    "string_remove=string.replace(\" \", \"\").lower()\n",
    "\n",
    "#reversing the string\n",
    "new_string=string_remove[::-1]\n",
    "\n",
    "#comapring the string\n",
    "if string==new_string:\n",
    "  print(\"it is a palindrome\")\n",
    "else:\n",
    "  print(\"it is not a palindrome\")"
   ]
  },
  {
   "cell_type": "markdown",
   "id": "56bf5f13-1b10-4de5-ad35-57a1a5af1afb",
   "metadata": {},
   "source": [
    "## 5 Create a program that takes a string as input and removes all the spaces from it. Print the modified string without spaces."
   ]
  },
  {
   "cell_type": "code",
   "execution_count": 2,
   "id": "ddb33936-a7db-440d-b6f3-dce86c151d8b",
   "metadata": {},
   "outputs": [
    {
     "name": "stdin",
     "output_type": "stream",
     "text": [
      "enter string with spaces hjadfa adjgfad f\n"
     ]
    },
    {
     "name": "stdout",
     "output_type": "stream",
     "text": [
      "string without spaces hjadfaadjgfadf\n"
     ]
    }
   ],
   "source": [
    "#taking input\n",
    "string = input(\"enter string with spaces\")\n",
    "\n",
    "\n",
    "#removing spaces using replace command\n",
    "new_string= string.replace(\" \",\"\")\n",
    "\n",
    "#printing the new string without spaces\n",
    "print(\"string without spaces\", new_string)\n"
   ]
  },
  {
   "cell_type": "code",
   "execution_count": null,
   "id": "64841e9c-18e2-426a-b8c0-8a4cf9f5b7fd",
   "metadata": {},
   "outputs": [],
   "source": []
  }
 ],
 "metadata": {
  "kernelspec": {
   "display_name": "Python 3 (ipykernel)",
   "language": "python",
   "name": "python3"
  },
  "language_info": {
   "codemirror_mode": {
    "name": "ipython",
    "version": 3
   },
   "file_extension": ".py",
   "mimetype": "text/x-python",
   "name": "python",
   "nbconvert_exporter": "python",
   "pygments_lexer": "ipython3",
   "version": "3.10.8"
  }
 },
 "nbformat": 4,
 "nbformat_minor": 5
}
