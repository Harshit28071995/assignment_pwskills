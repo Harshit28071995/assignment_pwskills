{
 "cells": [
  {
   "cell_type": "markdown",
   "id": "07da497c-9adb-41c4-b877-e95c8264bf04",
   "metadata": {},
   "source": [
    "# Assignment : Python - For loop\n"
   ]
  },
  {
   "cell_type": "markdown",
   "id": "e26d9d90-7306-42fe-aec4-825d3c66b8de",
   "metadata": {},
   "source": [
    "## Basic Level:"
   ]
  },
  {
   "cell_type": "markdown",
   "id": "1dea78d9-6f0a-488a-b3f1-282fdddb265d",
   "metadata": {},
   "source": [
    "### 1. Write a Python program to print the numbers from 1 to 10 using a `for` loop."
   ]
  },
  {
   "cell_type": "code",
   "execution_count": 3,
   "id": "8b2240d7-6a3f-4a54-8b33-f72c50a42185",
   "metadata": {},
   "outputs": [
    {
     "name": "stdout",
     "output_type": "stream",
     "text": [
      "1\n",
      "2\n",
      "3\n",
      "4\n",
      "5\n",
      "6\n",
      "7\n",
      "8\n",
      "9\n",
      "10\n"
     ]
    }
   ],
   "source": [
    "for i in range(1,11):\n",
    " print(i)"
   ]
  },
  {
   "cell_type": "markdown",
   "id": "fda299ea-10bc-43e0-9bcf-5c0644bcd48f",
   "metadata": {},
   "source": [
    "--> using range function and for loop to print numbers from 1 to 10"
   ]
  },
  {
   "cell_type": "markdown",
   "id": "128a98e0-f787-4572-b147-1d9f227da4e7",
   "metadata": {},
   "source": [
    "### 2. Create a program that calculates the sum of all numbers in a list using a `for` loop."
   ]
  },
  {
   "cell_type": "code",
   "execution_count": 12,
   "id": "4f4931eb-5942-4548-aae3-41058e2b88c1",
   "metadata": {},
   "outputs": [
    {
     "name": "stdout",
     "output_type": "stream",
     "text": [
      "sum is 10\n"
     ]
    }
   ],
   "source": [
    "l=[1,2,3,4]  # Sample list of numbers\n",
    "s=0 # Initialize a variable to store the sum\n",
    "for i in l: # Iterate over each element in the list\n",
    "    s+=i # Add the current number to the sum\n",
    "print(\"sum is\",s) # Print the result"
   ]
  },
  {
   "cell_type": "markdown",
   "id": "b330eb9c-dc45-4e8b-8503-844ad43b4760",
   "metadata": {},
   "source": [
    "### 3. Write a program to print the characters of a string in reverse order using a `for` loop."
   ]
  },
  {
   "cell_type": "code",
   "execution_count": 21,
   "id": "5f15c213-5a9e-40fc-98ed-8b8637ebbd26",
   "metadata": {},
   "outputs": [
    {
     "name": "stdin",
     "output_type": "stream",
     "text": [
      "Enter a string:  hello\n"
     ]
    },
    {
     "name": "stdout",
     "output_type": "stream",
     "text": [
      "Reversed string: olleh\n"
     ]
    }
   ],
   "source": [
    "# Take user input for a string\n",
    "input_string = input(\"Enter a string: \")\n",
    "\n",
    "# Initialize an empty string to store the reversed characters\n",
    "reversed_string = \"\"\n",
    "\n",
    "# Use a for loop to iterate through the characters of the input string in reverse order\n",
    "for char in reversed(input_string):\n",
    "    reversed_string += char\n",
    "\n",
    "# Print the reversed string\n",
    "print(\"Reversed string:\", reversed_string)\n"
   ]
  },
  {
   "cell_type": "markdown",
   "id": "c2b6a98e-436f-4ca2-a48b-cbec168476b0",
   "metadata": {},
   "source": [
    "### 4. Develop a program that finds the factorial of a given number using a `for` loop."
   ]
  },
  {
   "cell_type": "code",
   "execution_count": 20,
   "id": "bfb29cb0-ea94-4d9a-91fa-7942808a7942",
   "metadata": {},
   "outputs": [
    {
     "name": "stdin",
     "output_type": "stream",
     "text": [
      "Enter a number for which factorial to be calculated:  4\n"
     ]
    },
    {
     "name": "stdout",
     "output_type": "stream",
     "text": [
      "Factorial of the number is 24\n"
     ]
    }
   ],
   "source": [
    "# Take user input for the number for which factorial is to be calculated\n",
    "s = int(input(\"Enter a number for which factorial to be calculated: \"))\n",
    "\n",
    "# Initialize the factorial variable to 1\n",
    "factorial = 1\n",
    "\n",
    "# Use a for loop to iterate from 1 to the given number \n",
    "for i in range(1, s + 1):\n",
    "    # Multiply each iteration value with the current factorial\n",
    "    factorial *= i\n",
    "\n",
    "# Print the calculated factorial\n",
    "print(\"Factorial of the number is\", factorial)"
   ]
  },
  {
   "cell_type": "markdown",
   "id": "38476a23-bb63-44a1-bcdb-b499339a5e9d",
   "metadata": {},
   "source": [
    "### 5.Create a program to print the multiplication table of a given number using a for loop."
   ]
  },
  {
   "cell_type": "code",
   "execution_count": 29,
   "id": "681c1d07-10bf-4481-a6b5-dfd92c5b5265",
   "metadata": {},
   "outputs": [
    {
     "name": "stdin",
     "output_type": "stream",
     "text": [
      "Enter a number:  3\n"
     ]
    },
    {
     "name": "stdout",
     "output_type": "stream",
     "text": [
      "3\n",
      "6\n",
      "9\n",
      "12\n",
      "15\n",
      "18\n",
      "21\n",
      "24\n",
      "27\n",
      "30\n"
     ]
    }
   ],
   "source": [
    "num = int(input(\"Enter a number: \"))\n",
    "\n",
    "# Use a for loop to iterate from 1 to 10 (inclusive)\n",
    "for i in range(1, 11):\n",
    "    # Multiply the entered number by the current loop variable 'i'\n",
    "    result = num * i\n",
    "  # Print the result\n",
    "    print(result)\n"
   ]
  },
  {
   "cell_type": "markdown",
   "id": "3118059a-8872-454c-b6e5-df59f949e45f",
   "metadata": {},
   "source": [
    "### 6. Write a program that counts the number of even and odd numbers in a list using a `for` loop."
   ]
  },
  {
   "cell_type": "code",
   "execution_count": 45,
   "id": "f5079146-8246-450d-8dd3-362030c152a1",
   "metadata": {},
   "outputs": [
    {
     "name": "stdout",
     "output_type": "stream",
     "text": [
      "Even numbers in the list: 3\n",
      "Odd numbers in the list: 3\n"
     ]
    }
   ],
   "source": [
    "l = [1, 2, 3, 4, 5, 6]\n",
    "e = 0 # variable to count even numbers\n",
    "o = 0 # variable to count odd numbers\n",
    "\n",
    "for i in l:\n",
    "    if i % 2 == 0:\n",
    "        e += 1 ##e += 1: Increments the even count (e) when an even number is encountered.\n",
    "    else:\n",
    "        o += 1 ## o += 1: Increments the odd count (o) when an odd number is encountered.\n",
    "\n",
    "print(\"Even numbers in the list:\", e) ##print(\"Even numbers in the list:\", e): Prints the count of even numbers\n",
    "print(\"Odd numbers in the list:\", o)  ##print(\"Odd numbers in the list:\", o): Prints the count of odd numbers."
   ]
  },
  {
   "cell_type": "markdown",
   "id": "7dee4fa6-4e83-40c9-8262-659cefbc2c3c",
   "metadata": {},
   "source": [
    "### 7. Develop a program that prints the squares of numbers from 1 to 5 using a `for` loop."
   ]
  },
  {
   "cell_type": "code",
   "execution_count": 32,
   "id": "500da153-1150-40f6-9110-c303c2f80cf3",
   "metadata": {},
   "outputs": [
    {
     "name": "stdout",
     "output_type": "stream",
     "text": [
      " square of the number from 1 to 5 is\n",
      "1\n",
      "4\n",
      "9\n",
      "16\n",
      "25\n"
     ]
    }
   ],
   "source": [
    "print(\" square of the number from 1 to 5 is\")\n",
    "for i in range(1,6):\n",
    "    print(i*i)\n",
    "    \n",
    "##It uses a for loop to iterate through the range of numbers from 1 to 5  and prints the square of each number using the expression i * i"
   ]
  },
  {
   "cell_type": "markdown",
   "id": "4249f46a-293b-4d75-b950-9c190a53adcb",
   "metadata": {},
   "source": [
    "### 8. Create a program to find the length of a string without using the `len()` function."
   ]
  },
  {
   "cell_type": "code",
   "execution_count": 40,
   "id": "d2980f91-1006-4ad9-ad84-c8dd6abd48ca",
   "metadata": {},
   "outputs": [
    {
     "name": "stdin",
     "output_type": "stream",
     "text": [
      " input string  asdf'\n"
     ]
    },
    {
     "name": "stdout",
     "output_type": "stream",
     "text": [
      "Length of the string is: 5\n"
     ]
    }
   ],
   "source": [
    "s=input(\" input string \") # Take user input for a string\n",
    "l=0 # Initialize a variable to store the length of the string\n",
    "for i in s: #Use a for loop to iterate through each character in the string\n",
    "    l+=1   # Increment the length variable for each character\n",
    "\n",
    "# Print the length of the string\n",
    "print(\"Length of the string is:\", l)"
   ]
  },
  {
   "cell_type": "markdown",
   "id": "64f20c41-46f2-4b57-968e-e26dd10762f2",
   "metadata": {},
   "source": [
    "### 9. Write a program that calculates the average of a list of numbers using a `for` loop."
   ]
  },
  {
   "cell_type": "code",
   "execution_count": 49,
   "id": "1e6433d0-81c6-4393-879e-21a80efb988c",
   "metadata": {},
   "outputs": [
    {
     "name": "stdout",
     "output_type": "stream",
     "text": [
      "average is 3.5\n"
     ]
    }
   ],
   "source": [
    "l=[1,2,3,4,5,6] # Given list of numbers\n",
    "s=0 # Initialize a variable to store the sum of numbers\n",
    "\n",
    "for i in l: # Use a for loop to iterate through each number in the list\n",
    "    s+=i   # Add the current number to the sum\n",
    "    \n",
    "avg=s/len(l) # Calculate the average by dividing the sum by the length of the list\n",
    "print(\"average is\",avg) \n",
    "# Print the calculated average\n",
    "      "
   ]
  },
  {
   "cell_type": "markdown",
   "id": "ba276e94-0ef2-4210-b565-33537eb8b71f",
   "metadata": {},
   "source": [
    "### 10. Develop a program that prints the first `n` Fibonacci numbers using a `for` loop."
   ]
  },
  {
   "cell_type": "code",
   "execution_count": 2,
   "id": "e31bcd3d-2e27-47a8-86c7-1a1e17a9351b",
   "metadata": {},
   "outputs": [
    {
     "name": "stdin",
     "output_type": "stream",
     "text": [
      "Enter the number of Fibonacci numbers to print:  4\n"
     ]
    },
    {
     "name": "stdout",
     "output_type": "stream",
     "text": [
      "First 4 Fibonacci numbers:\n",
      "0 1 1 2 "
     ]
    }
   ],
   "source": [
    "\n",
    "n = int(input(\"Enter the number of Fibonacci numbers to print: \"))# Get the number of Fibonacci numbers to print\n",
    "\n",
    "fib_sequence = [0, 1]# Initialize the first two numbers in the Fibonacci sequence\n",
    "\n",
    "\n",
    "for i in range(2, n): # Generate the Fibonacci sequence using for loop\n",
    "    next_fibonacci = fib_sequence[i - 1] + fib_sequence[i - 2]\n",
    "    fib_sequence.append(next_fibonacci)\n",
    "\n",
    "print(f\"First {n} Fibonacci numbers:\") # Print the first n Fibonacci numbers\n",
    "for fib_number in fib_sequence:\n",
    "    print(fib_number, end=\" \")"
   ]
  },
  {
   "cell_type": "markdown",
   "id": "2f966829-ad4e-42a2-8405-0259f9107ab5",
   "metadata": {},
   "source": [
    "## Intermediate Level:"
   ]
  },
  {
   "cell_type": "markdown",
   "id": "756f988a-7bec-4376-a5ff-49030a06a18e",
   "metadata": {},
   "source": [
    "### 11. Write a program to check if a given list contains any duplicates using a `for` loop."
   ]
  },
  {
   "cell_type": "code",
   "execution_count": 5,
   "id": "0256d576-dec6-47e6-b59f-335e6eabbf0e",
   "metadata": {},
   "outputs": [
    {
     "name": "stdout",
     "output_type": "stream",
     "text": [
      "The list does not contain duplicates.\n"
     ]
    }
   ],
   "source": [
    "my_li = [1, 2, 3, 4, 5]\n",
    "\n",
    "# Flag to track\n",
    "has_duplicates = False\n",
    "\n",
    "# Check for duplicates \n",
    "for i in range(len(my_li)):\n",
    "    for j in range(i + 1, len(my_li)):\n",
    "        if my_li[i] == my_li[j]:\n",
    "            has_duplicates = True\n",
    "            break\n",
    "\n",
    "# Print the result\n",
    "if has_duplicates:\n",
    "    print(\"The list contains duplicates.\")\n",
    "else:\n",
    "    print(\"The list does not contain duplicates.\")"
   ]
  },
  {
   "cell_type": "code",
   "execution_count": 7,
   "id": "1d3a335e-d1c6-4ec3-b6dc-21765e5d51e7",
   "metadata": {},
   "outputs": [],
   "source": [
    "### the has_duplicates flag remains False unless a duplicate is found.\n",
    "### The inner loop runs to completion, checking all pairs of elements, \n",
    "### and if it finds a duplicate, it sets the has_duplicates flag to True."
   ]
  },
  {
   "cell_type": "markdown",
   "id": "29b4c66d-d711-4b0e-b3a8-8b2bbb2d1257",
   "metadata": {},
   "source": [
    "### 12. Create a program that prints the prime numbers in a given range using a `for` loop.\n"
   ]
  },
  {
   "cell_type": "code",
   "execution_count": 9,
   "id": "98bc4ca6-6fb5-43e6-a4a5-d94596df2a2a",
   "metadata": {},
   "outputs": [
    {
     "name": "stdout",
     "output_type": "stream",
     "text": [
      "Prime numbers in the range 1 to 100:\n",
      "2 3 5 7 11 13 17 19 23 29 31 37 41 43 47 53 59 61 67 71 73 79 83 89 97 "
     ]
    }
   ],
   "source": [
    "start_range = 1\n",
    "end_range = 100\n",
    "\n",
    "# Print prime numbers in the given range\n",
    "print(f\"Prime numbers in the range {start_range} to {end_range}:\")\n",
    "for number in range(start_range, end_range + 1):\n",
    "    if number > 1:\n",
    "        is_prime = True\n",
    "        for i in range(2, int(number**0.5) + 1):\n",
    "            if number % i == 0:\n",
    "                is_prime = False\n",
    "                break\n",
    "        if is_prime:\n",
    "            print(number, end=\" \")\n",
    "    "
   ]
  },
  {
   "cell_type": "markdown",
   "id": "0fb0eafb-bc96-42dc-8bd5-2bf79083fd4a",
   "metadata": {},
   "source": [
    "### 13. Develop a program that counts the number of vowels in a string using a `for` loop.\n",
    "\n",
    "\n",
    "\n"
   ]
  },
  {
   "cell_type": "code",
   "execution_count": 14,
   "id": "51e62613-2005-4f76-a560-032774069a4c",
   "metadata": {},
   "outputs": [
    {
     "name": "stdin",
     "output_type": "stream",
     "text": [
      "enter the string EeE\n"
     ]
    },
    {
     "name": "stdout",
     "output_type": "stream",
     "text": [
      "number of vowels 3\n"
     ]
    }
   ],
   "source": [
    "str=input(\"enter the string\") # Take user input for a string\n",
    "v=0\n",
    "# Initialize a variable to count vowels\n",
    "\n",
    "for i in str:# Iterate over each character in the input string\n",
    "    if i.lower() in ('a','e','i','o','u'):  # Check if the lowercase version of the current character is a vowel\n",
    "         v+=1 # If it is a vowel, increment the vowel count\n",
    "\n",
    "print(\"number of vowels\",v) # Print the total count of vowels"
   ]
  },
  {
   "cell_type": "markdown",
   "id": "eecfa6e6-3241-4928-8e7b-e74a9095a306",
   "metadata": {},
   "source": [
    "### 14. Write a program to find the maximum element in a 2D list using a nested `for` loop.\n",
    "\n"
   ]
  },
  {
   "cell_type": "code",
   "execution_count": 1,
   "id": "2dd3049a-8490-4b73-868c-60b1c1136357",
   "metadata": {},
   "outputs": [
    {
     "name": "stdout",
     "output_type": "stream",
     "text": [
      "Maximum element: 9\n"
     ]
    }
   ],
   "source": [
    "# 2D list \n",
    "matrix = [\n",
    "    [3, 5, 1],\n",
    "    [8, 2, 4],\n",
    "    [7, 9, 6]\n",
    "]\n",
    "\n",
    "# Initialize max_element with the minimum possible integer value\n",
    "max_element = float('-inf')\n",
    "\n",
    "# Nested loops to iterate through each element in the 2D list\n",
    "for row in matrix:\n",
    "    for element in row:\n",
    "        # Compare the current element with the current max_element\n",
    "        if element > max_element:\n",
    "            max_element = element\n",
    "\n",
    "# Print the maximum element found in the 2D list\n",
    "print(\"Maximum element:\", max_element)\n"
   ]
  },
  {
   "cell_type": "markdown",
   "id": "fae2f605-31bc-483e-9cb4-6f668aedb667",
   "metadata": {},
   "source": [
    "### 15. Create a program that removes all occurrences of a specific element from a list using a `for` loop.\n",
    "\n"
   ]
  },
  {
   "cell_type": "code",
   "execution_count": 4,
   "id": "62803a53-aeb1-4799-b5ad-01fcf9845a09",
   "metadata": {},
   "outputs": [
    {
     "name": "stdout",
     "output_type": "stream",
     "text": [
      "List after removing 2 : [1, 3, 4, 5, 6]\n"
     ]
    }
   ],
   "source": [
    "# list\n",
    "my_list = [1, 2, 3, 4, 2, 5, 2, 6,2,2]\n",
    "\n",
    "# Element to be removed\n",
    "element_to_remove = 2\n",
    "\n",
    "# for loop to iterate over the list in reverse\n",
    "for item in reversed(my_list):\n",
    "                     ##Using reversed() ensures that you iterate over the list in reverse order, \n",
    "                     ##and it's particularly important when you are modifying the list while iterating\n",
    "    if item == element_to_remove:  # Check if the current item is equal to the element to be removed\n",
    "        my_list.remove(item)  # Remove the element if it matches\n",
    "        # Note that this modifies the list during iteration, which is safe  because we are iterating in reverse.\n",
    "\n",
    "# Print the updated list\n",
    "print(\"List after removing\", element_to_remove, \":\", my_list)"
   ]
  },
  {
   "cell_type": "markdown",
   "id": "9373ae3c-ab28-45c0-b6d1-76fa78529b63",
   "metadata": {},
   "source": [
    "### 16. Develop a program that generates a multiplication table for numbers from 1 to 5 using a nested `for` loop.\n",
    "\n"
   ]
  },
  {
   "cell_type": "code",
   "execution_count": 9,
   "id": "d24b50c7-4e7c-4928-b160-fae664509f6a",
   "metadata": {},
   "outputs": [
    {
     "name": "stdout",
     "output_type": "stream",
     "text": [
      "1\t2\t3\t4\t5\t6\t7\t8\t9\t10\t\n",
      "2\t4\t6\t8\t10\t12\t14\t16\t18\t20\t\n",
      "3\t6\t9\t12\t15\t18\t21\t24\t27\t30\t\n",
      "4\t8\t12\t16\t20\t24\t28\t32\t36\t40\t\n",
      "5\t10\t15\t20\t25\t30\t35\t40\t45\t50\t\n"
     ]
    }
   ],
   "source": [
    "for i in range(1,6): ##This loop iterates over values from 1 to 5\n",
    "    for j in range(1,11): ## Inside the outer loop, there's another loop that iterates over values from 1 to 10\n",
    "        s=i*j #the variable s is assigned the product of i and j, representing the result of the multiplication.\n",
    "        print(s,end='\\t')# Print the product, followed by a tab character (use '\\t' for indentation)\n",
    "    print() # Move to the next line after printing each row"
   ]
  },
  {
   "cell_type": "markdown",
   "id": "5fb6356c-ecef-4844-b93a-872d7de4c385",
   "metadata": {},
   "source": [
    "### 17. Write a program that converts a list of Fahrenheit temperatures to Celsius using a `for` loop.\n",
    "\n"
   ]
  },
  {
   "cell_type": "code",
   "execution_count": 7,
   "id": "f77fb396-15a9-4c76-bdec-ad2b6d7320f8",
   "metadata": {},
   "outputs": [
    {
     "name": "stdout",
     "output_type": "stream",
     "text": [
      "36.7\n",
      "37.2\n",
      "37.8\n"
     ]
    }
   ],
   "source": [
    "f=[98,99,100] # List of Fahrenheit temperatures\n",
    "for i in f:\n",
    "# Iterate over each temperature in the list\n",
    "    c=((i-32)*5)/9 # Convert Fahrenheit to Celsius using the formula (C = (F - 32) * 5 / 9)\n",
    "    print(round(c,1)) # Printing the result, rounding to one decimal place\n",
    "    "
   ]
  },
  {
   "cell_type": "markdown",
   "id": "9d21b5bd-c13e-425a-8803-4b2bdf20818e",
   "metadata": {},
   "source": [
    "### 18. Create a program to print the common elements from two lists using a `for` loop.\n",
    "\n"
   ]
  },
  {
   "cell_type": "code",
   "execution_count": 12,
   "id": "47828be8-3ce3-4b2e-bf2d-a5d947b314da",
   "metadata": {},
   "outputs": [
    {
     "name": "stdout",
     "output_type": "stream",
     "text": [
      "4\n",
      "5\n"
     ]
    }
   ],
   "source": [
    "# Two lists\n",
    "l1=[1,2,3,4,5]\n",
    "l2=[4,5,6,7]\n",
    "# Nested loop to compare elements in both lists\n",
    "for i in l1:\n",
    "    for j in l2:\n",
    "         # Check if the elements are equal\n",
    "        if i==j:\n",
    "            print(i)  # Print the common element"
   ]
  },
  {
   "cell_type": "markdown",
   "id": "b62eeafd-b9e4-442e-b14d-7a8b5e8832bf",
   "metadata": {},
   "source": [
    "### 19. Develop a program that prints the pattern of right-angled triangles using a `for` loop. Use ‘*’ to draw the pattern\n",
    "\n"
   ]
  },
  {
   "cell_type": "code",
   "execution_count": 5,
   "id": "1c93612d-b9ba-4949-82b1-03520298e80c",
   "metadata": {},
   "outputs": [
    {
     "name": "stdout",
     "output_type": "stream",
     "text": [
      "* \n",
      "* * \n",
      "* * * \n",
      "* * * * \n",
      "* * * * * \n"
     ]
    }
   ],
   "source": [
    "#  number of rows for the triangle\n",
    "num_rows = 5\n",
    "\n",
    "# Use afor loop to iterate over each row\n",
    "for i in range(1, num_rows + 1):\n",
    "    # Print '*' for each column in the row\n",
    "    for j in range(i):\n",
    "        print('*', end=' ')\n",
    "    # Move to the next line after printing each row\n",
    "    print()\n"
   ]
  },
  {
   "cell_type": "markdown",
   "id": "3b84e871-c63b-4481-bfa3-57b5c2d4cacd",
   "metadata": {},
   "source": [
    "### 20. Write a program to find the greatest common divisor (GCD) of two numbers using a `for` loop."
   ]
  },
  {
   "cell_type": "code",
   "execution_count": 6,
   "id": "c69c1a59-5234-435a-804f-8ed446cc7062",
   "metadata": {},
   "outputs": [
    {
     "name": "stdin",
     "output_type": "stream",
     "text": [
      "enter first number 10\n",
      "enter second number 20\n"
     ]
    },
    {
     "name": "stdout",
     "output_type": "stream",
     "text": [
      "The GCD of 10 and 20 is: 10\n"
     ]
    }
   ],
   "source": [
    "x=int(input(\"enter first number\"))\n",
    "y=int(input(\"enter second number\"))\n",
    "\n",
    "# Determine the smaller of the two numbers\n",
    "smaller = min(x,y)\n",
    "\n",
    "# Initialize GCD to 1 (minimum possible GCD)\n",
    "gcd = 1\n",
    "\n",
    "# Use a for loop to iterate from 1 to the smaller number\n",
    "for i in range(1, smaller + 1):\n",
    "    # Check if both numbers are divisible by the current iterator\n",
    "    if (x % i == 0) and (y % i == 0):\n",
    "        # If divisible, update the GCD\n",
    "        gcd = i\n",
    "\n",
    "# Print the result\n",
    "print(f\"The GCD of {x} and {y} is: {gcd}\")"
   ]
  },
  {
   "cell_type": "markdown",
   "id": "18534145-966e-4cf6-a279-5ddc85536a05",
   "metadata": {},
   "source": [
    "## Advanced Level:"
   ]
  },
  {
   "cell_type": "markdown",
   "id": "160eaaa1-8e2c-44b5-b3ae-38fa32e2e50c",
   "metadata": {},
   "source": [
    "### 21. Create a program that calculates the sum of the digits of numbers in a list using a list comprehension."
   ]
  },
  {
   "cell_type": "code",
   "execution_count": 3,
   "id": "520bcb44-236e-45fe-963e-8a68ba4c399d",
   "metadata": {},
   "outputs": [
    {
     "name": "stdout",
     "output_type": "stream",
     "text": [
      "Original List: [123, 45, 678, 9]\n",
      "Sum of Digits List: [6, 9, 21, 9]\n"
     ]
    }
   ],
   "source": [
    "#  list of numbers \n",
    "numbers = [123, 45, 678, 9]\n",
    "# List comprehension offers a shorter syntax when you want to create a new list based on the values of an existing list.\n",
    "# list comprehension to calculate the sum of digits for each number\n",
    "# newlist = [expression for item in iterable if condition == True]\n",
    "sum_of_digits_list = [sum(int(digit) for digit in str(num)) for num in numbers]\n",
    "\n",
    "# Print the result\n",
    "print(\"Original List:\", numbers)\n",
    "print(\"Sum of Digits List:\", sum_of_digits_list)"
   ]
  },
  {
   "cell_type": "markdown",
   "id": "9304c380-70eb-4fed-add3-e51bb0122956",
   "metadata": {},
   "source": [
    "###  22. Write a program to find the prime factors of a given number using a `for` loop and list comprehension."
   ]
  },
  {
   "cell_type": "code",
   "execution_count": 4,
   "id": "26abc9b2-eefc-436b-9b8d-a99a394a66c2",
   "metadata": {},
   "outputs": [
    {
     "name": "stdin",
     "output_type": "stream",
     "text": [
      "Enter a number:  12\n"
     ]
    },
    {
     "name": "stdout",
     "output_type": "stream",
     "text": [
      "Prime factors of 12: [2, 3]\n"
     ]
    }
   ],
   "source": [
    "#Get a number from the user\n",
    "number = int(input(\"Enter a number: \"))\n",
    "\n",
    "# prime factors using list comprehension\n",
    "prime_factors = [i for i in range(2, number + 1) if (number % i == 0) and all(i % j != 0 for j in range(2, int(i**0.5) + 1))]\n",
    "\n",
    "# Print the result\n",
    "print(f\"Prime factors of {number}: {prime_factors}\")"
   ]
  },
  {
   "cell_type": "markdown",
   "id": "15a77388-34fa-4b5f-a9db-888039c2d97f",
   "metadata": {},
   "source": [
    "### 23. Develop a program that extracts unique elements from a list and stores them in a new list using a list comprehension."
   ]
  },
  {
   "cell_type": "code",
   "execution_count": 5,
   "id": "c8fa30be-f3bc-42e9-97d8-5e5d913b10ee",
   "metadata": {},
   "outputs": [
    {
     "name": "stdout",
     "output_type": "stream",
     "text": [
      "Original List: [1, 2, 2, 3, 4, 4, 5, 6, 6]\n",
      "Unique Elements List: [1, 2, 3, 4, 5, 6]\n"
     ]
    }
   ],
   "source": [
    "# list\n",
    "original_list = [1, 2, 2, 3, 4, 4, 5, 6, 6]\n",
    "\n",
    "# unique elements using list comprehension\n",
    "unique_elements = list(set(original_list))\n",
    "\n",
    "# Print the result\n",
    "print(\"Original List:\", original_list)\n",
    "print(\"Unique Elements List:\", unique_elements)"
   ]
  },
  {
   "cell_type": "markdown",
   "id": "8edde5b7-a840-452c-a850-75ac90d88e9a",
   "metadata": {},
   "source": [
    "### 24. Create a program that generates a list of all palindromic numbers up to a specified limit using a list comprehension."
   ]
  },
  {
   "cell_type": "code",
   "execution_count": 7,
   "id": "d853d043-713c-441d-91f9-4aa177ce61bd",
   "metadata": {},
   "outputs": [
    {
     "name": "stdin",
     "output_type": "stream",
     "text": [
      "Enter the limit:  89\n"
     ]
    },
    {
     "name": "stdout",
     "output_type": "stream",
     "text": [
      "Palindromic numbers up to 89: [0, 1, 2, 3, 4, 5, 6, 7, 8, 9, 11, 22, 33, 44, 55, 66, 77, 88]\n"
     ]
    }
   ],
   "source": [
    "# Function to check if a number is a palindrome\n",
    "def is_palindrome(num):\n",
    "    return str(num) == str(num)[::-1]\n",
    "\n",
    "# Specify the limit\n",
    "limit = int(input(\"Enter the limit: \"))\n",
    "\n",
    "# Generate a list of palindromic numbers up to the limit using list comprehension\n",
    "palindromic_numbers = [i for i in range(limit + 1) if is_palindrome(i)]\n",
    "\n",
    "# Print the result\n",
    "print(f\"Palindromic numbers up to {limit}: {palindromic_numbers}\")\n"
   ]
  },
  {
   "cell_type": "markdown",
   "id": "9699bf44-eac2-4f23-bd17-3bb22b17cc05",
   "metadata": {},
   "source": [
    "### 25. Write a program to flatten a nested list using list comprehension."
   ]
  },
  {
   "cell_type": "code",
   "execution_count": 8,
   "id": "a9f3beed-82e7-40cd-8673-dc0912bef430",
   "metadata": {},
   "outputs": [
    {
     "name": "stdout",
     "output_type": "stream",
     "text": [
      "Nested List: [[1, 2, 3], [4, [5, 6]], [7, 8, 9]]\n",
      "Flattened List: [1, 2, 3, 4, [5, 6], 7, 8, 9]\n"
     ]
    }
   ],
   "source": [
    "# nested list \n",
    "nested_list = [[1, 2, 3], [4, [5, 6]], [7, 8, 9]]\n",
    "\n",
    "# Flatten the nested list using list comprehension\n",
    "flattened_list = [element for sublist in nested_list for element in (sublist if isinstance(sublist, list) else [sublist])]\n",
    "\n",
    "# Print the result\n",
    "print(\"Nested List:\", nested_list)\n",
    "print(\"Flattened List:\", flattened_list)"
   ]
  },
  {
   "cell_type": "markdown",
   "id": "eb99d4ba-e636-47a2-9740-b6077a3e170f",
   "metadata": {},
   "source": [
    "### 26. Develop a program that computes the sum of even and odd numbers in a list separately using list comprehension."
   ]
  },
  {
   "cell_type": "code",
   "execution_count": 9,
   "id": "643149d0-e019-4b6c-af98-39654945ee3b",
   "metadata": {},
   "outputs": [
    {
     "name": "stdout",
     "output_type": "stream",
     "text": [
      "Original List: [1, 2, 3, 4, 5, 6, 7, 8, 9]\n",
      "Even Numbers: [2, 4, 6, 8]\n",
      "Sum of Even Numbers: 20\n",
      "Odd Numbers: [1, 3, 5, 7, 9]\n",
      "Sum of Odd Numbers: 25\n"
     ]
    }
   ],
   "source": [
    "# list of numbers (replace it with your own list)\n",
    "numbers = [1, 2, 3, 4, 5, 6, 7, 8, 9]\n",
    "\n",
    "# Separate even and odd numbers using list comprehension\n",
    "even_numbers = [num for num in numbers if num % 2 == 0]\n",
    "odd_numbers = [num for num in numbers if num % 2 != 0]\n",
    "\n",
    "# Compute the sum of even and odd numbers\n",
    "sum_even = sum(even_numbers)\n",
    "sum_odd = sum(odd_numbers)\n",
    "\n",
    "# Print the result\n",
    "print(\"Original List:\", numbers)\n",
    "print(\"Even Numbers:\", even_numbers)\n",
    "print(\"Sum of Even Numbers:\", sum_even)\n",
    "print(\"Odd Numbers:\", odd_numbers)\n",
    "print(\"Sum of Odd Numbers:\", sum_odd)"
   ]
  },
  {
   "cell_type": "markdown",
   "id": "7a2ecfe5-c4b2-4bb3-9867-03f092c8f6b9",
   "metadata": {},
   "source": [
    "### 27. Create a program that generates a list of squares of odd numbers between 1 and 10 using list comprehension."
   ]
  },
  {
   "cell_type": "code",
   "execution_count": 10,
   "id": "5c239d83-59d9-49f5-b3f6-7a25a1888378",
   "metadata": {},
   "outputs": [
    {
     "name": "stdout",
     "output_type": "stream",
     "text": [
      "Squares of Odd Numbers: [1, 9, 25, 49, 81]\n"
     ]
    }
   ],
   "source": [
    "# Generate a list of squares of odd numbers between 1 and 10 using list comprehension\n",
    "squares_of_odd_numbers = [num**2 for num in range(1, 11) if num % 2 != 0]\n",
    "\n",
    "# Print the result\n",
    "print(\"Squares of Odd Numbers:\", squares_of_odd_numbers)"
   ]
  },
  {
   "cell_type": "markdown",
   "id": "f154c6e6-ad15-4e70-95cf-a516d6da3dcb",
   "metadata": {},
   "source": [
    "### 28. Write a program that combines two lists into a dictionary using list comprehension."
   ]
  },
  {
   "cell_type": "code",
   "execution_count": 11,
   "id": "7f93b210-ca2c-467a-9baa-046aafed930b",
   "metadata": {},
   "outputs": [
    {
     "name": "stdout",
     "output_type": "stream",
     "text": [
      "Keys: ['a', 'b', 'c']\n",
      "Values: [1, 2, 3]\n",
      "Combined Dictionary: {'a': 1, 'b': 2, 'c': 3}\n"
     ]
    }
   ],
   "source": [
    "# lists (replace them with your own lists)\n",
    "keys = ['a', 'b', 'c']\n",
    "values = [1, 2, 3]\n",
    "\n",
    "# Combine lists into a dictionary using list comprehension\n",
    "combined_dict = {key: value for key, value in zip(keys, values)}\n",
    "\n",
    "# Print the result\n",
    "print(\"Keys:\", keys)\n",
    "print(\"Values:\", values)\n",
    "print(\"Combined Dictionary:\", combined_dict)\n"
   ]
  },
  {
   "cell_type": "markdown",
   "id": "da8b4afb-3f46-4b38-8b31-77d99a08f16c",
   "metadata": {},
   "source": [
    "### 29. Develop a program that extracts the vowels from a string and stores them in a list using list comprehension."
   ]
  },
  {
   "cell_type": "code",
   "execution_count": 14,
   "id": "710c5e16-2d5a-4186-bb98-9ddde018d733",
   "metadata": {},
   "outputs": [
    {
     "name": "stdin",
     "output_type": "stream",
     "text": [
      "Enter a string:  qwertyui\n"
     ]
    },
    {
     "name": "stdout",
     "output_type": "stream",
     "text": [
      "Input String: qwertyui\n",
      "Vowels: ['e', 'u', 'i']\n"
     ]
    }
   ],
   "source": [
    "# input a string from the user\n",
    "input_string = input(\"Enter a string: \")\n",
    "\n",
    "# Extract vowels using list comprehension\n",
    "vowels = [char for char in input_string if char.lower() in 'aeiou']\n",
    "\n",
    "# Print the result\n",
    "print(\"Input String:\", input_string)\n",
    "print(\"Vowels:\", vowels)\n"
   ]
  },
  {
   "cell_type": "markdown",
   "id": "7dd42c3e-5f8f-4136-8c1e-2bbf7db6b99d",
   "metadata": {},
   "source": [
    "### 30. Create a program that removes all non-numeric characters from a list of strings using list comprehension."
   ]
  },
  {
   "cell_type": "code",
   "execution_count": 15,
   "id": "1167900f-1b9d-4863-b83f-13db7c0ddc75",
   "metadata": {},
   "outputs": [
    {
     "name": "stdout",
     "output_type": "stream",
     "text": [
      "Original List: ['abc123', '45def', '678ghi', '9jkl']\n",
      "Numeric Strings: ['123', '45', '678', '9']\n"
     ]
    }
   ],
   "source": [
    "# list of strings\n",
    "string_list = ['abc123', '45def', '678ghi', '9jkl']\n",
    "\n",
    "# Remove non-numeric characters using list comprehension\n",
    "numeric_strings = [''.join(char for char in s if char.isdigit()) for s in string_list]\n",
    "\n",
    "# Print the result\n",
    "print(\"Original List:\", string_list)\n",
    "print(\"Numeric Strings:\", numeric_strings)\n"
   ]
  },
  {
   "cell_type": "markdown",
   "id": "c61f0912-e547-4c12-89e5-af596c594898",
   "metadata": {},
   "source": [
    "## Challenge Level:"
   ]
  },
  {
   "cell_type": "markdown",
   "id": "29330ee3-7551-4cfa-bc71-06f333fe8f2d",
   "metadata": {},
   "source": [
    "### 31. Write a program to generate a list of prime numbers using the Sieve of Eratosthenes algorithm and list comprehension."
   ]
  },
  {
   "cell_type": "code",
   "execution_count": 17,
   "id": "a7ac3ceb-0709-4cd6-9009-5e654cf26691",
   "metadata": {},
   "outputs": [
    {
     "name": "stdin",
     "output_type": "stream",
     "text": [
      "Enter a limit:  34\n"
     ]
    },
    {
     "name": "stdout",
     "output_type": "stream",
     "text": [
      "Prime numbers up to 34: [2, 3, 5, 7, 11, 13, 17, 19, 23, 29, 31]\n"
     ]
    }
   ],
   "source": [
    "def sieve_of_eratosthenes(limit):\n",
    "    primes = [True] * (limit + 1)\n",
    "    primes[0] = primes[1] = False\n",
    "\n",
    "    for i in range(2, int(limit**0.5) + 1):\n",
    "        if primes[i]:\n",
    "            primes[i*i:limit+1:i] = [False] * len(range(i*i, limit+1, i))\n",
    "\n",
    "    return [num for num in range(2, limit + 1) if primes[num]]\n",
    "\n",
    "# Input a limit from the user\n",
    "limit = int(input(\"Enter a limit: \"))\n",
    "\n",
    "# Generate a list of prime numbers using Sieve of Eratosthenes and list comprehension\n",
    "prime_numbers = sieve_of_eratosthenes(limit)\n",
    "\n",
    "# Print the result\n",
    "print(f\"Prime numbers up to {limit}: {prime_numbers}\")"
   ]
  },
  {
   "cell_type": "markdown",
   "id": "3189fd7b-2bd8-44fa-b582-d7d17976dcd7",
   "metadata": {},
   "source": [
    "### 32. Create a program that generates a list of all Pythagorean triplets up to a specified limit using list comprehension."
   ]
  },
  {
   "cell_type": "code",
   "execution_count": 20,
   "id": "1abcba07-d71a-4e25-a106-177661fad164",
   "metadata": {},
   "outputs": [
    {
     "name": "stdin",
     "output_type": "stream",
     "text": [
      "Enter a limit:  10\n"
     ]
    },
    {
     "name": "stdout",
     "output_type": "stream",
     "text": [
      "Pythagorean triplets up to 10: [(3, 4, 5), (6, 8, 10)]\n"
     ]
    }
   ],
   "source": [
    "# Function to check if a set of three numbers forms a Pythagorean triplet\n",
    "def is_pythagorean_triplet(a, b, c):\n",
    "    return a**2 + b**2 == c**2\n",
    "\n",
    "# Input a limit from the user\n",
    "limit = int(input(\"Enter a limit: \"))\n",
    "\n",
    "# Generate a list of Pythagorean triplets using list comprehension\n",
    "pythagorean_triplets = [\n",
    "    (a, b, c)\n",
    "    for a in range(1, limit + 1)\n",
    "    for b in range(a, limit + 1)\n",
    "    for c in range(b, limit + 1)\n",
    "    if is_pythagorean_triplet(a, b, c)\n",
    "]\n",
    "\n",
    "# Print the result\n",
    "print(f\"Pythagorean triplets up to {limit}: {pythagorean_triplets}\")"
   ]
  },
  {
   "cell_type": "markdown",
   "id": "61cb04f1-0f4c-4650-b082-7d491994f8d7",
   "metadata": {},
   "source": [
    "### 33. Develop a program that generates a list of all possible combinations of two lists using list comprehension."
   ]
  },
  {
   "cell_type": "code",
   "execution_count": 21,
   "id": "04231bbf-e01d-4104-bdab-b212b6e9ebcb",
   "metadata": {},
   "outputs": [
    {
     "name": "stdout",
     "output_type": "stream",
     "text": [
      "List 1: [1, 2, 3]\n",
      "List 2: ['a', 'b', 'c']\n",
      "Combinations: [(1, 'a'), (1, 'b'), (1, 'c'), (2, 'a'), (2, 'b'), (2, 'c'), (3, 'a'), (3, 'b'), (3, 'c')]\n"
     ]
    }
   ],
   "source": [
    "# lists \n",
    "list1 = [1, 2, 3]\n",
    "list2 = ['a', 'b', 'c']\n",
    "\n",
    "# all possible combinations of two lists using list comprehension\n",
    "combinations = [(x, y) for x in list1 for y in list2]\n",
    "\n",
    "# Print the result\n",
    "print(\"List 1:\", list1)\n",
    "print(\"List 2:\", list2)\n",
    "print(\"Combinations:\", combinations)\n"
   ]
  },
  {
   "cell_type": "markdown",
   "id": "bca1a3ce-e7ad-4563-a4d2-a86f7f0fb915",
   "metadata": {},
   "source": [
    "### 34. Write a program that calculates the mean, median, and mode of a list of numbers using list comprehension."
   ]
  },
  {
   "cell_type": "code",
   "execution_count": 23,
   "id": "9da3ab99-8994-41c5-b1e3-dcdc20c7a42a",
   "metadata": {},
   "outputs": [
    {
     "name": "stdout",
     "output_type": "stream",
     "text": [
      "Original List: [2, 4, 4, 4, 5, 5, 7, 9]\n",
      "Mean: 5\n",
      "Median: 4.5\n",
      "Mode: 4\n"
     ]
    }
   ],
   "source": [
    "from statistics import mean, median, mode\n",
    "\n",
    "# list of numbers \n",
    "numbers = [2, 4, 4, 4, 5, 5, 7, 9]\n",
    "\n",
    "# Calculate mean, median, and mode using list comprehension\n",
    "list_mean = mean(numbers)\n",
    "list_median = median(numbers)\n",
    "list_mode = mode(numbers)\n",
    "\n",
    "# Print the result\n",
    "print(\"Original List:\", numbers)\n",
    "print(\"Mean:\", list_mean)\n",
    "print(\"Median:\", list_median)\n",
    "print(\"Mode:\", list_mode)\n"
   ]
  },
  {
   "cell_type": "markdown",
   "id": "d39599bc-6792-4f72-8e67-23242fd31b32",
   "metadata": {},
   "source": [
    "### 35. Create a program that generates Pascals triangle up to a specified number of rows using list comprehension."
   ]
  },
  {
   "cell_type": "code",
   "execution_count": 24,
   "id": "21b74729-1557-40fe-9988-24e4db1ac36b",
   "metadata": {},
   "outputs": [
    {
     "name": "stdin",
     "output_type": "stream",
     "text": [
      "Enter the number of rows for Pascal's triangle:  5\n"
     ]
    },
    {
     "name": "stdout",
     "output_type": "stream",
     "text": [
      "Pascal's Triangle up to 5 rows:\n",
      "[1]\n",
      "[1, 1]\n",
      "[1, 2, 1]\n",
      "[1, 3, 3, 1]\n",
      "[1, 4, 6, 4, 1]\n"
     ]
    }
   ],
   "source": [
    "def generate_pascals_triangle(rows):\n",
    "    triangle = [[1] * (row + 1) for row in range(rows)]\n",
    "    \n",
    "    for i in range(2, rows):\n",
    "        for j in range(1, i):\n",
    "            triangle[i][j] = triangle[i-1][j-1] + triangle[i-1][j]\n",
    "\n",
    "    return triangle\n",
    "\n",
    "# Input number of rows from the user\n",
    "num_rows = int(input(\"Enter the number of rows for Pascal's triangle: \"))\n",
    "\n",
    "# Generate Pascal's triangle using list comprehension\n",
    "pascals_triangle = generate_pascals_triangle(num_rows)\n",
    "\n",
    "# Print the result\n",
    "print(f\"Pascal's Triangle up to {num_rows} rows:\")\n",
    "for row in pascals_triangle:\n",
    "    print(row)\n"
   ]
  },
  {
   "cell_type": "markdown",
   "id": "d777d136-a0d6-43be-8223-65468f14c683",
   "metadata": {},
   "source": [
    "### 36. Develop a program that calculates the sum of the digits of a factorial of numbers from 1 to 5 using list comprehension."
   ]
  },
  {
   "cell_type": "code",
   "execution_count": 26,
   "id": "d3181b5d-81b9-4ebb-ac80-aaa7bce6c5dc",
   "metadata": {},
   "outputs": [
    {
     "name": "stdout",
     "output_type": "stream",
     "text": [
      "Factorials: [1, 2, 6, 24, 120]\n",
      "Sum of Digits: [1, 2, 6, 6, 3]\n"
     ]
    }
   ],
   "source": [
    "from math import factorial\n",
    "\n",
    "# Calculate the sum of digits of the factorial of numbers from 1 to 5 using list comprehension\n",
    "sum_of_digits = [sum(int(digit) for digit in str(factorial(num))) for num in range(1, 6)]\n",
    "\n",
    "# Print the result\n",
    "print(\"Factorials:\", [factorial(num) for num in range(1, 6)])\n",
    "print(\"Sum of Digits:\", sum_of_digits)\n"
   ]
  },
  {
   "cell_type": "markdown",
   "id": "70a312fc-fb06-4d23-bf35-2d6c04fad0b8",
   "metadata": {},
   "source": [
    "### 37. Write a program that finds the longest word in a sentence using list comprehension."
   ]
  },
  {
   "cell_type": "code",
   "execution_count": 29,
   "id": "2186916b-4eb8-409d-ae4f-12e9b6f01a65",
   "metadata": {},
   "outputs": [
    {
     "name": "stdin",
     "output_type": "stream",
     "text": [
      "Enter a sentence:  hsuh ssssss sssswwjwuw snjssjsjsjsjnsjnj\n"
     ]
    },
    {
     "name": "stdout",
     "output_type": "stream",
     "text": [
      "The longest word in the sentence is: snjssjsjsjsjnsjnj\n"
     ]
    }
   ],
   "source": [
    "# Input a sentence from the user\n",
    "sentence = input(\"Enter a sentence: \")\n",
    "\n",
    "# Find the longest word using list comprehension\n",
    "longest_word = max((word.strip(\".,!?\") for word in sentence.split()), key=len)\n",
    "\n",
    "# Print the result\n",
    "print(f\"The longest word in the sentence is: {longest_word}\")\n"
   ]
  },
  {
   "cell_type": "markdown",
   "id": "f2fa9e37-9551-45d9-8e5c-0a916834db8c",
   "metadata": {},
   "source": [
    "### 38. Create a program that filters a list of strings to include only those with more than three vowels using list comprehension."
   ]
  },
  {
   "cell_type": "code",
   "execution_count": 30,
   "id": "7986f724-3ee5-4a1c-bee5-c8da520e527c",
   "metadata": {},
   "outputs": [
    {
     "name": "stdin",
     "output_type": "stream",
     "text": [
      "Enter a list of strings (comma-separated):  hbhb,vgyg,gyvu\n"
     ]
    },
    {
     "name": "stdout",
     "output_type": "stream",
     "text": [
      "Original List: ['hbhb', 'vgyg', 'gyvu']\n",
      "Filtered List (more than three vowels): []\n"
     ]
    }
   ],
   "source": [
    "#  list of strings from the user\n",
    "string_list = input(\"Enter a list of strings (comma-separated): \").split(',')\n",
    "\n",
    "# Filter strings with more than three vowels using list comprehension\n",
    "filtered_strings = [s for s in string_list if sum(1 for char in s.lower() if char in 'aeiou') > 3]\n",
    "\n",
    "# Print the result\n",
    "print(f\"Original List: {string_list}\")\n",
    "print(f\"Filtered List (more than three vowels): {filtered_strings}\")\n"
   ]
  },
  {
   "cell_type": "markdown",
   "id": "837ace36-f35f-4b80-b65b-aae55243bea6",
   "metadata": {},
   "source": [
    "### 39. Develop a program that calculates the sum of the digits of numbers from 1 to 1000 using list comprehension."
   ]
  },
  {
   "cell_type": "code",
   "execution_count": 35,
   "id": "5abffdb7-969c-4cae-9c9c-3dfc2b33b907",
   "metadata": {},
   "outputs": [
    {
     "name": "stdout",
     "output_type": "stream",
     "text": [
      "Sum of Digits for Numbers 1 to 1000:\n",
      "1: 1\n",
      "2: 2\n",
      "3: 3\n",
      "4: 4\n",
      "5: 5\n",
      "6: 6\n",
      "7: 7\n",
      "8: 8\n",
      "9: 9\n",
      "10: 1\n",
      "11: 2\n",
      "12: 3\n",
      "13: 4\n",
      "14: 5\n",
      "15: 6\n",
      "16: 7\n",
      "17: 8\n",
      "18: 9\n",
      "19: 10\n",
      "20: 2\n",
      "21: 3\n",
      "22: 4\n",
      "23: 5\n",
      "24: 6\n",
      "25: 7\n",
      "26: 8\n",
      "27: 9\n",
      "28: 10\n",
      "29: 11\n",
      "30: 3\n",
      "31: 4\n",
      "32: 5\n",
      "33: 6\n",
      "34: 7\n",
      "35: 8\n",
      "36: 9\n",
      "37: 10\n",
      "38: 11\n",
      "39: 12\n",
      "40: 4\n",
      "41: 5\n",
      "42: 6\n",
      "43: 7\n",
      "44: 8\n",
      "45: 9\n",
      "46: 10\n",
      "47: 11\n",
      "48: 12\n",
      "49: 13\n",
      "50: 5\n",
      "51: 6\n",
      "52: 7\n",
      "53: 8\n",
      "54: 9\n",
      "55: 10\n",
      "56: 11\n",
      "57: 12\n",
      "58: 13\n",
      "59: 14\n",
      "60: 6\n",
      "61: 7\n",
      "62: 8\n",
      "63: 9\n",
      "64: 10\n",
      "65: 11\n",
      "66: 12\n",
      "67: 13\n",
      "68: 14\n",
      "69: 15\n",
      "70: 7\n",
      "71: 8\n",
      "72: 9\n",
      "73: 10\n",
      "74: 11\n",
      "75: 12\n",
      "76: 13\n",
      "77: 14\n",
      "78: 15\n",
      "79: 16\n",
      "80: 8\n",
      "81: 9\n",
      "82: 10\n",
      "83: 11\n",
      "84: 12\n",
      "85: 13\n",
      "86: 14\n",
      "87: 15\n",
      "88: 16\n",
      "89: 17\n",
      "90: 9\n",
      "91: 10\n",
      "92: 11\n",
      "93: 12\n",
      "94: 13\n",
      "95: 14\n",
      "96: 15\n",
      "97: 16\n",
      "98: 17\n",
      "99: 18\n",
      "100: 1\n",
      "101: 2\n",
      "102: 3\n",
      "103: 4\n",
      "104: 5\n",
      "105: 6\n",
      "106: 7\n",
      "107: 8\n",
      "108: 9\n",
      "109: 10\n",
      "110: 2\n",
      "111: 3\n",
      "112: 4\n",
      "113: 5\n",
      "114: 6\n",
      "115: 7\n",
      "116: 8\n",
      "117: 9\n",
      "118: 10\n",
      "119: 11\n",
      "120: 3\n",
      "121: 4\n",
      "122: 5\n",
      "123: 6\n",
      "124: 7\n",
      "125: 8\n",
      "126: 9\n",
      "127: 10\n",
      "128: 11\n",
      "129: 12\n",
      "130: 4\n",
      "131: 5\n",
      "132: 6\n",
      "133: 7\n",
      "134: 8\n",
      "135: 9\n",
      "136: 10\n",
      "137: 11\n",
      "138: 12\n",
      "139: 13\n",
      "140: 5\n",
      "141: 6\n",
      "142: 7\n",
      "143: 8\n",
      "144: 9\n",
      "145: 10\n",
      "146: 11\n",
      "147: 12\n",
      "148: 13\n",
      "149: 14\n",
      "150: 6\n",
      "151: 7\n",
      "152: 8\n",
      "153: 9\n",
      "154: 10\n",
      "155: 11\n",
      "156: 12\n",
      "157: 13\n",
      "158: 14\n",
      "159: 15\n",
      "160: 7\n",
      "161: 8\n",
      "162: 9\n",
      "163: 10\n",
      "164: 11\n",
      "165: 12\n",
      "166: 13\n",
      "167: 14\n",
      "168: 15\n",
      "169: 16\n",
      "170: 8\n",
      "171: 9\n",
      "172: 10\n",
      "173: 11\n",
      "174: 12\n",
      "175: 13\n",
      "176: 14\n",
      "177: 15\n",
      "178: 16\n",
      "179: 17\n",
      "180: 9\n",
      "181: 10\n",
      "182: 11\n",
      "183: 12\n",
      "184: 13\n",
      "185: 14\n",
      "186: 15\n",
      "187: 16\n",
      "188: 17\n",
      "189: 18\n",
      "190: 10\n",
      "191: 11\n",
      "192: 12\n",
      "193: 13\n",
      "194: 14\n",
      "195: 15\n",
      "196: 16\n",
      "197: 17\n",
      "198: 18\n",
      "199: 19\n",
      "200: 2\n",
      "201: 3\n",
      "202: 4\n",
      "203: 5\n",
      "204: 6\n",
      "205: 7\n",
      "206: 8\n",
      "207: 9\n",
      "208: 10\n",
      "209: 11\n",
      "210: 3\n",
      "211: 4\n",
      "212: 5\n",
      "213: 6\n",
      "214: 7\n",
      "215: 8\n",
      "216: 9\n",
      "217: 10\n",
      "218: 11\n",
      "219: 12\n",
      "220: 4\n",
      "221: 5\n",
      "222: 6\n",
      "223: 7\n",
      "224: 8\n",
      "225: 9\n",
      "226: 10\n",
      "227: 11\n",
      "228: 12\n",
      "229: 13\n",
      "230: 5\n",
      "231: 6\n",
      "232: 7\n",
      "233: 8\n",
      "234: 9\n",
      "235: 10\n",
      "236: 11\n",
      "237: 12\n",
      "238: 13\n",
      "239: 14\n",
      "240: 6\n",
      "241: 7\n",
      "242: 8\n",
      "243: 9\n",
      "244: 10\n",
      "245: 11\n",
      "246: 12\n",
      "247: 13\n",
      "248: 14\n",
      "249: 15\n",
      "250: 7\n",
      "251: 8\n",
      "252: 9\n",
      "253: 10\n",
      "254: 11\n",
      "255: 12\n",
      "256: 13\n",
      "257: 14\n",
      "258: 15\n",
      "259: 16\n",
      "260: 8\n",
      "261: 9\n",
      "262: 10\n",
      "263: 11\n",
      "264: 12\n",
      "265: 13\n",
      "266: 14\n",
      "267: 15\n",
      "268: 16\n",
      "269: 17\n",
      "270: 9\n",
      "271: 10\n",
      "272: 11\n",
      "273: 12\n",
      "274: 13\n",
      "275: 14\n",
      "276: 15\n",
      "277: 16\n",
      "278: 17\n",
      "279: 18\n",
      "280: 10\n",
      "281: 11\n",
      "282: 12\n",
      "283: 13\n",
      "284: 14\n",
      "285: 15\n",
      "286: 16\n",
      "287: 17\n",
      "288: 18\n",
      "289: 19\n",
      "290: 11\n",
      "291: 12\n",
      "292: 13\n",
      "293: 14\n",
      "294: 15\n",
      "295: 16\n",
      "296: 17\n",
      "297: 18\n",
      "298: 19\n",
      "299: 20\n",
      "300: 3\n",
      "301: 4\n",
      "302: 5\n",
      "303: 6\n",
      "304: 7\n",
      "305: 8\n",
      "306: 9\n",
      "307: 10\n",
      "308: 11\n",
      "309: 12\n",
      "310: 4\n",
      "311: 5\n",
      "312: 6\n",
      "313: 7\n",
      "314: 8\n",
      "315: 9\n",
      "316: 10\n",
      "317: 11\n",
      "318: 12\n",
      "319: 13\n",
      "320: 5\n",
      "321: 6\n",
      "322: 7\n",
      "323: 8\n",
      "324: 9\n",
      "325: 10\n",
      "326: 11\n",
      "327: 12\n",
      "328: 13\n",
      "329: 14\n",
      "330: 6\n",
      "331: 7\n",
      "332: 8\n",
      "333: 9\n",
      "334: 10\n",
      "335: 11\n",
      "336: 12\n",
      "337: 13\n",
      "338: 14\n",
      "339: 15\n",
      "340: 7\n",
      "341: 8\n",
      "342: 9\n",
      "343: 10\n",
      "344: 11\n",
      "345: 12\n",
      "346: 13\n",
      "347: 14\n",
      "348: 15\n",
      "349: 16\n",
      "350: 8\n",
      "351: 9\n",
      "352: 10\n",
      "353: 11\n",
      "354: 12\n",
      "355: 13\n",
      "356: 14\n",
      "357: 15\n",
      "358: 16\n",
      "359: 17\n",
      "360: 9\n",
      "361: 10\n",
      "362: 11\n",
      "363: 12\n",
      "364: 13\n",
      "365: 14\n",
      "366: 15\n",
      "367: 16\n",
      "368: 17\n",
      "369: 18\n",
      "370: 10\n",
      "371: 11\n",
      "372: 12\n",
      "373: 13\n",
      "374: 14\n",
      "375: 15\n",
      "376: 16\n",
      "377: 17\n",
      "378: 18\n",
      "379: 19\n",
      "380: 11\n",
      "381: 12\n",
      "382: 13\n",
      "383: 14\n",
      "384: 15\n",
      "385: 16\n",
      "386: 17\n",
      "387: 18\n",
      "388: 19\n",
      "389: 20\n",
      "390: 12\n",
      "391: 13\n",
      "392: 14\n",
      "393: 15\n",
      "394: 16\n",
      "395: 17\n",
      "396: 18\n",
      "397: 19\n",
      "398: 20\n",
      "399: 21\n",
      "400: 4\n",
      "401: 5\n",
      "402: 6\n",
      "403: 7\n",
      "404: 8\n",
      "405: 9\n",
      "406: 10\n",
      "407: 11\n",
      "408: 12\n",
      "409: 13\n",
      "410: 5\n",
      "411: 6\n",
      "412: 7\n",
      "413: 8\n",
      "414: 9\n",
      "415: 10\n",
      "416: 11\n",
      "417: 12\n",
      "418: 13\n",
      "419: 14\n",
      "420: 6\n",
      "421: 7\n",
      "422: 8\n",
      "423: 9\n",
      "424: 10\n",
      "425: 11\n",
      "426: 12\n",
      "427: 13\n",
      "428: 14\n",
      "429: 15\n",
      "430: 7\n",
      "431: 8\n",
      "432: 9\n",
      "433: 10\n",
      "434: 11\n",
      "435: 12\n",
      "436: 13\n",
      "437: 14\n",
      "438: 15\n",
      "439: 16\n",
      "440: 8\n",
      "441: 9\n",
      "442: 10\n",
      "443: 11\n",
      "444: 12\n",
      "445: 13\n",
      "446: 14\n",
      "447: 15\n",
      "448: 16\n",
      "449: 17\n",
      "450: 9\n",
      "451: 10\n",
      "452: 11\n",
      "453: 12\n",
      "454: 13\n",
      "455: 14\n",
      "456: 15\n",
      "457: 16\n",
      "458: 17\n",
      "459: 18\n",
      "460: 10\n",
      "461: 11\n",
      "462: 12\n",
      "463: 13\n",
      "464: 14\n",
      "465: 15\n",
      "466: 16\n",
      "467: 17\n",
      "468: 18\n",
      "469: 19\n",
      "470: 11\n",
      "471: 12\n",
      "472: 13\n",
      "473: 14\n",
      "474: 15\n",
      "475: 16\n",
      "476: 17\n",
      "477: 18\n",
      "478: 19\n",
      "479: 20\n",
      "480: 12\n",
      "481: 13\n",
      "482: 14\n",
      "483: 15\n",
      "484: 16\n",
      "485: 17\n",
      "486: 18\n",
      "487: 19\n",
      "488: 20\n",
      "489: 21\n",
      "490: 13\n",
      "491: 14\n",
      "492: 15\n",
      "493: 16\n",
      "494: 17\n",
      "495: 18\n",
      "496: 19\n",
      "497: 20\n",
      "498: 21\n",
      "499: 22\n",
      "500: 5\n",
      "501: 6\n",
      "502: 7\n",
      "503: 8\n",
      "504: 9\n",
      "505: 10\n",
      "506: 11\n",
      "507: 12\n",
      "508: 13\n",
      "509: 14\n",
      "510: 6\n",
      "511: 7\n",
      "512: 8\n",
      "513: 9\n",
      "514: 10\n",
      "515: 11\n",
      "516: 12\n",
      "517: 13\n",
      "518: 14\n",
      "519: 15\n",
      "520: 7\n",
      "521: 8\n",
      "522: 9\n",
      "523: 10\n",
      "524: 11\n",
      "525: 12\n",
      "526: 13\n",
      "527: 14\n",
      "528: 15\n",
      "529: 16\n",
      "530: 8\n",
      "531: 9\n",
      "532: 10\n",
      "533: 11\n",
      "534: 12\n",
      "535: 13\n",
      "536: 14\n",
      "537: 15\n",
      "538: 16\n",
      "539: 17\n",
      "540: 9\n",
      "541: 10\n",
      "542: 11\n",
      "543: 12\n",
      "544: 13\n",
      "545: 14\n",
      "546: 15\n",
      "547: 16\n",
      "548: 17\n",
      "549: 18\n",
      "550: 10\n",
      "551: 11\n",
      "552: 12\n",
      "553: 13\n",
      "554: 14\n",
      "555: 15\n",
      "556: 16\n",
      "557: 17\n",
      "558: 18\n",
      "559: 19\n",
      "560: 11\n",
      "561: 12\n",
      "562: 13\n",
      "563: 14\n",
      "564: 15\n",
      "565: 16\n",
      "566: 17\n",
      "567: 18\n",
      "568: 19\n",
      "569: 20\n",
      "570: 12\n",
      "571: 13\n",
      "572: 14\n",
      "573: 15\n",
      "574: 16\n",
      "575: 17\n",
      "576: 18\n",
      "577: 19\n",
      "578: 20\n",
      "579: 21\n",
      "580: 13\n",
      "581: 14\n",
      "582: 15\n",
      "583: 16\n",
      "584: 17\n",
      "585: 18\n",
      "586: 19\n",
      "587: 20\n",
      "588: 21\n",
      "589: 22\n",
      "590: 14\n",
      "591: 15\n",
      "592: 16\n",
      "593: 17\n",
      "594: 18\n",
      "595: 19\n",
      "596: 20\n",
      "597: 21\n",
      "598: 22\n",
      "599: 23\n",
      "600: 6\n",
      "601: 7\n",
      "602: 8\n",
      "603: 9\n",
      "604: 10\n",
      "605: 11\n",
      "606: 12\n",
      "607: 13\n",
      "608: 14\n",
      "609: 15\n",
      "610: 7\n",
      "611: 8\n",
      "612: 9\n",
      "613: 10\n",
      "614: 11\n",
      "615: 12\n",
      "616: 13\n",
      "617: 14\n",
      "618: 15\n",
      "619: 16\n",
      "620: 8\n",
      "621: 9\n",
      "622: 10\n",
      "623: 11\n",
      "624: 12\n",
      "625: 13\n",
      "626: 14\n",
      "627: 15\n",
      "628: 16\n",
      "629: 17\n",
      "630: 9\n",
      "631: 10\n",
      "632: 11\n",
      "633: 12\n",
      "634: 13\n",
      "635: 14\n",
      "636: 15\n",
      "637: 16\n",
      "638: 17\n",
      "639: 18\n",
      "640: 10\n",
      "641: 11\n",
      "642: 12\n",
      "643: 13\n",
      "644: 14\n",
      "645: 15\n",
      "646: 16\n",
      "647: 17\n",
      "648: 18\n",
      "649: 19\n",
      "650: 11\n",
      "651: 12\n",
      "652: 13\n",
      "653: 14\n",
      "654: 15\n",
      "655: 16\n",
      "656: 17\n",
      "657: 18\n",
      "658: 19\n",
      "659: 20\n",
      "660: 12\n",
      "661: 13\n",
      "662: 14\n",
      "663: 15\n",
      "664: 16\n",
      "665: 17\n",
      "666: 18\n",
      "667: 19\n",
      "668: 20\n",
      "669: 21\n",
      "670: 13\n",
      "671: 14\n",
      "672: 15\n",
      "673: 16\n",
      "674: 17\n",
      "675: 18\n",
      "676: 19\n",
      "677: 20\n",
      "678: 21\n",
      "679: 22\n",
      "680: 14\n",
      "681: 15\n",
      "682: 16\n",
      "683: 17\n",
      "684: 18\n",
      "685: 19\n",
      "686: 20\n",
      "687: 21\n",
      "688: 22\n",
      "689: 23\n",
      "690: 15\n",
      "691: 16\n",
      "692: 17\n",
      "693: 18\n",
      "694: 19\n",
      "695: 20\n",
      "696: 21\n",
      "697: 22\n",
      "698: 23\n",
      "699: 24\n",
      "700: 7\n",
      "701: 8\n",
      "702: 9\n",
      "703: 10\n",
      "704: 11\n",
      "705: 12\n",
      "706: 13\n",
      "707: 14\n",
      "708: 15\n",
      "709: 16\n",
      "710: 8\n",
      "711: 9\n",
      "712: 10\n",
      "713: 11\n",
      "714: 12\n",
      "715: 13\n",
      "716: 14\n",
      "717: 15\n",
      "718: 16\n",
      "719: 17\n",
      "720: 9\n",
      "721: 10\n",
      "722: 11\n",
      "723: 12\n",
      "724: 13\n",
      "725: 14\n",
      "726: 15\n",
      "727: 16\n",
      "728: 17\n",
      "729: 18\n",
      "730: 10\n",
      "731: 11\n",
      "732: 12\n",
      "733: 13\n",
      "734: 14\n",
      "735: 15\n",
      "736: 16\n",
      "737: 17\n",
      "738: 18\n",
      "739: 19\n",
      "740: 11\n",
      "741: 12\n",
      "742: 13\n",
      "743: 14\n",
      "744: 15\n",
      "745: 16\n",
      "746: 17\n",
      "747: 18\n",
      "748: 19\n",
      "749: 20\n",
      "750: 12\n",
      "751: 13\n",
      "752: 14\n",
      "753: 15\n",
      "754: 16\n",
      "755: 17\n",
      "756: 18\n",
      "757: 19\n",
      "758: 20\n",
      "759: 21\n",
      "760: 13\n",
      "761: 14\n",
      "762: 15\n",
      "763: 16\n",
      "764: 17\n",
      "765: 18\n",
      "766: 19\n",
      "767: 20\n",
      "768: 21\n",
      "769: 22\n",
      "770: 14\n",
      "771: 15\n",
      "772: 16\n",
      "773: 17\n",
      "774: 18\n",
      "775: 19\n",
      "776: 20\n",
      "777: 21\n",
      "778: 22\n",
      "779: 23\n",
      "780: 15\n",
      "781: 16\n",
      "782: 17\n",
      "783: 18\n",
      "784: 19\n",
      "785: 20\n",
      "786: 21\n",
      "787: 22\n",
      "788: 23\n",
      "789: 24\n",
      "790: 16\n",
      "791: 17\n",
      "792: 18\n",
      "793: 19\n",
      "794: 20\n",
      "795: 21\n",
      "796: 22\n",
      "797: 23\n",
      "798: 24\n",
      "799: 25\n",
      "800: 8\n",
      "801: 9\n",
      "802: 10\n",
      "803: 11\n",
      "804: 12\n",
      "805: 13\n",
      "806: 14\n",
      "807: 15\n",
      "808: 16\n",
      "809: 17\n",
      "810: 9\n",
      "811: 10\n",
      "812: 11\n",
      "813: 12\n",
      "814: 13\n",
      "815: 14\n",
      "816: 15\n",
      "817: 16\n",
      "818: 17\n",
      "819: 18\n",
      "820: 10\n",
      "821: 11\n",
      "822: 12\n",
      "823: 13\n",
      "824: 14\n",
      "825: 15\n",
      "826: 16\n",
      "827: 17\n",
      "828: 18\n",
      "829: 19\n",
      "830: 11\n",
      "831: 12\n",
      "832: 13\n",
      "833: 14\n",
      "834: 15\n",
      "835: 16\n",
      "836: 17\n",
      "837: 18\n",
      "838: 19\n",
      "839: 20\n",
      "840: 12\n",
      "841: 13\n",
      "842: 14\n",
      "843: 15\n",
      "844: 16\n",
      "845: 17\n",
      "846: 18\n",
      "847: 19\n",
      "848: 20\n",
      "849: 21\n",
      "850: 13\n",
      "851: 14\n",
      "852: 15\n",
      "853: 16\n",
      "854: 17\n",
      "855: 18\n",
      "856: 19\n",
      "857: 20\n",
      "858: 21\n",
      "859: 22\n",
      "860: 14\n",
      "861: 15\n",
      "862: 16\n",
      "863: 17\n",
      "864: 18\n",
      "865: 19\n",
      "866: 20\n",
      "867: 21\n",
      "868: 22\n",
      "869: 23\n",
      "870: 15\n",
      "871: 16\n",
      "872: 17\n",
      "873: 18\n",
      "874: 19\n",
      "875: 20\n",
      "876: 21\n",
      "877: 22\n",
      "878: 23\n",
      "879: 24\n",
      "880: 16\n",
      "881: 17\n",
      "882: 18\n",
      "883: 19\n",
      "884: 20\n",
      "885: 21\n",
      "886: 22\n",
      "887: 23\n",
      "888: 24\n",
      "889: 25\n",
      "890: 17\n",
      "891: 18\n",
      "892: 19\n",
      "893: 20\n",
      "894: 21\n",
      "895: 22\n",
      "896: 23\n",
      "897: 24\n",
      "898: 25\n",
      "899: 26\n",
      "900: 9\n",
      "901: 10\n",
      "902: 11\n",
      "903: 12\n",
      "904: 13\n",
      "905: 14\n",
      "906: 15\n",
      "907: 16\n",
      "908: 17\n",
      "909: 18\n",
      "910: 10\n",
      "911: 11\n",
      "912: 12\n",
      "913: 13\n",
      "914: 14\n",
      "915: 15\n",
      "916: 16\n",
      "917: 17\n",
      "918: 18\n",
      "919: 19\n",
      "920: 11\n",
      "921: 12\n",
      "922: 13\n",
      "923: 14\n",
      "924: 15\n",
      "925: 16\n",
      "926: 17\n",
      "927: 18\n",
      "928: 19\n",
      "929: 20\n",
      "930: 12\n",
      "931: 13\n",
      "932: 14\n",
      "933: 15\n",
      "934: 16\n",
      "935: 17\n",
      "936: 18\n",
      "937: 19\n",
      "938: 20\n",
      "939: 21\n",
      "940: 13\n",
      "941: 14\n",
      "942: 15\n",
      "943: 16\n",
      "944: 17\n",
      "945: 18\n",
      "946: 19\n",
      "947: 20\n",
      "948: 21\n",
      "949: 22\n",
      "950: 14\n",
      "951: 15\n",
      "952: 16\n",
      "953: 17\n",
      "954: 18\n",
      "955: 19\n",
      "956: 20\n",
      "957: 21\n",
      "958: 22\n",
      "959: 23\n",
      "960: 15\n",
      "961: 16\n",
      "962: 17\n",
      "963: 18\n",
      "964: 19\n",
      "965: 20\n",
      "966: 21\n",
      "967: 22\n",
      "968: 23\n",
      "969: 24\n",
      "970: 16\n",
      "971: 17\n",
      "972: 18\n",
      "973: 19\n",
      "974: 20\n",
      "975: 21\n",
      "976: 22\n",
      "977: 23\n",
      "978: 24\n",
      "979: 25\n",
      "980: 17\n",
      "981: 18\n",
      "982: 19\n",
      "983: 20\n",
      "984: 21\n",
      "985: 22\n",
      "986: 23\n",
      "987: 24\n",
      "988: 25\n",
      "989: 26\n",
      "990: 18\n",
      "991: 19\n",
      "992: 20\n",
      "993: 21\n",
      "994: 22\n",
      "995: 23\n",
      "996: 24\n",
      "997: 25\n",
      "998: 26\n",
      "999: 27\n",
      "1000: 1\n"
     ]
    }
   ],
   "source": [
    "# Calculate and print the sum of digits for numbers from 1 to 1000\n",
    "print(\"Sum of Digits for Numbers 1 to 1000:\")\n",
    "for num in range(1, 1001):\n",
    "    print(f\"{num}: {sum(int(digit) for digit in str(num))}\")\n"
   ]
  },
  {
   "cell_type": "markdown",
   "id": "80632b67-7980-4e4d-8e76-bdae89967c44",
   "metadata": {},
   "source": [
    "### 40. Write a program that generates a list of prime palindromic numbers using list comprehension."
   ]
  },
  {
   "cell_type": "code",
   "execution_count": 36,
   "id": "36ea473c-2e6d-488f-843e-977cda24652b",
   "metadata": {},
   "outputs": [
    {
     "name": "stdout",
     "output_type": "stream",
     "text": [
      "Prime Palindromic Numbers up to 1000: [2, 3, 5, 7, 11, 101, 131, 151, 181, 191, 313, 353, 373, 383, 727, 757, 787, 797, 919, 929]\n"
     ]
    }
   ],
   "source": [
    "def is_prime(number):\n",
    "    if number < 2:\n",
    "        return False\n",
    "    for i in range(2, int(number**0.5) + 1):\n",
    "        if number % i == 0:\n",
    "            return False\n",
    "    return True\n",
    "\n",
    "def is_palindrome(number):\n",
    "    return str(number) == str(number)[::-1]\n",
    "\n",
    "# Generate a list of prime palindromic numbers using list comprehension\n",
    "prime_palindromes = [num for num in range(1, 1000) if is_prime(num) and is_palindrome(num)]\n",
    "\n",
    "# Print the result\n",
    "print(\"Prime Palindromic Numbers up to 1000:\", prime_palindromes)\n"
   ]
  },
  {
   "cell_type": "code",
   "execution_count": null,
   "id": "b5a50fbb-a5ac-4206-871a-41a31c7a95f2",
   "metadata": {},
   "outputs": [],
   "source": []
  }
 ],
 "metadata": {
  "kernelspec": {
   "display_name": "Python 3 (ipykernel)",
   "language": "python",
   "name": "python3"
  },
  "language_info": {
   "codemirror_mode": {
    "name": "ipython",
    "version": 3
   },
   "file_extension": ".py",
   "mimetype": "text/x-python",
   "name": "python",
   "nbconvert_exporter": "python",
   "pygments_lexer": "ipython3",
   "version": "3.10.8"
  }
 },
 "nbformat": 4,
 "nbformat_minor": 5
}
