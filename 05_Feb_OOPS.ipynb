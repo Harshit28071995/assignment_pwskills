{
 "cells": [
  {
   "cell_type": "markdown",
   "id": "8376fe64-ee6c-43da-ba8b-025294d71070",
   "metadata": {},
   "source": [
    "# 05_Feb_OOPS"
   ]
  },
  {
   "cell_type": "markdown",
   "id": "e4434ac9-4813-4e67-a372-10b1daf67908",
   "metadata": {},
   "source": [
    "## Q1. Explain Class and Object with respect to Object-Oriented Programming. Give a suitable example.\n"
   ]
  },
  {
   "cell_type": "raw",
   "id": "55755a84-d424-4cc7-9d2b-0bc3d4bc53ff",
   "metadata": {},
   "source": [
    "\n",
    "In object-oriented programming (OOP), a class is a blueprint or a template for creating objects. \n",
    "Objects are instances of classes, and they represent real-world entities with attributes (characteristics) and behaviors (actions). \n"
   ]
  },
  {
   "cell_type": "code",
   "execution_count": 1,
   "id": "042eef5c-5dc1-409a-be84-f9c0ddc73625",
   "metadata": {},
   "outputs": [
    {
     "name": "stdout",
     "output_type": "stream",
     "text": [
      "My car is a 2022 Toyota Camry.\n",
      "The car is now running.\n"
     ]
    }
   ],
   "source": [
    "# Define a class named 'Car'\n",
    "\n",
    "class Car:\n",
    "    # Attributes (characteristics)\n",
    "    make = \"\"\n",
    "    model = \"\"\n",
    "    year = 0\n",
    "    is_running = False\n",
    "\n",
    "    # Method (behavior)\n",
    "    def start(self):\n",
    "        print(\"The car is now running.\")\n",
    "        self.is_running = True\n",
    "\n",
    "# Create an instance (object) of the Car class\n",
    "my_car = Car()\n",
    "\n",
    "# Access attributes and call methods\n",
    "my_car.make = \"Toyota\"\n",
    "my_car.model = \"Camry\"\n",
    "my_car.year = 2022\n",
    "\n",
    "print(f\"My car is a {my_car.year} {my_car.make} {my_car.model}.\")\n",
    "\n",
    "my_car.start()  # This will print \"The car is now running.\"\n"
   ]
  },
  {
   "cell_type": "raw",
   "id": "a05e045a-e72d-4013-b2e4-c7a4f3d5abb5",
   "metadata": {},
   "source": [
    "Here, Car is like a blueprint that describes what a car should have (attributes like make, model, etc.) and what it can do (methods like start).\n",
    "my_car is a specific car created using that blueprint. We set its make, model, and year, and we can make it run using the start method.\n",
    "In summary, a class is a plan, and an object is something made using that plan. The class defines what an object can have and what it can do. The object is a specific instance created based on that definition."
   ]
  },
  {
   "cell_type": "markdown",
   "id": "35386343-6ad3-4060-9038-c447c7f06e8b",
   "metadata": {},
   "source": [
    "## Q2. Name the four pillars of OOPs.\n"
   ]
  },
  {
   "cell_type": "raw",
   "id": "47686f6c-ac1b-4bbd-a1b4-b339ea9bf46d",
   "metadata": {},
   "source": [
    "The four pillars of object-oriented programming (OOP) are:\n",
    "\n",
    "-->Encapsulation:\n",
    "\n",
    "1) Encapsulation is the concept of bundling data (attributes) and the methods (functions) that operate on the data into a single unit called a class.\n",
    "It hides the internal details of how an object works and exposes only what is necessary.\n",
    "\n",
    "-->Abstraction:\n",
    "\n",
    "2) Abstraction : is the process of simplifying complex systems by modeling classes based on the essential properties and behaviors an object should have.\n",
    "It involves focusing on the essential features while ignoring unnecessary details.\n",
    "\n",
    "--> Inheritance:\n",
    "\n",
    "3) Inheritance is a mechanism where a new class (subclass or derived class) can inherit properties and behaviors from an existing class (base class or superclass).\n",
    "It promotes code reusability and establishes a relationship between classes, allowing the creation of a hierarchy of classes.\n",
    "\n",
    "--> Polymorphism:\n",
    "\n",
    "4) Polymorphism allows objects of different classes to be treated as objects of a common base class.\n",
    "It enables a single interface to represent different types of objects, and it can take on different forms or behaviors in different contexts.\n",
    "Polymorphism is often expressed through method overloading and method overriding."
   ]
  },
  {
   "cell_type": "markdown",
   "id": "604d3981-c486-4506-a02e-b8ccd208282c",
   "metadata": {},
   "source": [
    "## Q3. Explain why the __init__() function is used. Give a suitable example.\n"
   ]
  },
  {
   "cell_type": "raw",
   "id": "78dd6ebb-82c3-4c2c-9dfe-95a535d8e2cb",
   "metadata": {},
   "source": [
    "The __init__ function in Python is a special method that is used for initializing the attributes of an object when it is created.  It stands for \"initialize\" and is automatically called when an object is instantiated from a class. The purpose of __init__ is to set up the initial state of the object by assigning values to its attributes."
   ]
  },
  {
   "cell_type": "code",
   "execution_count": 3,
   "id": "87e8679b-c7dc-48e3-822a-046beb61d973",
   "metadata": {},
   "outputs": [
    {
     "name": "stdout",
     "output_type": "stream",
     "text": [
      "My dog's name is Buddy.\n",
      "My dog is 3 years old.\n",
      "Woof!\n"
     ]
    }
   ],
   "source": [
    "class Dog:\n",
    "    # The __init__ method is called when a Dog object is created\n",
    "    def __init__(self, name, age):\n",
    "        # Attributes of the Dog class\n",
    "        self.name = name\n",
    "        self.age = age\n",
    "        self.is_hungry = True\n",
    "\n",
    "    # A method of the Dog class\n",
    "    def bark(self):\n",
    "        print(\"Woof!\")\n",
    "\n",
    "# Creating a Dog object\n",
    "my_dog = Dog(name=\"Buddy\", age=3)\n",
    "\n",
    "# Accessing attributes\n",
    "print(f\"My dog's name is {my_dog.name}.\")\n",
    "print(f\"My dog is {my_dog.age} years old.\")\n",
    "\n",
    "# Calling a method\n",
    "my_dog.bark()"
   ]
  },
  {
   "cell_type": "markdown",
   "id": "02eba6d1-e5a7-4e25-83f1-109d89a11070",
   "metadata": {},
   "source": [
    "## Q4. Why self is used in OOPs?\n"
   ]
  },
  {
   "cell_type": "raw",
   "id": "e2431cd1-c18b-45b2-854f-53de869ca9f1",
   "metadata": {},
   "source": [
    "\n",
    "    In object-oriented programming (OOP), self is a convention used to represent the instance of the class. It is the first parameter of instance methods in Python and refers to the instance of the class itself. By convention, it is named self, but you could technically name it anything we like. However, using self is a widely accepted convention and helps make the code more readable and maintainable.\n",
    "\n",
    "\n"
   ]
  },
  {
   "cell_type": "markdown",
   "id": "e5cc7a74-09bb-4110-a14c-69b2f338c288",
   "metadata": {},
   "source": [
    "## Q5. What is inheritance? Give an example for each type of inheritance."
   ]
  },
  {
   "cell_type": "raw",
   "id": "f6441188-c131-4625-8fee-2029f84a5f06",
   "metadata": {},
   "source": [
    "Inheritance is one of the four pillars of object-oriented programming (OOP) and is a mechanism that allows a new class to inherit the properties and behaviors of an existing class. This promotes code reuse and establishes a relationship between the classes involved. There are different types of inheritance:\n",
    "\n",
    "--> Single Inheritance:\n",
    "\n",
    "In single inheritance, a class inherits from only one base class. The derived class, also called the subclass or child class, inherits the attributes and methods of the single base class."
   ]
  },
  {
   "cell_type": "code",
   "execution_count": 4,
   "id": "c0f69a27-3cdf-4c57-99f4-3dc5f9392380",
   "metadata": {},
   "outputs": [
    {
     "name": "stdout",
     "output_type": "stream",
     "text": [
      "Animal speaks\n",
      "Dog barks\n"
     ]
    }
   ],
   "source": [
    "# Single Inheritance Example\n",
    "\n",
    "# Base class\n",
    "class Animal:\n",
    "    def speak(self):\n",
    "        print(\"Animal speaks\")\n",
    "\n",
    "# Derived class inheriting from Animal\n",
    "class Dog(Animal):\n",
    "    def bark(self):\n",
    "        print(\"Dog barks\")\n",
    "\n",
    "# Creating an instance of Dog\n",
    "my_dog = Dog()\n",
    "\n",
    "# Accessing methods\n",
    "my_dog.speak()  # Inherited from Animal\n",
    "my_dog.bark()   # Defined in Dog class\n"
   ]
  },
  {
   "cell_type": "raw",
   "id": "4abb18d8-18c9-4f11-b060-21d6df58588c",
   "metadata": {},
   "source": [
    "--> Multiple Inheritance:\n",
    "\n",
    "In multiple inheritance, a class can inherit from more than one base class. The derived class inherits attributes and methods from multiple classes."
   ]
  },
  {
   "cell_type": "code",
   "execution_count": 5,
   "id": "2fb43ff3-e7bf-4c39-9ba8-d4fd33b32b6a",
   "metadata": {},
   "outputs": [
    {
     "name": "stdout",
     "output_type": "stream",
     "text": [
      "Animal speaks\n",
      "Bird flies\n",
      "Parrot sings\n"
     ]
    }
   ],
   "source": [
    "# Multiple Inheritance Example\n",
    "\n",
    "# Base class 1\n",
    "class Animal:\n",
    "    def speak(self):\n",
    "        print(\"Animal speaks\")\n",
    "\n",
    "# Base class 2\n",
    "class Bird:\n",
    "    def fly(self):\n",
    "        print(\"Bird flies\")\n",
    "\n",
    "# Derived class inheriting from both Animal and Bird\n",
    "class Parrot(Animal, Bird):\n",
    "    def sing(self):\n",
    "        print(\"Parrot sings\")\n",
    "\n",
    "# Creating an instance of Parrot\n",
    "my_parrot = Parrot()\n",
    "\n",
    "# Accessing methods\n",
    "my_parrot.speak()  # Inherited from Animal\n",
    "my_parrot.fly()    # Inherited from Bird\n",
    "my_parrot.sing()   # Defined in Parrot class\n"
   ]
  },
  {
   "cell_type": "raw",
   "id": "98a1ebef-9d52-4eb7-bfb9-451dbd30c8da",
   "metadata": {},
   "source": [
    "--> Multilevel Inheritance:\n",
    "\n",
    "In multilevel inheritance, a class inherits from another class, and then another class inherits from the derived class. It forms a chain of inheritance."
   ]
  },
  {
   "cell_type": "code",
   "execution_count": 6,
   "id": "4aac22ea-b776-4d69-9b19-3bb0fdbd5876",
   "metadata": {},
   "outputs": [
    {
     "name": "stdout",
     "output_type": "stream",
     "text": [
      "Animal speaks\n",
      "Dog barks\n",
      "Bulldog guards\n"
     ]
    }
   ],
   "source": [
    "# Multilevel Inheritance Example\n",
    "\n",
    "# Base class\n",
    "class Animal:\n",
    "    def speak(self):\n",
    "        print(\"Animal speaks\")\n",
    "\n",
    "# Intermediate class inheriting from Animal\n",
    "class Dog(Animal):\n",
    "    def bark(self):\n",
    "        print(\"Dog barks\")\n",
    "\n",
    "# Derived class inheriting from Dog\n",
    "class Bulldog(Dog):\n",
    "    def guard(self):\n",
    "        print(\"Bulldog guards\")\n",
    "\n",
    "# Creating an instance of Bulldog\n",
    "my_bulldog = Bulldog()\n",
    "\n",
    "# Accessing methods\n",
    "my_bulldog.speak()  # Inherited from Animal through Dog\n",
    "my_bulldog.bark()   # Inherited from Dog\n",
    "my_bulldog.guard()  # Defined in Bulldog class\n"
   ]
  }
 ],
 "metadata": {
  "kernelspec": {
   "display_name": "Python 3 (ipykernel)",
   "language": "python",
   "name": "python3"
  },
  "language_info": {
   "codemirror_mode": {
    "name": "ipython",
    "version": 3
   },
   "file_extension": ".py",
   "mimetype": "text/x-python",
   "name": "python",
   "nbconvert_exporter": "python",
   "pygments_lexer": "ipython3",
   "version": "3.10.8"
  }
 },
 "nbformat": 4,
 "nbformat_minor": 5
}
