{
 "cells": [
  {
   "cell_type": "markdown",
   "id": "bdc6f079-879b-45b1-bd1c-14bebda45a67",
   "metadata": {},
   "source": [
    "# Assignment 29th Jan"
   ]
  },
  {
   "cell_type": "markdown",
   "id": "60e7f1a1-a8fe-4fab-86d3-42c89eab503f",
   "metadata": {},
   "source": [
    " ## Who developed python programming language?"
   ]
  },
  {
   "cell_type": "code",
   "execution_count": null,
   "id": "47a15c27-dfc6-467b-a80c-11f22443692b",
   "metadata": {},
   "outputs": [],
   "source": [
    "Python was developed by Guido van Rossum. "
   ]
  },
  {
   "cell_type": "markdown",
   "id": "c91e40ba-be63-4253-9a88-d45070836668",
   "metadata": {},
   "source": [
    "## Which type of programming does python support?"
   ]
  },
  {
   "cell_type": "raw",
   "id": "9b280d9e-ddc6-419c-883b-cce3ee65236d",
   "metadata": {},
   "source": [
    "Python supports multiple programming paradigms, including:\n",
    "\n",
    "Imperative Programming: This paradigm involves writing code that explicitly describes the steps the computer must take to achieve the desired state or perform a task.\n",
    "\n",
    "Object-Oriented Programming (OOP): Python supports OOP, which is a paradigm based on the concept of \"objects\" that can contain data and methods to manipulate that data. This approach helps in organizing complex programs, making them more modular and easier to maintain.\n",
    "\n",
    "Functional Programming: Python supports functional programming, which treats computation as the evaluation of mathematical functions and avoids changing state and mutable data. Python includes features like first-class functions, higher-order functions, and tools like map(), filter(), and reduce() to support this paradigm.\n",
    "\n",
    "Procedural Programming: This is a subset of imperative programming that focuses on procedures or routines to operate on data. Python's syntax and structure make it easy to write and understand procedural code."
   ]
  },
  {
   "cell_type": "markdown",
   "id": "9fb3e8f2-3f34-4bb6-a094-11520fa8665e",
   "metadata": {},
   "source": [
    "## Is Python case sensitive when dealing with identifiers?"
   ]
  },
  {
   "cell_type": "raw",
   "id": "dd1b14a5-e799-4674-8559-922f0b24a697",
   "metadata": {},
   "source": [
    "Yes, Python is case-sensitive when dealing with identifiers. This means that the language distinguishes between identifiers based on their capitalization. For example, Variable, variable, and VARIABLE would be considered three different identifiers in Python, each potentially representing a different object or value. This case sensitivity applies to variable names, function names, class names, and other identifiers."
   ]
  },
  {
   "cell_type": "markdown",
   "id": "d76564b2-49fd-4676-aff3-8bb4ae71e756",
   "metadata": {},
   "source": [
    " ## What is the correct extension of python file"
   ]
  },
  {
   "cell_type": "raw",
   "id": "c12772c5-2912-408f-a9f2-59f7820fb448",
   "metadata": {},
   "source": [
    "The correct file extension for a Python file is .py. "
   ]
  },
  {
   "cell_type": "markdown",
   "id": "c5e99d56-ad90-4169-b643-27c60e67040c",
   "metadata": {},
   "source": [
    "## is python code compiled or interpreted?"
   ]
  },
  {
   "cell_type": "raw",
   "id": "ad0bc52d-2b55-409a-a249-a18c92d09377",
   "metadata": {},
   "source": [
    "Python is primarily an interpreted language, but it also involves a compilation step. "
   ]
  },
  {
   "cell_type": "markdown",
   "id": "93ab1d18-27d8-4a55-9736-7660d12edb21",
   "metadata": {},
   "source": [
    "## Name a few blocks of code used to define in python language?"
   ]
  },
  {
   "cell_type": "raw",
   "id": "ebcd4659-347f-469d-8a4d-34278d920a7c",
   "metadata": {},
   "source": [
    "\n",
    "In Python, blocks of code are used to define different structures and functionalities. Here are a few common blocks of code:\n",
    "\n",
    "def function_name(parameters):\n",
    "    # Code block\n",
    "    statement1\n",
    "    statement2\n",
    "    \n",
    "class ClassName:\n",
    "    def __init__(self, parameters):\n",
    "        # Constructor code block\n",
    "        self.attribute = value\n",
    "\n",
    "    def method(self):\n",
    "        # Method code block\n",
    "        statement1\n",
    "        statement2\n",
    "        \n",
    "if condition:\n",
    "    # Code block for if\n",
    "    statement1\n",
    "elif another_condition:\n",
    "    # Code block for elif\n",
    "    statement2\n",
    "else:\n",
    "    # Code block for else\n",
    "    statement3\n"
   ]
  },
  {
   "cell_type": "markdown",
   "id": "538eda3d-ff17-4b4f-9d42-970de4dba195",
   "metadata": {},
   "source": [
    "## State a character used to give single line comments in Python ?"
   ]
  },
  {
   "cell_type": "raw",
   "id": "477bfe99-4857-4327-9759-b197f9205ac7",
   "metadata": {},
   "source": [
    "In Python, the character used to give single-line comments is the hash symbol #."
   ]
  },
  {
   "cell_type": "markdown",
   "id": "85b85f7a-0ec5-44d0-a684-e8039e5b4422",
   "metadata": {},
   "source": [
    "## Mention functions which can help us to find the current version of python that we are currently working on?\n",
    "\n"
   ]
  },
  {
   "cell_type": "raw",
   "id": "988d277c-9a10-45fd-abe0-6f0936a7fbc8",
   "metadata": {},
   "source": [
    "sys.version\n",
    "sys.version_info\n",
    "platform.python_version()"
   ]
  },
  {
   "cell_type": "markdown",
   "id": "5e2fc00f-dd53-49cf-a7d9-382033d7c8c8",
   "metadata": {},
   "source": [
    "## Python supports the creation of anonymous functions at runtime,usinga construct called\n",
    "\n"
   ]
  },
  {
   "cell_type": "raw",
   "id": "0cee912f-9d93-4600-9b36-3b5f3f8a65ff",
   "metadata": {},
   "source": [
    "Python supports the creation of anonymous functions at runtime using a construct called a lambda function."
   ]
  },
  {
   "cell_type": "markdown",
   "id": "089726a8-e76a-4f30-ad83-f53c35b5f84b",
   "metadata": {},
   "source": [
    "##\tWhat does pip stand for python?\n"
   ]
  },
  {
   "cell_type": "raw",
   "id": "8537277a-f2cd-4236-baa1-ab3fd77cce3a",
   "metadata": {},
   "source": [
    "In Python, pip stands for \"Pip Installs Packages\" or \"Pip Installs Python\". It is a package management system used to install and manage software packages written in Python. Pip is the standard tool for installing and managing Python libraries and dependencies from the Python Package Index (PyPI)."
   ]
  },
  {
   "cell_type": "markdown",
   "id": "740826d8-cd0b-4ec1-8c55-756a5b2fc84d",
   "metadata": {},
   "source": [
    "## Mention few inbuilt-In functions In python?\n"
   ]
  },
  {
   "cell_type": "raw",
   "id": "2c715a98-f80e-4d2b-9ebe-baa7e57cfba5",
   "metadata": {},
   "source": [
    "Python has a rich set of built-in functions that provide various functionalities. Here are a few commonly used built-in functions:\n",
    "\n",
    "print(): Outputs data to the console.\n",
    "len(): Returns the length (number of items) of an object.\n",
    "type(): Returns the type of an object"
   ]
  },
  {
   "cell_type": "markdown",
   "id": "257adbc2-a79c-4281-a9d6-4fe8b41176d0",
   "metadata": {},
   "source": [
    "##\tWhat is the maximum possible length of an Identifier in Python?\n"
   ]
  },
  {
   "cell_type": "raw",
   "id": "8ab023b0-9c3e-40fd-9460-e58ab7312968",
   "metadata": {},
   "source": [
    "In Python, there is no explicit limit on the length of an identifier (variable name, function name, etc.) imposed by the language itself. Identifiers can theoretically be as long as you need them to be. However, practical limits are generally constrained by:\n",
    "\n",
    "Readability: Extremely long identifiers can make code difficult to read and maintain. It’s a good practice to use meaningful but concise names.\n",
    "\n",
    "Operating System and Compiler Limits: The limits may be influenced by the operating system or compiler being used, but these are typically very large and not usually a concern in typical use cases."
   ]
  },
  {
   "cell_type": "markdown",
   "id": "82823bfc-c4e1-419d-b440-c33335b655b8",
   "metadata": {},
   "source": [
    "##\tWhat are the benefits of using Python?\n"
   ]
  },
  {
   "cell_type": "raw",
   "id": "39ad146f-5563-46c1-a8bc-5a50821dd177",
   "metadata": {},
   "source": [
    "Python offers numerous benefits that make it a popular choice for a wide range of applications. Here are some of the key advantages:\n",
    "\n",
    "Readability and Simplicity:\n",
    "\n",
    "Python’s syntax is clear and easy to understand, which makes it a great language for beginners and facilitates code maintenance.\n",
    "Versatility:\n",
    "\n",
    "Python is a general-purpose language that can be used for web development, data analysis, machine learning, automation, scientific computing, and more.\n",
    "Extensive Libraries and Frameworks:\n",
    "\n",
    "Python has a rich ecosystem of libraries and frameworks (e.g., Django, Flask, NumPy, pandas, TensorFlow) that support various applications and reduce the need for reinventing the wheel.\n",
    "Cross-Platform Compatibility:\n",
    "\n",
    "Python is available on various operating systems, including Windows, macOS, and Linux, allowing for cross-platform development.\n",
    "Community Support:\n",
    "\n",
    "Python has a large and active community, which means ample resources, tutorials, and support are available. This helps in troubleshooting and learning.\n",
    "Integration Capabilities:\n",
    "\n",
    "Python can easily integrate with other languages and technologies. For example, it can interface with C/C++ code and can be used in web development with JavaScript and HTML.\n",
    "Rapid Development:\n",
    "\n",
    "Python's high-level nature and extensive standard library enable rapid prototyping and development, making it easier to quickly turn ideas into functional applications.\n",
    "Dynamic Typing:\n",
    "\n",
    "Python’s dynamic typing allows for more flexible and less verbose code, as variables do not need explicit type declarations.\n",
    "Interpreted Language:\n",
    "\n",
    "Being an interpreted language, Python allows for interactive testing and debugging, which speeds up development and testing cycles.\n",
    "Support for Object-Oriented Programming (OOP):\n",
    "\n",
    "Python supports OOP principles, which helps in organizing code and managing complex software projects through the use of classes and objects.\n",
    "Easy to Learn:\n",
    "\n",
    "Python’s straightforward syntax and structure make it one of the easiest programming languages to learn, especially for those new to programming.\n",
    "Versatile Use Cases:\n",
    "\n",
    "Python is used in various domains such as web development, data science, artificial intelligence, scientific computing, automation, and more, making it a versatile tool for different types of projects."
   ]
  },
  {
   "cell_type": "markdown",
   "id": "3e8a9d48-9b60-44b2-b3d4-bd98fac700bc",
   "metadata": {},
   "source": [
    "##\tHow is memory managed in Python?\n"
   ]
  },
  {
   "cell_type": "raw",
   "id": "f74b88f9-9a29-4a7e-976f-e1a7f5a284b0",
   "metadata": {},
   "source": [
    "Python manages memory using:\n",
    "\n",
    "Reference Counting: Keeps track of the number of references to each object. When the reference count drops to zero, memory is freed.\n",
    "\n",
    "Garbage Collection: Handles circular references and cleans up unused objects through a cyclic garbage collector.\n",
    "\n",
    "Memory Pools: Uses memory pools and a private heap to optimize memory allocation, especially for small objects.\n",
    "\n",
    "Automatic Management: Memory allocation and deallocation are automatic, reducing the need for manual management.\n",
    "\n",
    "These mechanisms work together to efficiently manage memory and reduce overhead."
   ]
  },
  {
   "cell_type": "markdown",
   "id": "3e362f2f-b63f-4fc1-9465-11d4189cb11d",
   "metadata": {},
   "source": [
    "##\tHow to Install Python on Windows and set path variables?\n"
   ]
  },
  {
   "cell_type": "raw",
   "id": "d3bd4821-bb6e-4f0f-94b3-340a498bdca0",
   "metadata": {},
   "source": [
    "To install Python on Windows and set path variables:\n",
    "\n",
    "Download Python:\n",
    "\n",
    "Go to python.org and download the latest installer for Windows.\n",
    "Run the Installer:\n",
    "\n",
    "Double-click the installer.\n",
    "Check \"Add Python to PATH\".\n",
    "Click \"Install Now\".\n",
    "Verify Installation:\n",
    "\n",
    "Open Command Prompt and run python --version and pip --version to check that Python and pip are installed correctly.\n",
    "Manually Set PATH (if needed):\n",
    "\n",
    "If you didn't check \"Add Python to PATH,\" go to System Properties > Environment Variables, edit the Path variable, and add the Python and Scripts paths."
   ]
  },
  {
   "cell_type": "markdown",
   "id": "181a27b4-a323-49e8-86ca-894d5d3bbcee",
   "metadata": {},
   "source": [
    "##\tIs Indentation required in python?"
   ]
  },
  {
   "cell_type": "raw",
   "id": "50d501a1-17d6-411d-86c7-8c0dbf3c18a6",
   "metadata": {},
   "source": [
    "Yes, indentation is required in Python. It is used to define the structure and grouping of code blocks. Unlike many other programming languages that use braces {} to denote code blocks, Python uses indentation to indicate the beginning and end of blocks of code, such as those within functions, loops, conditionals, and classes."
   ]
  },
  {
   "cell_type": "code",
   "execution_count": null,
   "id": "6b7c5003-09c9-4fbb-b5a1-f2bb8e413677",
   "metadata": {},
   "outputs": [],
   "source": []
  }
 ],
 "metadata": {
  "kernelspec": {
   "display_name": "Python 3 (ipykernel)",
   "language": "python",
   "name": "python3"
  },
  "language_info": {
   "codemirror_mode": {
    "name": "ipython",
    "version": 3
   },
   "file_extension": ".py",
   "mimetype": "text/x-python",
   "name": "python",
   "nbconvert_exporter": "python",
   "pygments_lexer": "ipython3",
   "version": "3.10.8"
  }
 },
 "nbformat": 4,
 "nbformat_minor": 5
}
