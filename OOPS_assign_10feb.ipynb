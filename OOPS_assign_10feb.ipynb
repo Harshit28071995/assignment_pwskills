{
 "cells": [
  {
   "cell_type": "code",
   "execution_count": null,
   "id": "bf00e9b9-8fc3-42d5-9075-240db8832497",
   "metadata": {},
   "outputs": [],
   "source": [
    "Q1. Which function is used to open a file? What are the different modes of opening a file? Explain each mode\n",
    "of file opening.\n"
   ]
  },
  {
   "cell_type": "markdown",
   "id": "b30ea48d-41ae-4e4e-b444-46d6b8b82ad5",
   "metadata": {},
   "source": [
    "Different Modes of Opening a File:\n",
    "\n",
    "r (Read Mode):\n",
    "\n",
    "Opens the file for reading. The file pointer is placed at the beginning of the file.\n",
    "The file must exist; otherwise, it will throw an error.\n",
    "\n",
    "w (Write Mode):\n",
    "\n",
    "Opens the file for writing. The file pointer is placed at the beginning of the file.\n",
    "If the file exists, its content is truncated. If the file does not exist, a new file is created.\n",
    "\n",
    "a (Append Mode):\n",
    "\n",
    "Opens the file for appending. The file pointer is at the end of the file if it exists.\n",
    "If the file does not exist, it creates a new file.\n",
    "x (Exclusive Creation Mode):\n",
    "\n",
    "Opens the file for exclusive creation. If the file exists, the operation fails.\n",
    "\n",
    "b (Binary Mode):\n",
    "\n",
    "This mode is used to open a file in binary format. This mode can be combined with other modes (e.g., rb, wb).\n",
    "\n",
    "t (Text Mode):\n",
    "\n",
    "This is the default mode. It opens the file in text mode.\n",
    "+ (Update Mode):\n",
    "\n",
    "This mode is used to open a file for both reading and writing. It can be combined with other modes (e.g., r+, w+)."
   ]
  },
  {
   "cell_type": "code",
   "execution_count": null,
   "id": "5e4c03dc-0ef6-4cdc-acbb-044f7aa7828a",
   "metadata": {},
   "outputs": [],
   "source": [
    "Q2. Why close() function is used? Why is it important to close a file?\n"
   ]
  },
  {
   "cell_type": "markdown",
   "id": "3a1d1739-ca6e-4230-9722-cadf4dee0ef8",
   "metadata": {},
   "source": [
    "The close() function is used to close an open file. It is important to close a file because:\n",
    "\n",
    "It ensures that all data is written from the buffer to the file.\n",
    "It frees up system resources that are being used by the file.\n",
    "It prevents potential file corruption or data loss by ensuring that the file is properly saved and not left in an inconsistent state."
   ]
  },
  {
   "cell_type": "code",
   "execution_count": null,
   "id": "a7175778-7817-43d2-9416-9497c3e9098e",
   "metadata": {},
   "outputs": [],
   "source": [
    "Q3. Write a python program to create a text file. Write ‘I want to become a Data Scientist’ in that file. Then\n",
    "close the file. Open this file and read the content of the file.\n"
   ]
  },
  {
   "cell_type": "code",
   "execution_count": 5,
   "id": "267e7bc5-19f6-48a2-9c01-205603d9f70e",
   "metadata": {},
   "outputs": [
    {
     "name": "stdout",
     "output_type": "stream",
     "text": [
      "I want to become a Data Scientist\n"
     ]
    }
   ],
   "source": [
    "# Writing to a file\n",
    "file = open('example.txt', 'w')\n",
    "file.write('I want to become a Data Scientist')\n",
    "file.close()\n",
    "\n",
    "# Reading from the file\n",
    "file = open('example.txt', 'r')\n",
    "content = file.read()\n",
    "print(content)\n",
    "file.close()\n"
   ]
  },
  {
   "cell_type": "code",
   "execution_count": 6,
   "id": "6a99435e-e207-4a24-8a17-c03878ffcba4",
   "metadata": {},
   "outputs": [
    {
     "ename": "SyntaxError",
     "evalue": "invalid syntax (3959639389.py, line 1)",
     "output_type": "error",
     "traceback": [
      "\u001b[0;36m  Cell \u001b[0;32mIn[6], line 1\u001b[0;36m\u001b[0m\n\u001b[0;31m    Q4. Explain the following with python code: read(), readline() and readlines().\u001b[0m\n\u001b[0m                ^\u001b[0m\n\u001b[0;31mSyntaxError\u001b[0m\u001b[0;31m:\u001b[0m invalid syntax\n"
     ]
    }
   ],
   "source": [
    "Q4. Explain the following with python code: read(), readline() and readlines()."
   ]
  },
  {
   "cell_type": "code",
   "execution_count": 8,
   "id": "93edcc56-8c79-4d23-94de-6cd97e6f2eeb",
   "metadata": {},
   "outputs": [
    {
     "name": "stdout",
     "output_type": "stream",
     "text": [
      "I want to become a Data Scientist\n"
     ]
    }
   ],
   "source": [
    "# read(): Reads the entire content of the file as a single string.\n",
    "\n",
    "with open('example.txt', 'r') as file:\n",
    "    content = file.read()\n",
    "    print(content)\n"
   ]
  },
  {
   "cell_type": "code",
   "execution_count": 9,
   "id": "bf23a733-a7f7-4467-928e-d6aec1e110fc",
   "metadata": {},
   "outputs": [
    {
     "name": "stdout",
     "output_type": "stream",
     "text": [
      "I want to become a Data Scientist\n"
     ]
    }
   ],
   "source": [
    "# readline(): Reads a single line from the file.\n",
    "with open('example.txt', 'r') as file:\n",
    "    line = file.readline()\n",
    "    print(line)\n"
   ]
  },
  {
   "cell_type": "code",
   "execution_count": 10,
   "id": "dfcc78e5-616d-4a0f-bdfb-3964144c50d8",
   "metadata": {},
   "outputs": [
    {
     "name": "stdout",
     "output_type": "stream",
     "text": [
      "['I want to become a Data Scientist']\n"
     ]
    }
   ],
   "source": [
    "# readlines(): Reads all the lines of the file and returns them as a list of strings.\n",
    "with open('example.txt', 'r') as file:\n",
    "    lines = file.readlines()\n",
    "    print(lines)\n",
    "\n"
   ]
  },
  {
   "cell_type": "code",
   "execution_count": null,
   "id": "1ebcb510-4c8c-41ff-a782-3ea1fb740b2d",
   "metadata": {},
   "outputs": [],
   "source": [
    "Q5. Explain why with statement is used with open(). What is the advantage of using with statement and\n",
    "open() together?\n"
   ]
  },
  {
   "cell_type": "markdown",
   "id": "d9388aec-10fd-4302-a6f9-01f1dd8e8bf3",
   "metadata": {},
   "source": [
    "The with statement is used with open() to ensure that the file is properly closed after its suite finishes. This is beneficial because:\n",
    "\n",
    "It simplifies the code by automatically closing the file, even if an error occurs.\n",
    "It ensures better resource management and avoids potential memory leaks."
   ]
  },
  {
   "cell_type": "code",
   "execution_count": null,
   "id": "b2b187bc-f87d-4580-9786-99dd7e6a57cf",
   "metadata": {},
   "outputs": [],
   "source": [
    "Q6. Explain the write() and writelines() functions. Give a suitable example."
   ]
  },
  {
   "cell_type": "code",
   "execution_count": 13,
   "id": "6d0b98f4-f87d-4329-b477-9f0116a779b1",
   "metadata": {},
   "outputs": [],
   "source": [
    "#write(): Writes a single string to the file.\n",
    "with open('example.txt', 'w') as file:\n",
    "    file.write('I want to become a Data Scientist')"
   ]
  },
  {
   "cell_type": "code",
   "execution_count": 14,
   "id": "26460b74-7752-4b05-8436-62dba0962e58",
   "metadata": {},
   "outputs": [],
   "source": [
    "#writelines(): Writes a list of strings to the file.\n",
    "lines = ['I want to become a Data Scientist\\n', 'I love Python\\n', 'Data Science is fascinating\\n']\n",
    "with open('example.txt', 'w') as file:\n",
    "    file.writelines(lines)"
   ]
  },
  {
   "cell_type": "markdown",
   "id": "cadf6ea2-9949-4b91-ab0e-610ff934c590",
   "metadata": {},
   "source": [
    "Each function and method provides different ways to handle file operations, giving flexibility depending on the specific requirements of the task at hand."
   ]
  },
  {
   "cell_type": "code",
   "execution_count": null,
   "id": "a9967577-01b3-43e9-8af7-74ac375ee5c9",
   "metadata": {},
   "outputs": [],
   "source": []
  }
 ],
 "metadata": {
  "kernelspec": {
   "display_name": "Python 3 (ipykernel)",
   "language": "python",
   "name": "python3"
  },
  "language_info": {
   "codemirror_mode": {
    "name": "ipython",
    "version": 3
   },
   "file_extension": ".py",
   "mimetype": "text/x-python",
   "name": "python",
   "nbconvert_exporter": "python",
   "pygments_lexer": "ipython3",
   "version": "3.10.8"
  }
 },
 "nbformat": 4,
 "nbformat_minor": 5
}
