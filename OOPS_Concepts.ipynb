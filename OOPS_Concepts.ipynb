{
 "cells": [
  {
   "cell_type": "markdown",
   "id": "1a25bfbe-6422-4d95-950b-1a0604537dc3",
   "metadata": {},
   "source": [
    "## OOPs Task"
   ]
  },
  {
   "cell_type": "markdown",
   "id": "ba6e6a21-a91c-4933-a308-81dc8c9c003c",
   "metadata": {},
   "source": [
    "Q1, Create a vehicle class with an init method having instance variables as name_of_vehicle, max_speed\n",
    "and average_of_vehicle.\n"
   ]
  },
  {
   "cell_type": "code",
   "execution_count": 1,
   "id": "96f01cfe-deba-48d1-8d8d-220848ea8035",
   "metadata": {},
   "outputs": [
    {
     "name": "stdout",
     "output_type": "stream",
     "text": [
      "Car 200 15\n"
     ]
    }
   ],
   "source": [
    "class Vehicle:\n",
    "    def __init__(self, name_of_vehicle, max_speed, average_of_vehicle):\n",
    "        self.name_of_vehicle = name_of_vehicle\n",
    "        self.max_speed = max_speed\n",
    "        self.average_of_vehicle = average_of_vehicle\n",
    "\n",
    "# Example of creating a Vehicle object\n",
    "vehicle = Vehicle(\"Car\", 200, 15)\n",
    "print(vehicle.name_of_vehicle, vehicle.max_speed, vehicle.average_of_vehicle)"
   ]
  },
  {
   "cell_type": "markdown",
   "id": "8a4da748-6b2b-4402-b17b-1ca7f28acf43",
   "metadata": {},
   "source": [
    "Q2. Create a child class car from the vehicle class created in Que 1, which will inherit the vehicle class.\n",
    "Create a method named seating_capacity which takes capacity as an argument and returns the name of\n",
    "the vehicle and its seating capacity.\n"
   ]
  },
  {
   "cell_type": "code",
   "execution_count": 2,
   "id": "20b294b3-c823-4f05-a4a0-ffad4df78aea",
   "metadata": {},
   "outputs": [
    {
     "name": "stdout",
     "output_type": "stream",
     "text": [
      "The Sedan has a seating capacity of 5.\n"
     ]
    }
   ],
   "source": [
    "class Car(Vehicle):\n",
    "    def seating_capacity(self, capacity):\n",
    "        return f\"The {self.name_of_vehicle} has a seating capacity of {capacity}.\"\n",
    "\n",
    "# Example of creating a Car object and calling the seating_capacity method\n",
    "car = Car(\"Sedan\", 180, 12)\n",
    "print(car.seating_capacity(5))\n"
   ]
  },
  {
   "cell_type": "markdown",
   "id": "085b2868-7756-4cb7-b3cf-5b80079235b6",
   "metadata": {},
   "source": [
    "Q3. What is multiple inheritance? Write a python code to demonstrate multiple inheritance.\n"
   ]
  },
  {
   "cell_type": "code",
   "execution_count": 5,
   "id": "92c6996a-507f-4e42-b42e-80c25d8ec9a0",
   "metadata": {},
   "outputs": [
    {
     "name": "stdout",
     "output_type": "stream",
     "text": [
      "Method from Base1\n",
      "Method from Base2\n",
      "Method from Derived\n"
     ]
    }
   ],
   "source": [
    "class Base1:\n",
    "    def method_base1(self):\n",
    "        return \"Method from Base1\"\n",
    "\n",
    "class Base2:\n",
    "    def method_base2(self):\n",
    "        return \"Method from Base2\"\n",
    "\n",
    "class Derived(Base1, Base2):\n",
    "    def method_derived(self):\n",
    "        return \"Method from Derived\"\n",
    "\n",
    "# Example of creating a Derived object and calling methods from both Base1 and Base2\n",
    "derived = Derived()\n",
    "print(derived.method_base1())\n",
    "print(derived.method_base2())\n",
    "print(derived.method_derived())\n"
   ]
  },
  {
   "cell_type": "markdown",
   "id": "a3a4ede4-1b63-49b1-8d4a-557eec584db1",
   "metadata": {},
   "source": [
    "Q4. What are getter and setter in python? Create a class and create a getter and a setter method in this\n",
    "class.\n"
   ]
  },
  {
   "cell_type": "markdown",
   "id": "f22e96b0-c61f-4923-8f20-45a79123b3ea",
   "metadata": {},
   "source": [
    "Getters and setters are methods used to access and modify the value of an attribute, respectively. They provide a way to add validation logic around getting and setting a value."
   ]
  },
  {
   "cell_type": "code",
   "execution_count": 4,
   "id": "15358ac5-cf7d-4210-aa96-036fb6378722",
   "metadata": {},
   "outputs": [
    {
     "name": "stdout",
     "output_type": "stream",
     "text": [
      "30\n",
      "35\n"
     ]
    }
   ],
   "source": [
    "class Person:\n",
    "    def __init__(self, name, age):\n",
    "        self._name = name\n",
    "        self._age = age\n",
    "\n",
    "    # Getter method for age\n",
    "    @property\n",
    "    def age(self):\n",
    "        return self._age\n",
    "\n",
    "    # Setter method for age\n",
    "    @age.setter\n",
    "    def age(self, value):\n",
    "        if value < 0:\n",
    "            raise ValueError(\"Age cannot be negative.\")\n",
    "        self._age = value\n",
    "\n",
    "# Example of using getter and setter methods\n",
    "person = Person(\"John\", 30)\n",
    "print(person.age)  # Calls the getter\n",
    "\n",
    "person.age = 35  # Calls the setter\n",
    "print(person.age)\n",
    "\n",
    "# This will raise a ValueError\n",
    "# person.age = -5\n"
   ]
  },
  {
   "cell_type": "markdown",
   "id": "a54049f3-3011-4024-a0c5-f75406378722",
   "metadata": {},
   "source": [
    "Q5.What is method overriding in python? Write a python code to demonstrate method overriding."
   ]
  },
  {
   "cell_type": "markdown",
   "id": "af0a9c35-3fd6-4d93-9a5a-a78977c19763",
   "metadata": {},
   "source": [
    "Method overriding is a feature in object-oriented programming that allows a subclass to provide a specific implementation of a method that is already defined in its superclass."
   ]
  },
  {
   "cell_type": "code",
   "execution_count": null,
   "id": "a817f21c-05ef-4781-9e4d-5e0235f11563",
   "metadata": {},
   "outputs": [],
   "source": []
  },
  {
   "cell_type": "code",
   "execution_count": null,
   "id": "75b22d73-f337-4307-a51f-656ad1110222",
   "metadata": {},
   "outputs": [],
   "source": []
  },
  {
   "cell_type": "code",
   "execution_count": null,
   "id": "fcd8f23d-0da0-4d90-a7d6-14a2a3793d5f",
   "metadata": {},
   "outputs": [],
   "source": []
  },
  {
   "cell_type": "code",
   "execution_count": null,
   "id": "fd8b8803-0484-44af-9d9d-92b3b0288aca",
   "metadata": {},
   "outputs": [],
   "source": []
  }
 ],
 "metadata": {
  "kernelspec": {
   "display_name": "Python 3 (ipykernel)",
   "language": "python",
   "name": "python3"
  },
  "language_info": {
   "codemirror_mode": {
    "name": "ipython",
    "version": 3
   },
   "file_extension": ".py",
   "mimetype": "text/x-python",
   "name": "python",
   "nbconvert_exporter": "python",
   "pygments_lexer": "ipython3",
   "version": "3.10.8"
  }
 },
 "nbformat": 4,
 "nbformat_minor": 5
}
