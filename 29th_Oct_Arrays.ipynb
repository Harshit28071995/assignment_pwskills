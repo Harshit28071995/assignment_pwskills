{
 "cells": [
  {
   "cell_type": "markdown",
   "id": "58644b39-5332-44c5-9389-de4d8f66d95c",
   "metadata": {},
   "source": [
    "# Arrays\n",
    "\n",
    "Assignment Questions"
   ]
  },
  {
   "cell_type": "markdown",
   "id": "c89b93d0-3755-4cdc-8ef9-78a8ae5f5665",
   "metadata": {},
   "source": [
    "1. Given an array, check if it contains any duplicates or not.\n",
    "arr = [1, 2, 4, 2, 5, 9]\n",
    "Output = True\n"
   ]
  },
  {
   "cell_type": "code",
   "execution_count": 2,
   "id": "5bde0239-1b25-42b8-9135-416981af0ca6",
   "metadata": {},
   "outputs": [
    {
     "name": "stdout",
     "output_type": "stream",
     "text": [
      "True\n"
     ]
    }
   ],
   "source": [
    "# it has a time complexity of 𝑂(𝑛) and a space complexity of 𝑂(𝑛).\n",
    "def contains_duplicates(arr):\n",
    "    element_count = {}  # Initializes an empty dictionary called element_count.\n",
    "                        # This dictionary will be used to keep track of the elements we have encountered in the array arr.\n",
    "    for element in arr:\n",
    "        if element in element_count:\n",
    "            return True\n",
    "        element_count[element] = 1\n",
    "    return False\n",
    "\n",
    "arr = [1, 2, 4, 2, 5, 9]\n",
    "print(contains_duplicates(arr))  \n"
   ]
  },
  {
   "cell_type": "markdown",
   "id": "22c3f3ca-12eb-400b-92e7-3ec3090f4038",
   "metadata": {},
   "source": [
    "2. Given an array and an integer k, rotate the array to the right by k steps.\n",
    "arr = [1, 2, 3, 4, 5, 6, 7] k = 3\n",
    "Output = [5, 6, 7, 1, 2, 3, 4]\n"
   ]
  },
  {
   "cell_type": "code",
   "execution_count": 9,
   "id": "aa79961a-14e4-400f-acb4-facc2593b0bf",
   "metadata": {},
   "outputs": [
    {
     "name": "stdout",
     "output_type": "stream",
     "text": [
      "[5, 6, 7, 1, 2, 3, 4]\n"
     ]
    }
   ],
   "source": [
    "# it has a time complexity of 𝑂(𝑛) and a space complexity of 𝑂(𝑛).\n",
    "\n",
    "def reverse(arr, start, end):\n",
    "    while start < end:\n",
    "        arr[start], arr[end] = arr[end], arr[start]\n",
    "        start += 1\n",
    "        end -= 1\n",
    "\n",
    "def rotate_array(arr, k):\n",
    "    n = len(arr)\n",
    "    k = k % n  # Handle cases where k is greater than the array length\n",
    "\n",
    "    # Step 1: Reverse the entire array\n",
    "    reverse(arr, 0, n - 1)\n",
    "    \n",
    "    # Step 2: Reverse the first k elements\n",
    "    reverse(arr, 0, k - 1)\n",
    "    \n",
    "    # Step 3: Reverse the remaining elements\n",
    "    reverse(arr, k, n - 1)\n",
    "\n",
    "# Example usage\n",
    "arr = [1, 2, 3, 4, 5, 6, 7]\n",
    "k = 3\n",
    "rotate_array(arr, k)\n",
    "print(arr)  # Output: [5, 6, 7, 1, 2, 3, 4]\n"
   ]
  },
  {
   "cell_type": "markdown",
   "id": "f5a5e6ba-1c87-48fb-807e-40cf8ea2bbc6",
   "metadata": {},
   "source": [
    "3. Reverse the given array in-place, means without using any extra data structure.\n",
    "arr = [2, 4, 5, 7, 9, 12]\n",
    "Output = [12, 9, 7, 5, 4, 2]\n",
    "\n"
   ]
  },
  {
   "cell_type": "code",
   "execution_count": 7,
   "id": "e696b47d-64b5-4e84-a459-6e0c4b51fd46",
   "metadata": {},
   "outputs": [
    {
     "name": "stdout",
     "output_type": "stream",
     "text": [
      "[12, 9, 7, 5, 4, 2]\n"
     ]
    }
   ],
   "source": [
    "# time complexity of O(n) and space complexity of O(1)\n",
    "def reverse_array(arr):\n",
    "    left = 0\n",
    "    right = len(arr) - 1\n",
    "    \n",
    "    while left < right:\n",
    "        # Swap elements at left and right pointers\n",
    "        arr[left], arr[right] = arr[right], arr[left]\n",
    "        \n",
    "        # Move the pointers towards the center\n",
    "        left += 1\n",
    "        right -= 1\n",
    "\n",
    "# Example usage\n",
    "arr = [2, 4, 5, 7, 9, 12]\n",
    "reverse_array(arr)\n",
    "print(arr)  \n"
   ]
  },
  {
   "cell_type": "markdown",
   "id": "ecc412db-182c-4f27-9b95-975dc8b2513b",
   "metadata": {},
   "source": [
    "4. Given an array of integers, find the maximum element in an array\n",
    "arr = [10, 5, 20, 8, 15]\n",
    "Output = 20\n",
    "\n"
   ]
  },
  {
   "cell_type": "code",
   "execution_count": 2,
   "id": "ec0628ab-de86-4379-adf7-095c94e0090d",
   "metadata": {},
   "outputs": [
    {
     "name": "stdout",
     "output_type": "stream",
     "text": [
      "20\n"
     ]
    }
   ],
   "source": [
    "# The max function maintains a single variable to store the maximum value found during the iteration.\n",
    "# time complexity of O(n) and space complexity of O(1)\n",
    "arr = [10, 5, 20, 8, 15]\n",
    "max_element = max(arr)\n",
    "print(max_element)  "
   ]
  },
  {
   "cell_type": "code",
   "execution_count": 5,
   "id": "fb4d0fdd-4380-421c-bc68-ee25ad20743e",
   "metadata": {},
   "outputs": [
    {
     "name": "stdout",
     "output_type": "stream",
     "text": [
      "20\n"
     ]
    }
   ],
   "source": [
    "# time complexity of O(n) and space complexity of O(1)\n",
    "def find_maximum(arr): \n",
    "    # Initialize the maximum element to the first element of the array\n",
    "    max_element = arr[0]\n",
    "    \n",
    "    # Iterate through the array starting from the second element\n",
    "    for element in arr[1:]:\n",
    "        # Update the maximum element if the current element is greater\n",
    "        if element > max_element:\n",
    "            max_element = element\n",
    "    \n",
    "    return max_element\n",
    "\n",
    "# Example usage\n",
    "arr = [10, 5, 20, 8, 15]\n",
    "print(find_maximum(arr))  # Output: 20\n"
   ]
  },
  {
   "cell_type": "markdown",
   "id": "cb10485d-526c-4e15-8b3d-b56d43ef6ecd",
   "metadata": {},
   "source": [
    "5. Given a sorted array, remove the duplicate element without using any extra data structure.\n",
    "arr = [1, 1, 2, 2, 2, 3, 3, 4, 4, 4, 5, 5]\n",
    "Output = [1, 2, 3, 4, 5]"
   ]
  },
  {
   "cell_type": "code",
   "execution_count": 10,
   "id": "1a554959-6442-4aa5-a56e-22adba7f86f8",
   "metadata": {},
   "outputs": [
    {
     "name": "stdout",
     "output_type": "stream",
     "text": [
      "[1, 2, 3, 4, 5]\n"
     ]
    }
   ],
   "source": [
    "# time complexity of O(n) and space complexity of O(1)\n",
    "\n",
    "def remove_duplicates(arr):\n",
    "    if not arr:\n",
    "        return []\n",
    "\n",
    "    # Initialize the write index\n",
    "    write_index = 1\n",
    "    \n",
    "    # Iterate through the array starting from the second element\n",
    "    for read_index in range(1, len(arr)):\n",
    "        # If the current element is different from the last unique element\n",
    "        if arr[read_index] != arr[read_index - 1]:\n",
    "            # Write the unique element at the write index\n",
    "            arr[write_index] = arr[read_index]\n",
    "            # Move the write index forward\n",
    "            write_index += 1\n",
    "    \n",
    "    # Return the array up to the last written unique element\n",
    "    return arr[:write_index]\n",
    "\n",
    "# Example usage\n",
    "arr = [1, 1, 2, 2, 2, 3, 3, 4, 4, 4, 5, 5]\n",
    "print(remove_duplicates(arr))  # Output: [1, 2, 3, 4, 5]\n"
   ]
  },
  {
   "cell_type": "code",
   "execution_count": null,
   "id": "e1adbcb0-6447-406a-96c6-8797c4c961eb",
   "metadata": {},
   "outputs": [],
   "source": []
  }
 ],
 "metadata": {
  "kernelspec": {
   "display_name": "Python 3 (ipykernel)",
   "language": "python",
   "name": "python3"
  },
  "language_info": {
   "codemirror_mode": {
    "name": "ipython",
    "version": 3
   },
   "file_extension": ".py",
   "mimetype": "text/x-python",
   "name": "python",
   "nbconvert_exporter": "python",
   "pygments_lexer": "ipython3",
   "version": "3.10.8"
  }
 },
 "nbformat": 4,
 "nbformat_minor": 5
}
