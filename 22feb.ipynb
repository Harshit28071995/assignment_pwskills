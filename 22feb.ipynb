{
 "cells": [
  {
   "cell_type": "code",
   "execution_count": null,
   "id": "c3875b81-2538-4c96-af7c-a39d4de39940",
   "metadata": {},
   "outputs": [],
   "source": [
    "Q1. Create a Pandas Series that contains the following data: 4, 8, 15, 16, 23, and 42. Then, print the series.\n",
    "\n",
    "import pandas as pd\n",
    "\n",
    "# Create a Pandas Series with the given data\n",
    "data = [4, 8, 15, 16, 23, 42]\n",
    "series = pd.Series(data)\n",
    "\n",
    "# Print the series\n",
    "print(series)\n",
    "\n",
    "Q2. Create a variable of list type containing 10 elements in it, and apply pandas.Series function on the\n",
    "variable print it.\n",
    "\n",
    "import pandas as pd\n",
    "# Create a list with 10 elements\n",
    "data_list = [1, 2, 3, 4, 5, 6, 7, 8, 9, 10]\n",
    "# Apply pandas.Series function on the list\n",
    "series_from_list = pd.Series(data_list)\n",
    "# Print the series\n",
    "print(series_from_list)\n",
    "\n",
    "\n",
    "\n",
    "Q3. Create a Pandas DataFrame that contains the following data: Then, print the DataFrame.\n",
    "Name\n",
    "\n",
    "import pandas as pd\n",
    "\n",
    "data = {\n",
    "    \"Name\": [\"Alice\", \"Bob\", \"Claire\"],\n",
    "    \"Age\": [25, 30, 27],\n",
    "    \"Gender\": [\"Female\", \"Male\", \"Female\"]\n",
    "}\n",
    "df = pd.DataFrame(data)\n",
    "print(df)\n",
    "\n",
    "output:\n",
    "    \n",
    "     Name  Age  Gender\n",
    "0   Alice   25  Female\n",
    "1     Bob   30    Male\n",
    "2  Claire   27  Female\n",
    "\n",
    "\n",
    "Q4. What is ‘DataFrame’ in pandas and how is it different from pandas.series? Explain with an example.\n",
    "A DataFrame in pandas is a two-dimensional, size-mutable, and potentially heterogeneous tabular data\n",
    "structure with labeled axes (rows and columns). It is similar to a table in a database or an Excel spreadsheet.\n",
    "A Series, on the other hand, is a one-dimensional array-like structure with an associated array of data labels, called its index.\n",
    "\n",
    "Differences:\n",
    "\n",
    "Dimensionality: A Series is one-dimensional, while a DataFrame is two-dimensional.\n",
    "Structure: A Series contains a single list of values, whereas a DataFrame contains multiple Series, one for each column.\n",
    "Usage: A Series is typically used for a single column of data, while a DataFrame is used for multi-column data.\n",
    "\n",
    "Q5. What are some common functions you can use to manipulate data in a Pandas DataFrame? Can\n",
    "you give an example of when you might use one of these functions?\n",
    "head(): To view the first few rows of the DataFrame.\n",
    "tail(): To view the last few rows of the DataFrame.\n",
    "describe(): To get a statistical summary of the DataFrame.\n",
    "info(): To get a concise summary of the DataFrame.\n",
    "drop(): To remove rows or columns.\n",
    "loc[] and iloc[]: To access rows and columns by labels or positions.\n",
    "groupby(): To group data by a specific column.\n",
    "merge(): To combine two DataFrames.\n",
    "\n",
    "Q6. Which of the following is mutable in nature Series, DataFrame, Panel?\n",
    "Both Series and DataFrame are mutable in nature. You can change their content after they are created. \n",
    "However, Panel has been deprecated since Pandas version 0.25.0 and is no longer in use.\n",
    "\n",
    "Q7. Create a DataFrame using multiple Series. Explain with an example.\n",
    "To create a DataFrame using multiple Series, you can combine them into\n",
    "a dictionary where the keys are the column names and the values are the Series."
   ]
  },
  {
   "cell_type": "code",
   "execution_count": 1,
   "id": "ceb3b810-37e2-4f2b-a4d9-093b2b4cbb41",
   "metadata": {},
   "outputs": [
    {
     "name": "stdout",
     "output_type": "stream",
     "text": [
      "     Name  Age  Gender\n",
      "0   Alice   25  Female\n",
      "1     Bob   30    Male\n",
      "2  Claire   27  Female\n"
     ]
    }
   ],
   "source": [
    "import pandas as pd\n",
    "\n",
    "data = {\n",
    "    \"Name\": [\"Alice\", \"Bob\", \"Claire\"],\n",
    "    \"Age\": [25, 30, 27],\n",
    "    \"Gender\": [\"Female\", \"Male\", \"Female\"]\n",
    "}\n",
    "\n",
    "df = pd.DataFrame(data)\n",
    "print(df)"
   ]
  },
  {
   "cell_type": "code",
   "execution_count": null,
   "id": "6f740365-1f6d-4e89-8c38-9265acc36120",
   "metadata": {},
   "outputs": [],
   "source": []
  }
 ],
 "metadata": {
  "kernelspec": {
   "display_name": "Python 3 (ipykernel)",
   "language": "python",
   "name": "python3"
  },
  "language_info": {
   "codemirror_mode": {
    "name": "ipython",
    "version": 3
   },
   "file_extension": ".py",
   "mimetype": "text/x-python",
   "name": "python",
   "nbconvert_exporter": "python",
   "pygments_lexer": "ipython3",
   "version": "3.10.8"
  }
 },
 "nbformat": 4,
 "nbformat_minor": 5
}
