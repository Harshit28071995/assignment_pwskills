{
 "cells": [
  {
   "cell_type": "markdown",
   "id": "38b6d007-acf6-4431-9797-152fb6ac3ac5",
   "metadata": {},
   "source": [
    "Q1. What is multiprocessing in python? Why is it useful?\n",
    "Multiprocessing in Python refers to the ability to run multiple processes concurrently, where each process operates independently and can run on separate CPU cores. Each process has its own memory space, which allows them to execute in parallel without interfering with each other.\n",
    "\n",
    "Parallelism: Takes advantage of multiple CPU cores to perform tasks simultaneously, improving performance for CPU-bound tasks.\n",
    "Isolation: Each process runs in its own memory space, reducing the risk of conflicts and bugs caused by shared memory.\n",
    "Avoids GIL: Overcomes the Global Interpreter Lock (GIL) limitation present in CPython, allowing true parallel execution of CPU-bound tasks.\n",
    "\n",
    "Q2. What are the differences between multiprocessing and multithreading?\n",
    "Concurrency vs. Parallelism:\n",
    "\n",
    "Multiprocessing: Achieves true parallelism by using multiple CPU cores. Each process runs independently and can execute on different cores.\n",
    "Multithreading: Achieves concurrency but not necessarily parallelism due to the GIL in CPython, which allows only one thread to execute Python bytecode at a time.\n",
    "Memory Space:\n",
    "\n",
    "Multiprocessing: Each process has its own memory space, leading to better isolation and reduced risk of data corruption.\n",
    "Multithreading: Threads share the same memory space, which can lead to issues like race conditions if not managed properly.\n",
    "Performance:\n",
    "\n",
    "Multiprocessing: Better suited for CPU-bound tasks where multiple cores can be fully utilized.\n",
    "Multithreading: Better suited for I/O-bound tasks where threads can wait for I/O operations while other threads continue execution.\n",
    "Overhead:\n",
    "\n",
    "Multiprocessing: Higher overhead due to the need to create separate memory spaces and manage inter-process communication.\n",
    "Multithreading: Lower overhead as threads share the same memory space.\n",
    "\n",
    "Q3. Write a python code to create a process using the multiprocessing module.\n",
    "\n",
    "import multiprocessing\n",
    "def print_message():\n",
    "    print(\"Hello from the process!\")\n",
    "process = multiprocessing.Process(target=print_message)\n",
    "process.start()\n",
    "process.join()\n",
    "\n",
    "Q4. What is a multiprocessing pool in python? Why is it used?\n",
    "A multiprocessing pool is a collection of worker processes that can be used to execute tasks in parallel. The Pool class in the multiprocessing module provides a convenient way to parallelize the execution of a function across multiple input values.\n",
    "\n",
    "Efficiency: Allows you to manage a pool of worker processes efficiently, reusing processes to execute multiple tasks.\n",
    "Simplification: Simplifies the process of distributing tasks among multiple processes and handling their results.\n",
    "\n",
    "Q5. How can we create a pool of worker processes in python using the multiprocessing module?\n",
    "\n",
    "Q6. Write a python program to create 4 processes, each process should print a different number using the\n",
    "multiprocessing module in python.\n"
   ]
  },
  {
   "cell_type": "code",
   "execution_count": null,
   "id": "67f04f8e-5d95-4f08-a3b5-96593e9948ce",
   "metadata": {},
   "outputs": [],
   "source": []
  }
 ],
 "metadata": {
  "kernelspec": {
   "display_name": "Python 3 (ipykernel)",
   "language": "python",
   "name": "python3"
  },
  "language_info": {
   "codemirror_mode": {
    "name": "ipython",
    "version": 3
   },
   "file_extension": ".py",
   "mimetype": "text/x-python",
   "name": "python",
   "nbconvert_exporter": "python",
   "pygments_lexer": "ipython3",
   "version": "3.10.8"
  }
 },
 "nbformat": 4,
 "nbformat_minor": 5
}
