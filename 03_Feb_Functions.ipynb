{
 "cells": [
  {
   "cell_type": "markdown",
   "id": "836a7b82-ae34-4984-8bd2-9f859bb88534",
   "metadata": {
    "tags": []
   },
   "source": [
    "# Functions _03_Feb"
   ]
  },
  {
   "cell_type": "markdown",
   "id": "e4dd7cfe-c40d-49e1-9a58-e6df19e97ada",
   "metadata": {},
   "source": [
    "## Q1. Which keyword is used to create a function? Create a function to return a list of odd numbers in the range of 1 to 25."
   ]
  },
  {
   "cell_type": "raw",
   "id": "b013edc3-7108-4fb7-bfae-2791566d85e0",
   "metadata": {},
   "source": [
    "def is the keyword used to create a function \n",
    "for example:"
   ]
  },
  {
   "cell_type": "code",
   "execution_count": 28,
   "id": "e62b659e-7513-426a-9a80-04c360b28dba",
   "metadata": {},
   "outputs": [
    {
     "data": {
      "text/plain": [
       "(1, 2)"
      ]
     },
     "execution_count": 28,
     "metadata": {},
     "output_type": "execute_result"
    }
   ],
   "source": [
    "def test(a,b):\n",
    " return a,b\n",
    "test(1,2)"
   ]
  },
  {
   "cell_type": "code",
   "execution_count": 37,
   "id": "ee3a701f-9837-4ba2-ab7f-b542feeb4c1e",
   "metadata": {},
   "outputs": [
    {
     "name": "stdout",
     "output_type": "stream",
     "text": [
      "[1, 3, 5, 7, 9, 11, 13, 15, 17, 19, 21, 23]\n"
     ]
    }
   ],
   "source": [
    "def test2():\n",
    "    l=[]\n",
    "    for i in range(1,25):\n",
    "        if i%2!=0:\n",
    "            l.append(i)\n",
    "    print (l)\n",
    "test2()"
   ]
  },
  {
   "cell_type": "markdown",
   "id": "aa88d472-a3e4-47d1-be3f-3d4b9e4167eb",
   "metadata": {},
   "source": [
    "## Q2. Why *args and **kwargs is used in some functions? Create a function each for *args and **kwargs to demonstrate their use."
   ]
  },
  {
   "cell_type": "raw",
   "id": "569513a8-4450-4e8b-b552-4de099c614ea",
   "metadata": {},
   "source": [
    "\n",
    " The *args in a function definition allows the function to accept any number of additional arguments. These additional arguments are then collected into a tuple.\n",
    "\n",
    " The **kwargs in a function definition allows the function to accept any number of additional keyword arguments. These additional keyword arguments are then collected into a dictionary.\n"
   ]
  },
  {
   "cell_type": "code",
   "execution_count": 10,
   "id": "31b67534-7f33-4820-a6ec-b34dffe88592",
   "metadata": {},
   "outputs": [
    {
     "name": "stdout",
     "output_type": "stream",
     "text": [
      "argument: apple\n",
      "arguments (tuple) (*args): ('orange', 'banana', 'grape')\n"
     ]
    }
   ],
   "source": [
    "def test(arg1, *args):\n",
    "    print(\"argument:\", arg1)\n",
    "    print(\"arguments (tuple) (*args):\", args)\n",
    "\n",
    "# Calling the function\n",
    "test(\"apple\", \"orange\", \"banana\", \"grape\")\n"
   ]
  },
  {
   "cell_type": "code",
   "execution_count": 4,
   "id": "30619a81-0d5b-459f-a7bb-002694ebe857",
   "metadata": {},
   "outputs": [
    {
     "name": "stdout",
     "output_type": "stream",
     "text": [
      "argument: apple\n",
      "arguments (**kwargs) ( dictionary) : {'fruit1': 'orange', 'fruit2': 'banana', 'fruit3': 'grape'}\n"
     ]
    }
   ],
   "source": [
    "\n",
    "def test2(arg1, **kwargs):\n",
    "    print(\"argument:\", arg1)\n",
    "    print(\"arguments (**kwargs) ( dictionary) :\", kwargs) \n",
    "\n",
    "# Calling the function\n",
    "test2(\"apple\", fruit1=\"orange\", fruit2=\"banana\", fruit3=\"grape\")\n"
   ]
  },
  {
   "cell_type": "markdown",
   "id": "faf6afdd-df66-4a97-9f22-3c899bf90d6b",
   "metadata": {},
   "source": [
    "## Q3. What is an iterator in python? Name the method used to initialise the iterator object and the method used for iteration. Use these methods to print the first five elements of the given list [2, 4, 6, 8, 10, 12, 14, 16,18, 20]."
   ]
  },
  {
   "cell_type": "raw",
   "id": "d5891ebc-5b28-4ee4-bef8-0f80c21ecd9d",
   "metadata": {},
   "source": [
    "\n",
    "An iterator in Python is an object that is used to iterate over iterable objects like lists, tuples, dicts, and sets. The Python iterators object is initialized using the iter() method. It uses the next() method for iteration.\n",
    "\n",
    "__iter__(): The iter() method is called for the initialization of an iterator. This returns an iterator object\n",
    "\n",
    "__next__(): The next method returns the next value for the iterable. When we use a for loop to traverse any iterable object, internally it uses the iter() method to get an iterator object, which further uses the next() method to iterate over. This method raises a StopIteration to signal the end of the iteration.\n"
   ]
  },
  {
   "cell_type": "code",
   "execution_count": 3,
   "id": "e36b89cb-18f1-4176-875f-027d5d653d09",
   "metadata": {},
   "outputs": [
    {
     "name": "stdout",
     "output_type": "stream",
     "text": [
      "2\n",
      "4\n",
      "6\n",
      "8\n",
      "10\n"
     ]
    }
   ],
   "source": [
    "my_list = [2, 4, 6, 8, 10, 12, 14, 16, 18, 20]\n",
    "\n",
    "\n",
    "# Use a for loop to directly iterate through the first five elements\n",
    "\n",
    "for element in my_list[:5]:\n",
    "    print(element)"
   ]
  },
  {
   "cell_type": "markdown",
   "id": "5eb532d0-431f-46ec-9ba7-c7c30150ab1f",
   "metadata": {},
   "source": [
    "## Q4. What is a generator function in python? Why yield keyword is used? Give an example of a generator function."
   ]
  },
  {
   "cell_type": "raw",
   "id": "29253145-1a03-4913-a924-192e62149db1",
   "metadata": {},
   "source": [
    "A generator function in Python is a special kind of function that returns an iterator called a generator. Unlike regular functions that execute and return a single result, a generator function can be paused and resumed. It allows you to iterate over a potentially infinite sequence of items without generating them all at once, which can be more memory-efficient.\n",
    "\n",
    "The yield keyword is used in a generator function to produce a sequence of values. When a generator function encounters a yield statement, it temporarily suspends its state, remembers where it left off, and yields the specified value. The next time the generator is called, it resumes execution from where it was paused."
   ]
  },
  {
   "cell_type": "code",
   "execution_count": 5,
   "id": "8da15e28-eb1f-4188-9753-751c0cf8db72",
   "metadata": {},
   "outputs": [
    {
     "name": "stdout",
     "output_type": "stream",
     "text": [
      "0\n",
      "1\n",
      "4\n",
      "9\n",
      "16\n"
     ]
    }
   ],
   "source": [
    "def generate_squares(limit):\n",
    "    n = 0\n",
    "    while n < limit:\n",
    "        yield n ** 2\n",
    "        n += 1\n",
    "\n",
    "# Using the generator function\n",
    "squares_generator = generate_squares(5)\n",
    "\n",
    "for square in squares_generator:\n",
    "    print(square)\n"
   ]
  },
  {
   "cell_type": "markdown",
   "id": "ba132096-3e3f-4e8f-9745-df0bcc0c6803",
   "metadata": {},
   "source": [
    "## Q5. Create a generator function for prime numbers less than 1000. Use the next() method to print the first 20 prime numbers."
   ]
  },
  {
   "cell_type": "code",
   "execution_count": 7,
   "id": "3222ef2c-6b35-464a-a745-373fa9c4272f",
   "metadata": {},
   "outputs": [
    {
     "name": "stdout",
     "output_type": "stream",
     "text": [
      "2\n",
      "3\n",
      "5\n",
      "7\n",
      "11\n",
      "13\n",
      "17\n",
      "19\n",
      "23\n",
      "29\n",
      "31\n",
      "37\n",
      "41\n",
      "43\n",
      "47\n",
      "53\n",
      "59\n",
      "61\n",
      "67\n",
      "71\n"
     ]
    }
   ],
   "source": [
    "def is_prime(num):\n",
    "    if num < 2:\n",
    "        return False\n",
    "    for i in range(2, int(num**0.5) + 1):\n",
    "        if num % i == 0:\n",
    "            return False\n",
    "    return True\n",
    "\n",
    "def generate_primes():\n",
    "    num = 2\n",
    "    while num < 1000:\n",
    "        if is_prime(num):\n",
    "            yield num\n",
    "        num += 1\n",
    "\n",
    "# Using the generator function to print the first 20 prime numbers\n",
    "prime_generator = generate_primes()\n",
    "\n",
    "for i in range(20):\n",
    "    next_prime = next(prime_generator)\n",
    "    print(next_prime)\n"
   ]
  },
  {
   "cell_type": "markdown",
   "id": "3dbe9406-42f0-4635-bdea-ac5a4a79369c",
   "metadata": {},
   "source": [
    "\n",
    "\n",
    "\n"
   ]
  }
 ],
 "metadata": {
  "kernelspec": {
   "display_name": "Python 3 (ipykernel)",
   "language": "python",
   "name": "python3"
  },
  "language_info": {
   "codemirror_mode": {
    "name": "ipython",
    "version": 3
   },
   "file_extension": ".py",
   "mimetype": "text/x-python",
   "name": "python",
   "nbconvert_exporter": "python",
   "pygments_lexer": "ipython3",
   "version": "3.10.8"
  }
 },
 "nbformat": 4,
 "nbformat_minor": 5
}
